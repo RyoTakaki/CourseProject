{
  "nbformat": 4,
  "nbformat_minor": 0,
  "metadata": {
    "colab": {
      "name": "SarcasmClassification.ipynb",
      "provenance": [],
      "toc_visible": true
    },
    "kernelspec": {
      "name": "python3",
      "display_name": "Python 3"
    },
    "accelerator": "GPU",
    "widgets": {
      "application/vnd.jupyter.widget-state+json": {
        "058dc643bf0e4ee4be9a0eb8ad2e2f0e": {
          "model_module": "@jupyter-widgets/controls",
          "model_name": "HBoxModel",
          "state": {
            "_view_name": "HBoxView",
            "_dom_classes": [],
            "_model_name": "HBoxModel",
            "_view_module": "@jupyter-widgets/controls",
            "_model_module_version": "1.5.0",
            "_view_count": null,
            "_view_module_version": "1.5.0",
            "box_style": "",
            "layout": "IPY_MODEL_dbbb67cfabce40bbbaae8b025de4df99",
            "_model_module": "@jupyter-widgets/controls",
            "children": [
              "IPY_MODEL_d8164df6c7a94cd2950af593f2c58398",
              "IPY_MODEL_9a448c131d814973a73c213205b379b1"
            ]
          }
        },
        "dbbb67cfabce40bbbaae8b025de4df99": {
          "model_module": "@jupyter-widgets/base",
          "model_name": "LayoutModel",
          "state": {
            "_view_name": "LayoutView",
            "grid_template_rows": null,
            "right": null,
            "justify_content": null,
            "_view_module": "@jupyter-widgets/base",
            "overflow": null,
            "_model_module_version": "1.2.0",
            "_view_count": null,
            "flex_flow": null,
            "width": null,
            "min_width": null,
            "border": null,
            "align_items": null,
            "bottom": null,
            "_model_module": "@jupyter-widgets/base",
            "top": null,
            "grid_column": null,
            "overflow_y": null,
            "overflow_x": null,
            "grid_auto_flow": null,
            "grid_area": null,
            "grid_template_columns": null,
            "flex": null,
            "_model_name": "LayoutModel",
            "justify_items": null,
            "grid_row": null,
            "max_height": null,
            "align_content": null,
            "visibility": null,
            "align_self": null,
            "height": null,
            "min_height": null,
            "padding": null,
            "grid_auto_rows": null,
            "grid_gap": null,
            "max_width": null,
            "order": null,
            "_view_module_version": "1.2.0",
            "grid_template_areas": null,
            "object_position": null,
            "object_fit": null,
            "grid_auto_columns": null,
            "margin": null,
            "display": null,
            "left": null
          }
        },
        "d8164df6c7a94cd2950af593f2c58398": {
          "model_module": "@jupyter-widgets/controls",
          "model_name": "FloatProgressModel",
          "state": {
            "_view_name": "ProgressView",
            "style": "IPY_MODEL_cc6b7371a2704998afd31d4213fe0fe5",
            "_dom_classes": [],
            "description": "Downloading: 100%",
            "_model_name": "FloatProgressModel",
            "bar_style": "success",
            "max": 231508,
            "_view_module": "@jupyter-widgets/controls",
            "_model_module_version": "1.5.0",
            "value": 231508,
            "_view_count": null,
            "_view_module_version": "1.5.0",
            "orientation": "horizontal",
            "min": 0,
            "description_tooltip": null,
            "_model_module": "@jupyter-widgets/controls",
            "layout": "IPY_MODEL_b0c27201b9b44842a0a2e9c22990d3fe"
          }
        },
        "9a448c131d814973a73c213205b379b1": {
          "model_module": "@jupyter-widgets/controls",
          "model_name": "HTMLModel",
          "state": {
            "_view_name": "HTMLView",
            "style": "IPY_MODEL_470384f0882e4ace97cc3a1a5a07918f",
            "_dom_classes": [],
            "description": "",
            "_model_name": "HTMLModel",
            "placeholder": "​",
            "_view_module": "@jupyter-widgets/controls",
            "_model_module_version": "1.5.0",
            "value": " 232k/232k [00:00&lt;00:00, 3.38MB/s]",
            "_view_count": null,
            "_view_module_version": "1.5.0",
            "description_tooltip": null,
            "_model_module": "@jupyter-widgets/controls",
            "layout": "IPY_MODEL_99726a17717144cda250e61b89e2c0e4"
          }
        },
        "cc6b7371a2704998afd31d4213fe0fe5": {
          "model_module": "@jupyter-widgets/controls",
          "model_name": "ProgressStyleModel",
          "state": {
            "_view_name": "StyleView",
            "_model_name": "ProgressStyleModel",
            "description_width": "initial",
            "_view_module": "@jupyter-widgets/base",
            "_model_module_version": "1.5.0",
            "_view_count": null,
            "_view_module_version": "1.2.0",
            "bar_color": null,
            "_model_module": "@jupyter-widgets/controls"
          }
        },
        "b0c27201b9b44842a0a2e9c22990d3fe": {
          "model_module": "@jupyter-widgets/base",
          "model_name": "LayoutModel",
          "state": {
            "_view_name": "LayoutView",
            "grid_template_rows": null,
            "right": null,
            "justify_content": null,
            "_view_module": "@jupyter-widgets/base",
            "overflow": null,
            "_model_module_version": "1.2.0",
            "_view_count": null,
            "flex_flow": null,
            "width": null,
            "min_width": null,
            "border": null,
            "align_items": null,
            "bottom": null,
            "_model_module": "@jupyter-widgets/base",
            "top": null,
            "grid_column": null,
            "overflow_y": null,
            "overflow_x": null,
            "grid_auto_flow": null,
            "grid_area": null,
            "grid_template_columns": null,
            "flex": null,
            "_model_name": "LayoutModel",
            "justify_items": null,
            "grid_row": null,
            "max_height": null,
            "align_content": null,
            "visibility": null,
            "align_self": null,
            "height": null,
            "min_height": null,
            "padding": null,
            "grid_auto_rows": null,
            "grid_gap": null,
            "max_width": null,
            "order": null,
            "_view_module_version": "1.2.0",
            "grid_template_areas": null,
            "object_position": null,
            "object_fit": null,
            "grid_auto_columns": null,
            "margin": null,
            "display": null,
            "left": null
          }
        },
        "470384f0882e4ace97cc3a1a5a07918f": {
          "model_module": "@jupyter-widgets/controls",
          "model_name": "DescriptionStyleModel",
          "state": {
            "_view_name": "StyleView",
            "_model_name": "DescriptionStyleModel",
            "description_width": "",
            "_view_module": "@jupyter-widgets/base",
            "_model_module_version": "1.5.0",
            "_view_count": null,
            "_view_module_version": "1.2.0",
            "_model_module": "@jupyter-widgets/controls"
          }
        },
        "99726a17717144cda250e61b89e2c0e4": {
          "model_module": "@jupyter-widgets/base",
          "model_name": "LayoutModel",
          "state": {
            "_view_name": "LayoutView",
            "grid_template_rows": null,
            "right": null,
            "justify_content": null,
            "_view_module": "@jupyter-widgets/base",
            "overflow": null,
            "_model_module_version": "1.2.0",
            "_view_count": null,
            "flex_flow": null,
            "width": null,
            "min_width": null,
            "border": null,
            "align_items": null,
            "bottom": null,
            "_model_module": "@jupyter-widgets/base",
            "top": null,
            "grid_column": null,
            "overflow_y": null,
            "overflow_x": null,
            "grid_auto_flow": null,
            "grid_area": null,
            "grid_template_columns": null,
            "flex": null,
            "_model_name": "LayoutModel",
            "justify_items": null,
            "grid_row": null,
            "max_height": null,
            "align_content": null,
            "visibility": null,
            "align_self": null,
            "height": null,
            "min_height": null,
            "padding": null,
            "grid_auto_rows": null,
            "grid_gap": null,
            "max_width": null,
            "order": null,
            "_view_module_version": "1.2.0",
            "grid_template_areas": null,
            "object_position": null,
            "object_fit": null,
            "grid_auto_columns": null,
            "margin": null,
            "display": null,
            "left": null
          }
        },
        "2292ff0e2ed3444aa746668ec438a992": {
          "model_module": "@jupyter-widgets/controls",
          "model_name": "HBoxModel",
          "state": {
            "_view_name": "HBoxView",
            "_dom_classes": [],
            "_model_name": "HBoxModel",
            "_view_module": "@jupyter-widgets/controls",
            "_model_module_version": "1.5.0",
            "_view_count": null,
            "_view_module_version": "1.5.0",
            "box_style": "",
            "layout": "IPY_MODEL_2dc5ce9c8fd74ccc83b5262d5fd42c68",
            "_model_module": "@jupyter-widgets/controls",
            "children": [
              "IPY_MODEL_fb8199d09aeb489d8f4ffbbf4c052eaa",
              "IPY_MODEL_54132f4cca3840f98e2ca2fc48dd10f1"
            ]
          }
        },
        "2dc5ce9c8fd74ccc83b5262d5fd42c68": {
          "model_module": "@jupyter-widgets/base",
          "model_name": "LayoutModel",
          "state": {
            "_view_name": "LayoutView",
            "grid_template_rows": null,
            "right": null,
            "justify_content": null,
            "_view_module": "@jupyter-widgets/base",
            "overflow": null,
            "_model_module_version": "1.2.0",
            "_view_count": null,
            "flex_flow": null,
            "width": null,
            "min_width": null,
            "border": null,
            "align_items": null,
            "bottom": null,
            "_model_module": "@jupyter-widgets/base",
            "top": null,
            "grid_column": null,
            "overflow_y": null,
            "overflow_x": null,
            "grid_auto_flow": null,
            "grid_area": null,
            "grid_template_columns": null,
            "flex": null,
            "_model_name": "LayoutModel",
            "justify_items": null,
            "grid_row": null,
            "max_height": null,
            "align_content": null,
            "visibility": null,
            "align_self": null,
            "height": null,
            "min_height": null,
            "padding": null,
            "grid_auto_rows": null,
            "grid_gap": null,
            "max_width": null,
            "order": null,
            "_view_module_version": "1.2.0",
            "grid_template_areas": null,
            "object_position": null,
            "object_fit": null,
            "grid_auto_columns": null,
            "margin": null,
            "display": null,
            "left": null
          }
        },
        "fb8199d09aeb489d8f4ffbbf4c052eaa": {
          "model_module": "@jupyter-widgets/controls",
          "model_name": "FloatProgressModel",
          "state": {
            "_view_name": "ProgressView",
            "style": "IPY_MODEL_ac2541d5067e4758824841056b9e2373",
            "_dom_classes": [],
            "description": "Downloading: 100%",
            "_model_name": "FloatProgressModel",
            "bar_style": "success",
            "max": 433,
            "_view_module": "@jupyter-widgets/controls",
            "_model_module_version": "1.5.0",
            "value": 433,
            "_view_count": null,
            "_view_module_version": "1.5.0",
            "orientation": "horizontal",
            "min": 0,
            "description_tooltip": null,
            "_model_module": "@jupyter-widgets/controls",
            "layout": "IPY_MODEL_fe516dadfd29489680f12147710597d3"
          }
        },
        "54132f4cca3840f98e2ca2fc48dd10f1": {
          "model_module": "@jupyter-widgets/controls",
          "model_name": "HTMLModel",
          "state": {
            "_view_name": "HTMLView",
            "style": "IPY_MODEL_9df2088b7a3540ac856b3d4f006bfc19",
            "_dom_classes": [],
            "description": "",
            "_model_name": "HTMLModel",
            "placeholder": "​",
            "_view_module": "@jupyter-widgets/controls",
            "_model_module_version": "1.5.0",
            "value": " 433/433 [00:00&lt;00:00, 7.03kB/s]",
            "_view_count": null,
            "_view_module_version": "1.5.0",
            "description_tooltip": null,
            "_model_module": "@jupyter-widgets/controls",
            "layout": "IPY_MODEL_364f59d007d04e1a915f855d2d62f717"
          }
        },
        "ac2541d5067e4758824841056b9e2373": {
          "model_module": "@jupyter-widgets/controls",
          "model_name": "ProgressStyleModel",
          "state": {
            "_view_name": "StyleView",
            "_model_name": "ProgressStyleModel",
            "description_width": "initial",
            "_view_module": "@jupyter-widgets/base",
            "_model_module_version": "1.5.0",
            "_view_count": null,
            "_view_module_version": "1.2.0",
            "bar_color": null,
            "_model_module": "@jupyter-widgets/controls"
          }
        },
        "fe516dadfd29489680f12147710597d3": {
          "model_module": "@jupyter-widgets/base",
          "model_name": "LayoutModel",
          "state": {
            "_view_name": "LayoutView",
            "grid_template_rows": null,
            "right": null,
            "justify_content": null,
            "_view_module": "@jupyter-widgets/base",
            "overflow": null,
            "_model_module_version": "1.2.0",
            "_view_count": null,
            "flex_flow": null,
            "width": null,
            "min_width": null,
            "border": null,
            "align_items": null,
            "bottom": null,
            "_model_module": "@jupyter-widgets/base",
            "top": null,
            "grid_column": null,
            "overflow_y": null,
            "overflow_x": null,
            "grid_auto_flow": null,
            "grid_area": null,
            "grid_template_columns": null,
            "flex": null,
            "_model_name": "LayoutModel",
            "justify_items": null,
            "grid_row": null,
            "max_height": null,
            "align_content": null,
            "visibility": null,
            "align_self": null,
            "height": null,
            "min_height": null,
            "padding": null,
            "grid_auto_rows": null,
            "grid_gap": null,
            "max_width": null,
            "order": null,
            "_view_module_version": "1.2.0",
            "grid_template_areas": null,
            "object_position": null,
            "object_fit": null,
            "grid_auto_columns": null,
            "margin": null,
            "display": null,
            "left": null
          }
        },
        "9df2088b7a3540ac856b3d4f006bfc19": {
          "model_module": "@jupyter-widgets/controls",
          "model_name": "DescriptionStyleModel",
          "state": {
            "_view_name": "StyleView",
            "_model_name": "DescriptionStyleModel",
            "description_width": "",
            "_view_module": "@jupyter-widgets/base",
            "_model_module_version": "1.5.0",
            "_view_count": null,
            "_view_module_version": "1.2.0",
            "_model_module": "@jupyter-widgets/controls"
          }
        },
        "364f59d007d04e1a915f855d2d62f717": {
          "model_module": "@jupyter-widgets/base",
          "model_name": "LayoutModel",
          "state": {
            "_view_name": "LayoutView",
            "grid_template_rows": null,
            "right": null,
            "justify_content": null,
            "_view_module": "@jupyter-widgets/base",
            "overflow": null,
            "_model_module_version": "1.2.0",
            "_view_count": null,
            "flex_flow": null,
            "width": null,
            "min_width": null,
            "border": null,
            "align_items": null,
            "bottom": null,
            "_model_module": "@jupyter-widgets/base",
            "top": null,
            "grid_column": null,
            "overflow_y": null,
            "overflow_x": null,
            "grid_auto_flow": null,
            "grid_area": null,
            "grid_template_columns": null,
            "flex": null,
            "_model_name": "LayoutModel",
            "justify_items": null,
            "grid_row": null,
            "max_height": null,
            "align_content": null,
            "visibility": null,
            "align_self": null,
            "height": null,
            "min_height": null,
            "padding": null,
            "grid_auto_rows": null,
            "grid_gap": null,
            "max_width": null,
            "order": null,
            "_view_module_version": "1.2.0",
            "grid_template_areas": null,
            "object_position": null,
            "object_fit": null,
            "grid_auto_columns": null,
            "margin": null,
            "display": null,
            "left": null
          }
        },
        "96db53f15b9248d38ff5d91992dead71": {
          "model_module": "@jupyter-widgets/controls",
          "model_name": "HBoxModel",
          "state": {
            "_view_name": "HBoxView",
            "_dom_classes": [],
            "_model_name": "HBoxModel",
            "_view_module": "@jupyter-widgets/controls",
            "_model_module_version": "1.5.0",
            "_view_count": null,
            "_view_module_version": "1.5.0",
            "box_style": "",
            "layout": "IPY_MODEL_f1e2a5a5ec524ca9a8ea5596ddec2585",
            "_model_module": "@jupyter-widgets/controls",
            "children": [
              "IPY_MODEL_2ed8c90c104f4096bd31b30cda21b73f",
              "IPY_MODEL_a2d4d03e0acd48a395027b0fe421aba4"
            ]
          }
        },
        "f1e2a5a5ec524ca9a8ea5596ddec2585": {
          "model_module": "@jupyter-widgets/base",
          "model_name": "LayoutModel",
          "state": {
            "_view_name": "LayoutView",
            "grid_template_rows": null,
            "right": null,
            "justify_content": null,
            "_view_module": "@jupyter-widgets/base",
            "overflow": null,
            "_model_module_version": "1.2.0",
            "_view_count": null,
            "flex_flow": null,
            "width": null,
            "min_width": null,
            "border": null,
            "align_items": null,
            "bottom": null,
            "_model_module": "@jupyter-widgets/base",
            "top": null,
            "grid_column": null,
            "overflow_y": null,
            "overflow_x": null,
            "grid_auto_flow": null,
            "grid_area": null,
            "grid_template_columns": null,
            "flex": null,
            "_model_name": "LayoutModel",
            "justify_items": null,
            "grid_row": null,
            "max_height": null,
            "align_content": null,
            "visibility": null,
            "align_self": null,
            "height": null,
            "min_height": null,
            "padding": null,
            "grid_auto_rows": null,
            "grid_gap": null,
            "max_width": null,
            "order": null,
            "_view_module_version": "1.2.0",
            "grid_template_areas": null,
            "object_position": null,
            "object_fit": null,
            "grid_auto_columns": null,
            "margin": null,
            "display": null,
            "left": null
          }
        },
        "2ed8c90c104f4096bd31b30cda21b73f": {
          "model_module": "@jupyter-widgets/controls",
          "model_name": "FloatProgressModel",
          "state": {
            "_view_name": "ProgressView",
            "style": "IPY_MODEL_42cf514e53e14cdf9a4a95c9b6c51c03",
            "_dom_classes": [],
            "description": "Downloading: 100%",
            "_model_name": "FloatProgressModel",
            "bar_style": "success",
            "max": 440473133,
            "_view_module": "@jupyter-widgets/controls",
            "_model_module_version": "1.5.0",
            "value": 440473133,
            "_view_count": null,
            "_view_module_version": "1.5.0",
            "orientation": "horizontal",
            "min": 0,
            "description_tooltip": null,
            "_model_module": "@jupyter-widgets/controls",
            "layout": "IPY_MODEL_559013f3b7df4bcb8177b37dbe8cc05e"
          }
        },
        "a2d4d03e0acd48a395027b0fe421aba4": {
          "model_module": "@jupyter-widgets/controls",
          "model_name": "HTMLModel",
          "state": {
            "_view_name": "HTMLView",
            "style": "IPY_MODEL_94568eceaac34104acebacd5c4046e6d",
            "_dom_classes": [],
            "description": "",
            "_model_name": "HTMLModel",
            "placeholder": "​",
            "_view_module": "@jupyter-widgets/controls",
            "_model_module_version": "1.5.0",
            "value": " 440M/440M [00:07&lt;00:00, 60.1MB/s]",
            "_view_count": null,
            "_view_module_version": "1.5.0",
            "description_tooltip": null,
            "_model_module": "@jupyter-widgets/controls",
            "layout": "IPY_MODEL_6fa84686b82245d1a312b706fbf58b7a"
          }
        },
        "42cf514e53e14cdf9a4a95c9b6c51c03": {
          "model_module": "@jupyter-widgets/controls",
          "model_name": "ProgressStyleModel",
          "state": {
            "_view_name": "StyleView",
            "_model_name": "ProgressStyleModel",
            "description_width": "initial",
            "_view_module": "@jupyter-widgets/base",
            "_model_module_version": "1.5.0",
            "_view_count": null,
            "_view_module_version": "1.2.0",
            "bar_color": null,
            "_model_module": "@jupyter-widgets/controls"
          }
        },
        "559013f3b7df4bcb8177b37dbe8cc05e": {
          "model_module": "@jupyter-widgets/base",
          "model_name": "LayoutModel",
          "state": {
            "_view_name": "LayoutView",
            "grid_template_rows": null,
            "right": null,
            "justify_content": null,
            "_view_module": "@jupyter-widgets/base",
            "overflow": null,
            "_model_module_version": "1.2.0",
            "_view_count": null,
            "flex_flow": null,
            "width": null,
            "min_width": null,
            "border": null,
            "align_items": null,
            "bottom": null,
            "_model_module": "@jupyter-widgets/base",
            "top": null,
            "grid_column": null,
            "overflow_y": null,
            "overflow_x": null,
            "grid_auto_flow": null,
            "grid_area": null,
            "grid_template_columns": null,
            "flex": null,
            "_model_name": "LayoutModel",
            "justify_items": null,
            "grid_row": null,
            "max_height": null,
            "align_content": null,
            "visibility": null,
            "align_self": null,
            "height": null,
            "min_height": null,
            "padding": null,
            "grid_auto_rows": null,
            "grid_gap": null,
            "max_width": null,
            "order": null,
            "_view_module_version": "1.2.0",
            "grid_template_areas": null,
            "object_position": null,
            "object_fit": null,
            "grid_auto_columns": null,
            "margin": null,
            "display": null,
            "left": null
          }
        },
        "94568eceaac34104acebacd5c4046e6d": {
          "model_module": "@jupyter-widgets/controls",
          "model_name": "DescriptionStyleModel",
          "state": {
            "_view_name": "StyleView",
            "_model_name": "DescriptionStyleModel",
            "description_width": "",
            "_view_module": "@jupyter-widgets/base",
            "_model_module_version": "1.5.0",
            "_view_count": null,
            "_view_module_version": "1.2.0",
            "_model_module": "@jupyter-widgets/controls"
          }
        },
        "6fa84686b82245d1a312b706fbf58b7a": {
          "model_module": "@jupyter-widgets/base",
          "model_name": "LayoutModel",
          "state": {
            "_view_name": "LayoutView",
            "grid_template_rows": null,
            "right": null,
            "justify_content": null,
            "_view_module": "@jupyter-widgets/base",
            "overflow": null,
            "_model_module_version": "1.2.0",
            "_view_count": null,
            "flex_flow": null,
            "width": null,
            "min_width": null,
            "border": null,
            "align_items": null,
            "bottom": null,
            "_model_module": "@jupyter-widgets/base",
            "top": null,
            "grid_column": null,
            "overflow_y": null,
            "overflow_x": null,
            "grid_auto_flow": null,
            "grid_area": null,
            "grid_template_columns": null,
            "flex": null,
            "_model_name": "LayoutModel",
            "justify_items": null,
            "grid_row": null,
            "max_height": null,
            "align_content": null,
            "visibility": null,
            "align_self": null,
            "height": null,
            "min_height": null,
            "padding": null,
            "grid_auto_rows": null,
            "grid_gap": null,
            "max_width": null,
            "order": null,
            "_view_module_version": "1.2.0",
            "grid_template_areas": null,
            "object_position": null,
            "object_fit": null,
            "grid_auto_columns": null,
            "margin": null,
            "display": null,
            "left": null
          }
        }
      }
    }
  },
  "cells": [
    {
      "cell_type": "markdown",
      "metadata": {
        "id": "VlSUWf1srqM9"
      },
      "source": [
        "# CS410 Project"
      ]
    },
    {
      "cell_type": "markdown",
      "metadata": {
        "id": "JGRj9r66wfJA"
      },
      "source": [
        "# Text Classification Competition: Twitter Sarcasm Detection \n",
        "----\n",
        "Dataset format:\n",
        "\n",
        "Each line contains a JSON object with the following fields : \n",
        "- ***response*** :  the Tweet to be classified\n",
        "- ***context*** : the conversation context of the ***response***\n",
        "\t- Note, the context is an ordered list of dialogue, i.e., if the context contains three elements, `c1`, `c2`, `c3`, in that order, then `c2` is a reply to `c1` and `c3` is a reply to `c2`. Further, the Tweet to be classified is a reply to `c3`.\n",
        "- ***label*** : `SARCASM` or `NOT_SARCASM` \n",
        "\n",
        "- ***id***:  String identifier for sample. This id will be required when making submissions. (ONLY in test data)\n",
        "\n",
        "For instance, for the following training example : \n",
        "\n",
        "`\"label\": \"SARCASM\", \"response\": \"@USER @USER @USER I don't get this .. obviously you do care or you would've moved right along .. instead you decided to care and troll her ..\", \"context\": [\"A minor child deserves privacy and should be kept out of politics . Pamela Karlan , you should be ashamed of your very angry and obviously biased public pandering , and using a child to do it .\", \"@USER If your child isn't named Barron ... #BeBest Melania couldn't care less . Fact . 💯\"]`\n",
        "\n",
        "The response tweet, \"@USER @USER @USER I don't get this...\" is a reply to its immediate context \"@USER If your child isn't...\" which is a reply to \"A minor child deserves privacy...\". Your goal is to predict the label of the \"response\" while optionally using the context (i.e, the immediate or the full context).\n",
        "\n",
        "***Dataset size statistics*** :\n",
        "\n",
        "| Train | Test |\n",
        "|-------|------|\n",
        "| 5000  | 1800 |\n",
        "\n",
        "For Test, we've provided you the ***response*** and the ***context***. We also provide the ***id*** (i.e., identifier) to report the results.\n",
        "\n",
        "***Submission Instructions*** : Follow the same instructions as for the MPs -- create a private copy of this repo and add a webhook to connect to LiveDataLab.Please add a comma separated file named `answer.txt` containing the predictions on the test dataset. The file should have no headers and have exactly 1800 rows. Each row must have the sample id and the predicted label. For example:\n",
        "\n",
        "twitter_1,SARCASM  \n",
        "twitter_2,NOT_SARCASM  \n",
        "...\n"
      ]
    },
    {
      "cell_type": "markdown",
      "metadata": {
        "id": "N6ZF1Q4Ptl71"
      },
      "source": [
        "# **1. Setup**"
      ]
    },
    {
      "cell_type": "markdown",
      "metadata": {
        "id": "I2RQZkrFdZtX"
      },
      "source": [
        "## 1.1 Open this file in google colab"
      ]
    },
    {
      "cell_type": "markdown",
      "metadata": {
        "id": "NXn3FWVhdNja"
      },
      "source": [
        "If this file is not shown on the google colab environment, please right-click the button below(Open in Colab) and **open in new window or new tab**.\n",
        "\n",
        "[![Open In Colab](https://colab.research.google.com/assets/colab-badge.svg)](https://colab.research.google.com/github/RyoTakaki/CourseProject/blob/main/SarcasmClassification.ipynb)"
      ]
    },
    {
      "cell_type": "markdown",
      "metadata": {
        "id": "6w0ALCdD2vit"
      },
      "source": [
        "## 1.2 Change the google colab settings"
      ]
    },
    {
      "cell_type": "markdown",
      "metadata": {
        "id": "fb8jYCDy7Nf9"
      },
      "source": [
        "We can use a GPU on the google colab by setting below.  \n",
        "**Edit -> Notebook setting -> Hardware accelerator -> GPU**"
      ]
    },
    {
      "cell_type": "markdown",
      "metadata": {
        "id": "Vg-qUsjR50Vg"
      },
      "source": [
        "![Screen Shot 2020-12-12 at 21.15.37.png](data:image/png;base64,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)"
      ]
    },
    {
      "cell_type": "markdown",
      "metadata": {
        "id": "hPKrgimQ7HxQ"
      },
      "source": [
        "![Screen Shot 2020-12-12 at 21.25.55.png](data:image/png;base64,iVBORw0KGgoAAAANSUhEUgAAAaEAAAE9CAYAAACiDN36AAAK3mlDQ1BJQ0MgUHJvZmlsZQAASImVlwdYU9kSgM+96Q0CCUgn9I50AkgJoQVQehWVkAQSSowJQcWGyuIKrgUREVBXdFFEwdWlyFoQCxYWwYZ9QRYFZV0s2FDZCzzC7r7vvfe9ud/J/Jk7Z2bO+c75vrkAUEK5EkkmTAUgS5wtjQz0ZcQnJDJwvwEy8pAADjhzeTIJKzw8FCAyrf8u7+4AaELftJmI9e/v/6uo8gUyHgBQEsIpfBkvC+FWZIzwJNJsAFDHELvR0mzJBN9CmC5FCkR4cILTpvjzBKdMMpo66RMdyUbYGAA8mcuVpgFAtkPsjBxeGhKHHI6wnZgvEiOch7AXT8jlI4zkBdZZWYsneBhhc8RfAgCFjjAz5S8x0/4WP0URn8tNU/DUuiYF7yeSSTK5y//PrfnfkpUpn85higyyUBoUiWgNZP/uZiwOUbA4ZV7YNIv4k/6TLJQHxUwzT8ZOnGY+1y9EMTdzXug0p4oCOIo42ZzoaRbI/KOmWbo4UpErVcpmTTNXOpNXnhGjsAsFHEX8XGF03DTniGLnTbMsIypkxoetsEvlkYr6BeJA35m8AYq1Z8n+sl4RRzE3WxgdpFg7d6Z+gZg1E1MWr6iNL/Dzn/GJUfhLsn0VuSSZ4Qp/QWagwi7LiVLMzUYO58zccMUepnODw6cZ+AF/EIo8DBAFHIArsAduiI2dLViWPbEY9mLJcqkoTZjNYCE3TsDgiHm21gwHOwfk5E3c36kj8ebu5L2E1PEzNukT5CgjOSGjGduiFQCcbgeA6jJjM0YOK2EAgHM3eXJpzpQNPfGDAUSgDOhAE+gBI2AObJD6XIAH8EEqDgZhIBokgIWAB4QgC0jBUrASrAUFoAhsBTtAOdgL9oND4Cg4DprAKXAOXALXQBe4DR6AXjAAXoAR8A6MQRCEgygQDdKE9CETyApygJiQF+QPhUKRUAKUDKVBYkgOrYTWQ0VQMVQO7YNqoB+hk9A56ArUDd2D+qAh6DX0CUbBZJgO68Km8GyYCbPgEDgaXgCnwUvgXDgf3gyXwVXwEbgRPgdfg2/DvfALeBQFUCSUOsoAZYNiotioMFQiKhUlRa1GFaJKUVWoOlQLqh11E9WLGkZ9RGPRNDQDbYP2QAehY9A89BL0avQmdDn6ELoRfQF9E92HHkF/xVAwOhgrjDuGg4nHpGGWYgowpZhqTAPmIuY2ZgDzDovFqmPNsK7YIGwCNh27ArsJuxtbj23FdmP7saM4HE4TZ4XzxIXhuLhsXAFuF+4I7izuBm4A9wFPwuvjHfAB+ES8GL8OX4o/jD+Dv4F/hh8jUAkmBHdCGIFPWE7YQjhAaCFcJwwQxogqRDOiJzGamE5cSywj1hEvEh8S35BIJEOSGymCJCLlkcpIx0iXSX2kj2RVsiWZTU4iy8mbyQfJreR75DcUCsWU4kNJpGRTNlNqKOcpjykflGhKtkocJb7SGqUKpUalG0ovlQnKJsos5YXKucqlyieUrysPUwlUUyqbyqWuplZQT1J7qKMqNBV7lTCVLJVNKodVrqgMquJUTVX9Vfmq+ar7Vc+r9tNQNCMam8ajracdoF2kDdCxdDM6h55OL6IfpXfSR9RU1ZzUYtWWqVWonVbrVUepm6pz1DPVt6gfV7+j/mmW7izWLMGsjbPqZt2Y9V5DW8NHQ6BRqFGvcVvjkyZD018zQ3ObZpPmIy20lqVWhNZSrT1aF7WGtenaHto87ULt49r3dWAdS51InRU6+3U6dEZ19XQDdSW6u3TP6w7rqev56KXrleid0RvSp+l76Yv0S/TP6j9nqDFYjExGGeMCY8RAxyDIQG6wz6DTYMzQzDDGcJ1hveEjI6IR0yjVqMSozWjEWN94rvFK41rj+yYEE6aJ0GSnSbvJe1Mz0zjTDaZNpoNmGmYcs1yzWrOH5hRzb/Ml5lXmtyywFkyLDIvdFl2WsKWzpdCywvK6FWzlYiWy2m3VbY2xdrMWW1dZ99iQbVg2OTa1Nn226rahtutsm2xfzjaenTh72+z22V/tnO0y7Q7YPbBXtQ+2X2ffYv/awdKB51DhcMuR4hjguMax2fGVk5WTwGmP011nmvNc5w3Obc5fXFxdpC51LkOuxq7JrpWuPUw6M5y5iXnZDePm67bG7ZTbR3cX92z34+5/eNh4ZHgc9hicYzZHMOfAnH5PQ0+u5z7PXi+GV7LX91693gbeXO8q7yc+Rj58n2qfZywLVjrrCOulr52v1LfB9z3bnb2K3eqH8gv0K/Tr9Ff1j/Ev938cYBiQFlAbMBLoHLgisDUIExQStC2oh6PL4XFqOCPBrsGrgi+EkEOiQspDnoRahkpDW+bCc4Pnbp/7cJ7JPPG8pjAQxgnbHvYo3Cx8SfjPEdiI8IiKiKeR9pErI9ujaFGLog5HvYv2jd4S/SDGPEYe0xarHJsUWxP7Ps4vrjiuN352/Kr4awlaCaKE5kRcYmxideLofP/5O+YPJDknFSTdWWC2YNmCKwu1FmYuPL1IeRF30YlkTHJc8uHkz9wwbhV3NIWTUpkywmPzdvJe8H34JfwhgaegWPAs1TO1OHUwzTNte9qQ0FtYKhwWsUXlolfpQel7099nhGUczBjPjMusz8JnJWedFKuKM8QXFustXra4W2IlKZD0LnFfsmPJiDREWi2DZAtkzdl0pFHqkJvLv5H35XjlVOR8WBq79MQylWXiZR3LLZdvXP4sNyD3hxXoFbwVbSsNVq5d2beKtWrfamh1yuq2NUZr8tcM5AXmHVpLXJux9pd1duuK171dH7e+JV83Py+//5vAb2oLlAqkBT0bPDbs/Rb9rejbzo2OG3dt/FrIL7xaZFdUWvR5E2/T1e/svyv7bnxz6ubOLS5b9mzFbhVvvbPNe9uhYpXi3OL+7XO3N5YwSgpL3u5YtONKqVPp3p3EnfKdvWWhZc27jHdt3fW5XFh+u8K3or5Sp3Jj5fvd/N039vjsqduru7do76fvRd/f3Re4r7HKtKp0P3Z/zv6nB2IPtP/A/KGmWqu6qPrLQfHB3kORhy7UuNbUHNY5vKUWrpXXDh1JOtJ11O9oc51N3b569fqiY+CY/NjzH5N/vHM85HjbCeaJup9MfqpsoDUUNkKNyxtHmoRNvc0Jzd0ng0+2tXi0NPxs+/PBUwanKk6rnd5yhngm/8z42dyzo62S1uFzaef62xa1PTgff/7WhYgLnRdDLl6+FHDpfDur/exlz8unrrhfOXmVebXpmsu1xg7njoZfnH9p6HTpbLzuer25y62rpXtO95kb3jfO3fS7eekW59a12/Nud9+JuXO3J6mn9y7/7uC9zHuv7ufcH3uQ9xDzsPAR9VHpY53HVb9a/Frf69J7us+vr+NJ1JMH/bz+F7/Jfvs8kP+U8rT0mf6zmkGHwVNDAUNdz+c/H3gheTE2XPC7yu+VL81f/vSHzx8dI/EjA6+kr8Zfb3qj+ebgW6e3baPho4/fZb0be1/4QfPDoY/Mj+2f4j49G1v6Gfe57IvFl5avIV8fjmeNj0u4Uu5kK4BCBpyaCsDrg0h/nAAArQsA4vyp/npSoKlvgkkC/4mnevBJcQGgJg+AqFYAQn0A2I+wCcJERIcj/6N9AOzoqBj/Elmqo8NULFIT0pqUjo+/QfpHnAUAX3rGx8eaxse/VCPF3geg9d1UXz8h1CPIl8xGdkRc3L1CbTn4h0z1/H9Z4z81mKjACfxT/wkgHxxhzz18GgAAAGJlWElmTU0AKgAAAAgAAgESAAMAAAABAAEAAIdpAAQAAAABAAAAJgAAAAAAA5KGAAcAAAASAAAAUKACAAQAAAABAAABoaADAAQAAAABAAABPQAAAABBU0NJSQAAAFNjcmVlbnNob3TBTVkOAAACPWlUWHRYTUw6Y29tLmFkb2JlLnhtcAAAAAAAPHg6eG1wbWV0YSB4bWxuczp4PSJhZG9iZTpuczptZXRhLyIgeDp4bXB0az0iWE1QIENvcmUgNi4wLjAiPgogICA8cmRmOlJERiB4bWxuczpyZGY9Imh0dHA6Ly93d3cudzMub3JnLzE5OTkvMDIvMjItcmRmLXN5bnRheC1ucyMiPgogICAgICA8cmRmOkRlc2NyaXB0aW9uIHJkZjphYm91dD0iIgogICAgICAgICAgICB4bWxuczpleGlmPSJodHRwOi8vbnMuYWRvYmUuY29tL2V4aWYvMS4wLyIKICAgICAgICAgICAgeG1sbnM6dGlmZj0iaHR0cDovL25zLmFkb2JlLmNvbS90aWZmLzEuMC8iPgogICAgICAgICA8ZXhpZjpQaXhlbFlEaW1lbnNpb24+MzE3PC9leGlmOlBpeGVsWURpbWVuc2lvbj4KICAgICAgICAgPGV4aWY6VXNlckNvbW1lbnQ+U2NyZWVuc2hvdDwvZXhpZjpVc2VyQ29tbWVudD4KICAgICAgICAgPGV4aWY6UGl4ZWxYRGltZW5zaW9uPjQxNzwvZXhpZjpQaXhlbFhEaW1lbnNpb24+CiAgICAgICAgIDx0aWZmOk9yaWVudGF0aW9uPjE8L3RpZmY6T3JpZW50YXRpb24+CiAgICAgIDwvcmRmOkRlc2NyaXB0aW9uPgogICA8L3JkZjpSREY+CjwveDp4bXBtZXRhPgqdwtcqAABAAElEQVR4AeydBbxVxfbHF3BpKaUEQSwMpFuUshUQsVvseLbP9v+wu312YBcooKL4UAkLCRVBEFFBwKC743++g+s4d9+9T9zinsNan88+e++JNTO/mb3WrDVz9i61/fbbb+rZs6dMmTJFvv32WzniiCOkUqVKAq1cuVIGDx4sDRs2lE6dOrkwflavXi3Lly+XdevWyYwZM9zRu3dvqVixorz22muy2267SZs2bVz6TZs2xfORB54bNmxwZXHu0aOHi//xxx/lm2++cffbbLONrFixQt59913ZeeedZffdd4/z+OKLL1x+8n322Wcye/ZsV2fKhijjvffek1atWknjxo3j+fSC+rzxxhuujq1bt3bB06dPl3Hjxsmhhx4q1apVk99++00o54ADDpCaNWvKkCFDpEyZMrLvvvsqG5k2bZr8/PPP0qtXrzheGjl//nwZPny4dOzYUXbccUcXvHbtWnn77bdlzz33lObNm2vSXFjOnDnTYUkf0J4RI0a49ihGZAIjsNI0hJHvyy+/lO7du0vt2rWT1hfMJkyYIPvss4/rW3hAgwYNcu3127k5Rhzmer1mzRpZtWqVVKlSxeFC+Ndff+36rFu3bvLHH3+4vqHt7dq1c9n++usvGTVqlHTt2lW23XZb17dg27ZtWylfvryydmd4LV261OH/66+/ynfffefK2m677aRFixau/WDAuCV+/Pjxru3EQwsXLpSPP/5Y9t9/f5ePdjGmDz/8cBcf9ePno44+MR7mzp0rVatWFcYQWJcqVcolSZSPBIydIA0cONDxOvDAA+NRixYtEsZOo0aNZNasWQ7TYB+B4e+//y5HHnmkLFu2LKVx9vrrr8suu+zisI4XFrtYv36940F/UjY4a3nBZ2Dq1KnumfXHO/WgPp07d5Z69eq5fvjpp5/k+OOPd8VQLrJAnzMCP/roIxd30EEHuTKHDRuWJw39/8svv8T5uAzeT1BWEJWsrFTkiVeEuxw5cqTDx3/+9FmjTbQtLM3YsWOdbEB+lC1b1vGaN2+ekzHIBMYQ7UY+IaeUxowZ48az4occQxbyzPA8DB06VPbaay9p1qyZZnFjAXmMnGQcgm+HDh3cGCJRsB+1DF9+bNy4Ud58802pXr26HHLIIZKor7t06eL6Ghx4JtANyLQaNWq4OvFslC5dOl4/vaA/KRs9Qh4l8MtBaEcRDy4HHQhRgA4Q7gEYRRRGpFUCJBQGDxhUoUIFJ3wBOIoWL17soqg8RxhRd+qnCigsTVSYX7+oNISjPFCc0AcffODO/g9tow7JSDuGDocUS4QolAhLl+DvH+XjCzb/OpX6antUaPv8U7lGaZQrV054sBiMKB0EWVBw161bN86O9BCCj/qiiFH8KPg6depIgwYN3IODYOcevrTlzz//lPr16ztlguInH+XFJk9OCSCIoa+++sqd+WFyA6mi5Jr0BaGWLVu6yc2CBQvk4IMPjiug/PBkzPDcMGHwiQdZH2Yd/7Vq1fKTuDwIf30mc0XGbnR86DjT+OB4R1mgvCEVlJo27BzMTxotS+P07OcPhtH3KjPAAdI2a75gHg3Xc1R8MNwvS/FMJE+Uf6IzEyeIsRVFjBGIiWiQyKd4B5+XYP39vCghSMvXOJR/OoSiQu76MpN+hA/jKoq0rxlX1JPntWnTpvL99987RYdMZ6KDktS0Pi/FPzieedZzks0OKVQFCBYDnYgmpkAK/uGHH9wMiopFgchgRwExY+LBy8nJic/ytaLBvKSBmC1Qlk86A6V8Gkcdwxru58nvtfIFPLXufF6JFKmfLngNliggOtLHcuLEicGkad2nUl/tTx6IypUrp8WfxCgcZsBg3yg2a2dWyLhAafjEjE9J+0zvd9ppJ6dsmKmhcFBIjBEsIxXOWE9Ybczs4MWAR/Fx7Lrrro6Vjpv27dvnGQN+2/y6aB3SOdNmJayGgvBTIZRoAqh9hLLxBYYKI8KiFJHWM+pM/XkmESQodcYw2IcJzSgehRGuOKgyKgyeUTxSkSdRef1wHW9adz9OrzUOqyI47pFZOnFKpMiUl56VZ377XPlQPs9VUGbyLOPZSJVoV5MmTZyXCg8Bz/HkyZOddYu1FKRE47k0lfJJZymEUTEGiD5wzEohFIPmU0C1c1yCwA+uBWbdaFsGA7PhZGBqmcwqcJHpQWdo2X4aLVJn+Xpf0DP1pXMQfDz4Wg8EHDMtjvwQAwFKF8tkZaVSX8WNwaNEv6sFoWFRZ/qTsYHbDqWBxUM/BcdA8AFUfqRDYYHnHnvsIbhmEIgzYq5d4ghndjxp0iSXhdkSdcbixI0IqaLSB4e6M7PkoI/oF1XIpA/WhXL0IB7SvvSfAcJ5YHGxUCZtxSXqC5CofOQNI9JTb54n6qDEhA5rG2zUOtBnTtMwW2X8g1E65JfDWIaYCOgkKpXnOJ3yUkmrfafPgubxsdWwgp51zCeSJ2FlIKt87LDCIa17WB7cWhCyU+UFZ/jgRVDMg32bqN1a/2AePEyff/55rmowXqNI66ZjgHRMbJCbamX57Y3iwzPARJRnDLnORJHnlPEZVn7UeJ4zZ46UZgbq0+jRo50/mhko15DOOpURLjlm8bhA1FWWaDaDFUHnM5MlvfpRmQlqgxUc3ASk5UHD58r1p59+6urEGgw+T+pMPgQ4hK8RTUw8fkol0oQdwXi956z10TDu1Qf7v//9T7BgKOuTTz5xhw5SvxzNq/w0TsO51/aCJcIXLNU1B5Z+Hr3mrBQWpuUlqy+DhgcBqwu8aQ99gvD1+UZd66wG64DBy1oief3+DNZT7zkjZFlrZA2CBw9lyKG+YsrFfQY/Ji86C6TeCEsNIx15iOehoB1MbqgP4yRomfntQZgMGDDAuZc1XN2qjCP48HASx3opShdLGKuPtqIMk+XT+LAzs0j4MKbofxQQ/UEdaA/tR6GiiOkjhA9jm7GB9QJPn/wyNFzD4KNWJX2GQITgzfPIc8kzBOnYczd//0SVFZVGy9V4vdcz4VwzjlCE1A08kTnUQwWtpg+e9dlRWUG8UjCtlpWKPAnm5R48EPQIV559LEj6iP7R9FqG3jOxglAOYEtenu8PP/xQlixZ4hSRtptxq+1WZax8fL7Un3UfhDb1YSLIxIi8PA/kUcuf54AyCfOJe60bOMODdCoz/bV3P1/YNRiQF/nFGWyoP7I+OOEjP88u4xA8guM5RxeOtSAS0kiIh4HZrmphGsCDzcCloQgyFAVMEQ7khYKNpwwKx1yDmE1SKSqPEGJWB5DMNFl0xF3AAjcPGzN7hIB2EDNmZt8QoOPiY1FegUQxsXZQmLTDDjs4TY9wU6VNfbvGFgx1FpxqedpBdDhYongYDGCJsqczwRKFr2l93mFhfjzXqdSXutPPui4ArgysVPjTdww2HgIIRcADwriIsqaUL2eEDwKdBVDGDsTMEsGsxKwKwUxZSjz44OOHMT4w/3moVJAyXuFPe5gkhFFwjJIGXowtximLwIx/cKIeyo90KCJwQyCwXhWWj4XfRMSmDeqGItb1LHVtkg+caBcYax+BEfUgXTJSvEnHWGPc0t9s1uA5Y0Ec7BEitBPsabdaRMn4E69l6DmVPME01AMceGY5UJAoGZR+FIXJiqi0fngyeeKn1WuwYaww64foA2SiWtlhbWfcseGEvlOZx/Pty1JtN/KOgzYzvtXS0vJ9/qxLIm/oN5QPdWPCqcqD5woZzXOFIj/22GOVTfyMMmNNk2dFLSgsIDbaqLUWT+xdaD30jJyl3yiLSRR1QbHqMwxmmhY2XPMsgYnKULDkeSt1zjnnOHXp745DKTADoMI+I31wOTOjIj4dotKYalQ4iuDLQ+0Ldy0PU9avj88DZRasrx9fWNfUj7pRx8IgbVu6WKZadrL6JovXcsKUC1YQODD480tYO/RpqgowUTmMAfCEV0EIHghjnoNEYzVYRlQ+fywH83BPvRnbKtiCaXhmmLAUZIzQf1heQR7F9dwE26T3yATwoX4cjCU2qzCukq1XI6Pon2T4all6pp/C5JvG6xnvAOOTelBPjiB+mjbqDOaUF/WMwJN20/+pktY/yiWrHoCoMrUc6gYlGuNR8lZ5cE42hoI8guM5VJKSKdhAGq5EfDqdoXkZLMkGTFhnpFJesL5a18I+h9WvIGWk0raC8E9W32TxicouqLCHNzPEwqLCGgP0iVr/6dQtv/mS1RvllM7zFlbnqGcvWdlhvAozDEuMiRBWCnXE6kRBsO03GeUXE/op3XajFPMz8Uwk4Glffvgmq38y5aO4Jqsb6VR2c025YZQMS3j4eYPjOVQJ+QX5lfDDk13nN18yvsQXJe9Uyt8a0xjm+e91wy4aO9xHuAlZG1PCNYwSKgm4UYeSUA/FJt2zL/zTzRtM7+OQLl/NG5Yv7o7DpGIxlnUddQtoxmBlEt3nJ4/yK0he5WHnokGAvgnb9VI0pWUPV56lsAcve1pY8JYwtnB74d7FMtYF9oJzLhgHXLK4ynQjRMG4lczcBR2b+ckfzBO3hDCpfLMqXYWQbnq6JD95SmZXZn+tGDjJXKnZj4K1sCgQYGyxSM1Rkqik1acosImSwUFFEVW25k81PXzI46ePKyG/EGXshyW6Tid9OmkTlZkorjjKSFS+xRkChoAhUJQI+EK8KMrxZWgqZWn6VNJSX9Jr2jxKSJml0rBU06aazi8zP3n8/HZtCBgChkC2IlAQ+ajCP1VstKxU8pE2lXSUrWlzKSEtLJXKJUubLN4vI520fj67NgQMAUPAEEgPgSh5m0x5aL5U0iVL49c4lxLyIxJda2Wi0iSLJ18qaaL4W7ghYAgYAoZA4SLgy+RESkTTJUuTKF5rDq+4ElLGGhl2TpamoPH5KTMsj4UZAoaAIWAI5EUgFcVALl+WR+XRNInio+L8mjklpMz8iOB1sjSJ4hPFaTmppNG0djYEDAFDwBBIH4EoOZtIWWieqDTE5ydOa5+jBWhA2DlZmqj4qHAtI1m8pgs7FyRvGD8LMwQMAUMgWxCIUgpR7fPlaVTeRGk0LiwvcWHhWpfSepGfM8y1cM2vYcHwqHj+oMYf1fx8qVwrPzv/gwCvP9E3P/8TWjKvtN9LZu2Kpla8q4v+4X1hRUn8yRJ8i5t4Zxnt4w+eqVImjdmoNiGvaLe+sy0qXXGEax8wxsLkKC8lUBkRjNf6+eGEkZ58PmkaP4xrwsOIevEG8bCxH6mEeJ09b/jl4BXz/sGbXoOFRVVKK+TH6zVn3hCsn4zQtHbOHwK8zZZPGAQHTP64FW0uXt2/tfU7bzamf3gY80M8wDwv/negwvjw4k3e+F7cxFvxaV86b+LOpDEbhSdvmqHdfFkAQmjzpmjCi5uS9QEvqubT4mHky2WNJ4xPUJAvjDSPH0dYkBj7fCsr7O3o8Y0JwUwAyucTwl4wyUsv9dPNYQX6vPx4/9pPE3adTtqw/NkYxsDmtUp8NiEZlST8GICMJ15SqS9M1frpOVl7simeNuen3VgNfPqDF3fyKY1klJ8ykvFMFK/lRbUPocynDRi/+gE1n5/m98My6VrbjaBFuernUVJpA5+xwHpt0aJFKskj0yiGWpeohMQncpEpH82v/KLyaHqNj+IfxidSCZGYwR72OnUtUM9aUf9M3MknnyydOnWKCx4/3q4NAUPAEDAESj4Czz//vKskkyC+QfTyyy9HKjDkviqiRC3z04UqoWTKBeaaBtccJiBaXD9Wxyv+UUB8KMnIEDAEDAFDIPMRwIuBTMdD9uyzz7qPWfoKBzczH9vja9i8d48PnuonUVRf+CioIsqzJhSWWDNqnJ7xE+LX50uofJuCzwXjG8V3jQVkZAgYAoaAIZBdCPTq1ct9mZUvvKILONABrDXxPSjeHM8XkFkDSrb+Sd5clpAqF4WMj0vpJ5M1DBdd06ZNXcH4+fnUsiqcefPmyYgRI5z/X33/ms/OhoAhYAgYApmPAJ/aYK8A63t80psP8+GmQzcceuihziBh/W/o0KFuQ0P79u0TNjquhIIKSHPhB/RJX+ePGca3yvnGDLtBUFi6NTNsB4TPw64NAUPAEDAEMhcBjA82U/D3GrxgLMegkDiriw5X3Pz585M20imhKAWEZuvcuXN8/SeYDssHS4mCIdIbGQKGgCFgCGQ3AjVq1HAN5O8gKv/ZucmhpMpI76POcUsoKkFQ8Wg61n3UVXfggQe6BSgKHTBgQFxpaVo7GwKGgCFgCGQPAvqVZVxxqiMaN27srCFtJfogFUVUWhloRv/sx/nXpNF/ZTds2FCqVavmCsM0MzIEDAFDwBDIbgT47x+k60Nc43rDBceBTkBB4R0L6g7S+pTQEtI/x2kGZeZ/ipc/ZWlB+AihTPjHvrbJzoaAIWAIGALpITBr1iz3Z1xdgtl1113djrhRo0a5PyPziip2S9euXVs6dOiQh/nMmTOFg7iESoicY8eOjTNQJcQ/nlu3bu3Wi6ZOnRp/Rcguu+zi9omzUcHIEDAEDAFDIDsR4D+hvAEFnYDLbe+993aWD/qA/xFBvDGiTZs27lp1B2cOtm7zH1PeKVfqrLPOyvOiH83gcsd+/Hu99s8wwvSiMoRzvPTSS5rdzoaAIWAIGAJZhMApp5zi5L2u+eiZJuJBw0IizA/3rxUKwvL8WVUj9azKRu/DzmzRg5kqoLA0FmYIGAKGgCGQHQiorFf9oGf0gCqgYEs1jYarUsqjhIIJNQNnjQueg3Ea7+e1a0PAEDAEDIHsQUDlvJ5pmV4Hz2Gt1jR5lFBY4kRhyog0eq3nRPkszhAwBAwBQyAzEVAZr2da4V/7rYoK1zS5lFAwsX+v18GzFu6H67UWYmdDwBAwBAyB7EEAGa9y3r+mhX54sMUa54fnUkJ+hH8dlpH4YLje69nnYdeGgCFgCBgC2YGAyng9a6uC96mERyqhMGYapmctgLOG6dmPs2tDwBAwBAyB7EJAZb2e/dZpmJ7D4jQsUglpgjAmxGk4Z//aj1MedjYEDAFDwBDIHgTCZH4wLNhajQ+GJ1VCmiGKgcbrmXSpptU8djYEDAFDwBDIHATSkfPJ9EFcCfkJ/etksPhp/etk+SzeEDAEDAFDILMR8GW+f52sVX7auBJKlknj/cx6zdm/1rR2NgQMAUPAEMhOBHyZ719razWMe/9a4/WckhJKxEAZ+ed00/t57doQMAQMAUOgZCNQmDI+jxJKhXlUGg3Xc8mG0WpnCBgChoAhkB8EkPF6hOVPRQdomjxKyGeoifywsGu/MqnmCeNjYYaAIWAIGAKZhYAv/6m5rwP862CctjKhEtJEevYZBgvWNHY2BAwBQ8AQ2DoR8HVEqgikpYTCmOan0DA+FmYIGAKGgCGQuQgEdUHwPqpluZRQKpmi0kSFRxVs4YaAIWAIGAKGgFNCiRRIorggfOmkDea1e0PAEDAEDIHMQgCZH5T7ye6DLcxlCQUjE90HC9K0UeEab2dDwBAwBAyBzEcgXVkflT5lJRTFIPOhtBYYAoaAIWAIpINAqvoglXQpK6GiqGA6PMPSzpkzR7755hv57rvvwqJd2M8//+zScN6SdOSRR8rOO+8s//d//7clqyFHHXWUq8eNN964RetR0MK//vprefzxx2X+/PkFZWX5DQFDYAsikJNO2WFazQ/zr9Phm9+0/fv3l2effdZlv/fee6VPnz55WN18880yevRo2W+//eSFF17IE59KAIJu5cqVUqlSJalZs2YqWSxNGghE4btu3Tr5448/HKftt99eypYtG+d6/vnny6JFi2Tx4sVy7bXXxsPtwhAwBIoPAWR+qVKlXIH+dTo1KBJLKJ0KFFba2267zQmlwuLn88Fq6Nq1q1x//fV+sF0XEgJR+GK9gjvHTz/9lKs0LLpdd93VxeWKsBtDwBDY4gikY5BkjRJiVnzHHXdscfCtAsWDwHXXXScfffSRdOzYsXgKtFIMAUOgSBBIyx2nNUhHy2me4jgPGDDAueQ6dOiQUnG4enDVffHFF7Jx40bZY4895IQTTpAaNWq4/GPHjpUPPvhApk6d6u5//PFHwb0H/4MOOihexrx582TkyJEyatQoKVOmjOy9995y4oknSsWKFeNp/Av4Dh482Lma9txzTznuuOOkQYMGfhJ3nax+foZly5a5dnz++eeOb+PGjaVXr16y++67+8lCr9esWSMPPfSQrF692rkbcXWpiR2WgfWYIUOGyOzZs6V69erSvHlzOf744/O0F0zHjx/vsJkyZYpbizrkkEOkdevWjm0ifCdOnOj4a/lPPfWUbLvttnLNNddIuXLlXH2XLFniLKHOnTu7ut99990u+bnnniuUN3z4cPn9999ll112kXPOOUdq1aql7Nx5w4YN8vrrrwv1wPVHvWgHrl3o0ksvlapVq8bT0meMFfq7bt26rmzakwgrl9l+DAFDIBQB58I766yzYudNLoGeNTX3GhZ2rWF6RuhwzcM9cOBAZVNkZ1xwrAkhnJo1ayYjRoyQnXbaySkOBBV02mmnha4JsZnhpJNOcms9fgVZ83n44YedonnppZfkP//5jx/trs8888y4aw7FdOyxxwpKwCdcRaxZ1atXzwWzMYEy69evL3/++afDSNOj9J577jknzDUslfppWqzAY445Rn755RcNcmfWUBDaffv2jYfjxmIzB22/5ZZbnPK98MILZdiwYVK5cmV59dVXpWnTpvH0wYs777xTUAhBol1vv/12LkF/9dVXy1tvvZUraenSpeXKK6+U8847TxLhCy/aFaTvv//e1XPfffd1Cuayyy6Tiy66SFBILVu2dMm7dOniFJ+fFwX08ccfyzbbbOOCUbwoJiYhPqG8p02b5oI+++wz139r166VU045xSkrPy3XXWOuwqefftpNPoJxdm8IZCsCyBEm3EzAeKY5IO79ww/Ta//Mdda447BQsDx+/fVXeeyxx2hbJM2cOVPOOOMMp4D2339/efPNN+XFF190SoBFcmbAS5culR49esh7770Xd/lgAXEfU9yO919//eUEPAoIt9Azzzwjt956qzRs2FCmT58uOjP3K8KOPmbbr7zyijzwwAPO8kDYUn+lVOtHegQkShEFxO476sAEgEHC7B5FjdKJIspFAeXk5Mijjz6aUAH98MMPcQV01VVXyZgxY9wkoFq1akK7fHcolhUKqEqVKnLxxRe79qIomajcd999Dp9E+KIMH3nkkXi14Qf2UdZlPGHsgnrdcMMNrszTTz/dRWG9YCkrgb8qIPDDIrr99ttl7ty5miR+fvnll50CYmLDZOGrr74S3V3IxKc4JlzxytiFIZBlCES647Bo8kP5zZefsvw8O+ywg1xyySXCTJ2tuz179nRuGD+NXiM0EPzkeeKJJ+KzWGbBKBoEEUKQ2TpWirpkEKh77bWXspF33nnHWTXMrpkNs3sOwqJghv7uu++6LdlYakrdu3d3FojewxshiKKYNGmSc+WlU79x48bJt99+62YiKKBGjRo51lgF8EQ5IcCxyoL05JNPOuVLOAIYCyIR6TZ3FBbuRurerVs3J/CpBy4qCEuYukBnn322/Otf/3LXKGpceShZBHu/fv0i8a1Tp07cCiczLjUfe8cw4ocNJFh6EGV++OGHrp/8zQ26qxKXpW44adeunXMvXnDBBbk4q4WJaxPLB8K6ZMKycOFCqVChgguzH0Nga0IAWa+uaP86XQwilVC6jEpCeoQ5fnvWAxAsr732Wmi11DI49NBD4wqIhLVr13ZrKLjYEv33SJlqGlyBEyZM0OC4UKJjZsyY4dyFGqnuOb1nPQOzFsGNFcd6Ujr107RNmjSJKyDlzbZ0BCjrK0HCWlB8sFSOPvroYJI89yho6rp+/XpnSbKWRf2xujiUEPYrVqxwt2ytxq2lxLobSoi2FhWpMlT+rLvhAmU7N0TddOv34YcfrsncGatOSR+wTp06uUkJrkCsZMYN7sB///vfmtTOhoAhkE8EskoJISCZ0SMQmXEH1yMUIywOKCisCGvfvr2ghFIRkircWazmCCMWxlu1ahUW5cKoM5YS7iIVjOnUT9Mi7INEW/hvFMIXy083XJAOd6ESijIVYl0FfigtlC4Hgpr2sfaGew1CWCtFCWpwKS5SZaLlKc7ch40BTadnlA6TmrvuusttyGBTRvny5Z1VxHoaEwcjQ8AQyB8CKSmhLeViy0+T2KnFIjLCEtdc0PKAJ7NdFrJ/++23PEWwQwzCVZeMdPMDu6pYWwqjVHan8UdYSBfN06mfugqxLoKkbYGvP8PXdG3atBHcaAhV3IS4ppLRPvvsE9+Fh5uLbdLsgONAkeKmUlzghcIKc1eF1SdZ2YUVz44+pVmzZiVcB9N0WNlMbtjcwI5J1pNYS2NHJBssEk00lIedDYGtFYFE7rqUlFCmAcfuKwSE74Lx28ACPgqI7cxBUuumRYsWwag896whIfwph7UPrJpkFFToLOir60oVXzr1Iy3Eji7WKPw3OmhbcBfq7hWtHy4mFDVYDRo0yC20o5TClLbmQWGhaKgna0EcbHxglxkL9Lj3UEK77babZnH82D1YkgiM2OCwatUq+fLLL+Wwww5LWD3GEhsqwFFdj1iWbM8GD9YGTQklhNAiDYFIBEpHxmRwBBsDwrZWa5N0/QOXlO6QIo5dcvwnCPcNM34l1oog343DPZsfIBQJmyHUosECYTGezQpBwurQBXLWge655x6XBMtA/z+TTv1wgWFpoNyef/75eHGTJ0+OuyNZvwgSGxhQTDfddJPgymOH3+WXX+6EbTCt3qO0cT9hFaiVxSYFtsVD7MaDsP5Q0BAbFNRlyD08EOQobqUofHH/qSstiL3mze8ZBQJhyalFzFoXijlIbOqg3WykUMKa0v8dkc/IEDAE8odAViohoDj44IPlwAMPDEWFma/uBGOr9hFHHOEWm/lPDcS/8f2ZLa4qCGHK7ii2VkMoAC3j/vvvd+tJKBCUydChQ52A4/8oPqGoEIC6uI1Sgtj2jfKE0qkf/8/B5QWhCKkrdeA9elhY/KkWKy2K2PHHnzMR9qyjhf0HSPPyXycELxYXShrBTFlsb4fYqABhEbJdG7ccih43H20CO1ylrBmxo08pCt/tttsu/t8plDp4Y3kUBvHfIqwh+DFWqCN9jlJSUquVMYKyxRVHG9icAK5sWSc87J2FysPOhoAhkBiB0omjMzuWWb4K9mBLmKEj2BDCCEWEJe4W3nLNTN8ntvkibOHFrJn/BynxnySUFwIToc9iPVYNW4TZhswCtk8s1COQ2e4MH3heccUVTqD76dKpH1vJ+U8NbjI2GVAHlBObBdiencxNSPtO//v/NChT33Lx68T/n1CauOGwelgboSw2VvC/HOqhxBbx999/322RRlBjYWLN4ObE2lBLhPSJ8EVZsDUbZY7Qx3osDMISZOMKrkN402bawTZ/JcWNiYb+iZcNFWBA/1EvrN22bdtqFjsbAoZAmgiUinpjgs4COfvX8New4Bm/uR6Z9Ac+XEP8x0cX+aMwZA0BK4B1ExVQftoFCxa47cv8xyUZ4c7i/0gojuB6TTBvqvUjHxsu4J1KHYLlpHNP37Oon8qbxXFX8YofcPM3LQTLS4QvLk/6h0lDYRP/9UGpghlWIRMLXJwopmDfkI52YxEWRV0Ku23GzxAoCgRwqfNs6IEnJeygbHWpa7wfxnVWbkygYelQKtt04Yf7Juwdb1oW1lCqhJDDskiFUq0fvLDCimPnGQMq1fpjCWF5JKNE+GLZFSYtX77cuUCxQtWSwRpmkwGEJRdUQITzKiTdDMK9kSFgCBQMAVNCBcPPcmcoAmytZrefvjwWBajvjMOF2s/bhJChTbRqGwIZgUBWrwllRA9YJbcIAqzLsaGCTSRsTkAB4SrkLROs+fjbzLdIBa1QQ2ArQcAsoa2ko62ZeRFghx8Hmx1Yn2NNKMwFlzenhRgChkBhIWBKqLCQND4ZiwCbTMJee5SxDbKKGwIZhIC54zKos6yqhoAhYAhkGwKmhLKtR609hoAhYAhkEAKmhDKos6yqhoAhYAhkGwKmhLKtR609hoAhYAhkEAKmhDKos6yqhoAhYAhkGwKmhLKtR609hoAhYAhkEAKmhDKos6yqhoAhYAhkGwKmhLKtR609hoAhYAhkEAKmhDKos6yqhoAhYAhkGwKmhLKtR609hoAhYAhkEAKmhDKos6yqhoAhYAhkGwKmhLKtR609hoAhYAhkEAKmhDKos6yqhoAhYAhkGwKmhLKtR609hoAhYAhkEAKmhDKos6yqhoAhYAhkGwKmhLKtR609hoAhYAhkEAKmhDKos6yqhoAhYAhkGwKmhLKtR609hoAhYAhkEAKmhDKos6yqhoAhYAhkGwKmhLKtR609hoAhYAhkEAKmhDKos6yqhoAhYAhkGwKmhLKtR609hoAhYAhkEAKmhDKos6yqhoAhYAhkGwKmhLKtR609hoAhYAhkEAKmhDKos6yqhoAhYAhkGwKmhLKtR609hoAhYAhkEAKmhDKos6yqhoAhYAhkGwKmhLKtR609hoAhYAhkEAKmhDKos6yqhoAhYAhkGwKmhFLo0WXLlslDDz0kixcvTiF1did57733ZMSIEdndSGudIWAIFBsCGa2EevbsKc8++2wesB555BE55phj8oTnN2Dp0qVOCXHe2un999+XTz/9tEhgAN9p06YVCW9jaggYAiUTgYxWQqtWrZJ169blQZawNWvW5Am3gJKNwKhRo+SEE04o2ZW02hkChkChIpBTqNxKMLMJEybIuHHjZMcdd5TOnTtLxYoVXW2//fZbwd1WqVIl+eqrr+S8886TMmXKyM8//yyffPKJVK5cWVq1ahVv2Zdffik5OTnStm1bFzZr1iz54Ycf5OCDD3b3K1eulCFDhghWGnlx4WE5LFiwQLp27Sq77rprnNdHH33k6vPTTz8JClWtt0mTJsnnn38utWrVksMPP1zKly8fz+NfbNiwwdWRurZu3dodpUv/M6+gzM8++0xWrFghhx56qNSoUSOenfLGjBnj2rn//vtLo0aN4nFczJkzx/EuVaqUHHjggVKnTp1c8f5NVH3D2hdVZ+r5xRdfuMnD66+/7vqoXr16rhj4g3v16tXlgAMOiLfjjz/+cHnoiw8++EAOO+wwadCggV81uzYEDIESjsA/EquEV7Qg1bv33nvl/PPPd4L1pZdeko4dO8ry5csdyw8//FCuvPJKueCCC+Trr7+WjRs3unOvXr3kzTffdIqLvEoonNtvv11vBX4XX3yxE/QEosjuuecep+R+++03p0QGDRokM2fOlOOPP15wFSo99thj0rdvX7nvvvvkxx9/dMHEn3TSSfLLL784F+DRRx8dau0hzE8++WSXd968eXL99dfLqaeeqqxdfpTHU0895dqDAsSVBqGAsDiuvvpqQQEed9xxcsstt8TzogzIi+AfPHiwE+4oujBKVN9g+xLVGWWO4iPNlClT3MSA8h544AHp06ePoIgeffRRV5fp06e7qoDZtdde6/BincrW7MJ6yMIMgZKNQMZbQgj4iRMn5kIZwaqWDkLtzz//lMcffzxu0Rx00EEycOBAOe2001y+smXLOgFdrVo1d3/XXXdJly5dnNDDshg5cqRTFps2bZJu3brJnXfeKaxfVK1aVf73v/9JzZo13WI9VgtKiLzkQ5gyO0dBQB06dJCbbrrJKUSsKahJkyby9NNPu+vvv/9eHnzwQRk2bJizmNauXSvt2rWTd955R4499liXRn9QalgntAsLYe7cudKpUyeZOnWq7LHHHk44d+/eXVDA0IABA+S///2vU4pPPPGEq//o0aOlXLlyTkFiKWEFYi2hkKkzyhA644wzXN7777/f3etPKvX124dijaozSrFKlSpO2YARhPWKkkMRNm3a1Cmos88+2ynMF154waVh0kC7mjVr5u7txxAwBDILgYxXQjvttJPst99+uVBfvXq1zJ8/34XhWkMQL1q0yLlsEIS4mHQ2TSJcZKqAUFootTvuuMMpEo3nTL6dd95Z6tev75QNZSMEEYwoI1VC3EO46LAomMVjZWEZUa8lS5bIdttt59LgRlMiDUIaFyEH1LBhQ5k8ebImiZ+pBwoLnigtrCGUKRbLbrvt5tpw+umnx9MfeeSR0qZNG1ff8ePHO8xQQBAuSlxnuA9RYrgnwQHFBaFssQCDlEp9/fYlqjOKM0jwxyWHAoLoSzC+7rrrXP0IQ5mbAgIJI0MgMxHIeCXUvHnzPIvZrBWM8LYRX3755fLNN98ILikUhwrfsC7DTYcAJl0UwQeXFRYXSgZlg0JYuHChc6upUkSZ4W7DmkGQIswhLKowmjFjhivbrztKCCURJBTZiSee6Cy+9u3bO2GN9QVvFC4bM/x8CPBGf6/7/PXXX4KV5NMOO+zgbrGw4IMC8MlfF9PwdOpLnkR1Vp7+GfccCtUn1nzYeMLam5EhYAhkPgIZr4SSdQGWAS47/t+y1157ueSsdUQRFtE222wjWAv+LN5PjxJiXYjNDKxJbL/99k5p4TpiVo57DHrmmWec9YHLDGINg3UNLKowQuEgYFkHwapJRLQHq4odZbpxgbUleOMepG5sxNA2o1xxv+GKRJATh5tNafjw4a7u1AEljGtu77331ujQczr1hUGiOocVgNLEFbd+/Xpn8ZCGvqP+uO6MDAFDIPMRKJ35TUjcgtq1azs3E0qF2fPQoUOdlcTifBT17t3bbUrAGmBnGWsokFowbGxglj579mynZIjDGnrllVdyWRhYU1gWWB6kv/vuu0kaOYvv0aOHsA7ExgasGdadbrjhhjxWCTxwbbEQj2IjHYqLe23XUUcdJW+88YawbkO7cS+yUQCLiF147EbDjYeAf+utt+TCCy90gh6lxToOLkwUOEqR9Zew/2OlU99U6owrEmVJ26EjjjjCncENK4odg2+//bbbqOAi7McQMAQyHoGsV0LMmFlDYJcYLjGsk3322ccJ2Kje+/e//+1m2yyWs46imwg0PZYHmwxwaSHUoUMOOcQJdKwkJXarsabBlnDcdrruEbXTDIuKTQqsL8GfjQYolRYtWijL+BlFyGaFU045xdWR3WW435T3VVdd5VxZKCMsOv4EqsqUTQjs+LviiiuctYMF179/f9l2221de1BWuPNQrC1btnQWDBssgpROfcmbrM64/Ogj3Jfs5MOiQ/mBB9uw2YUIjpyNDAFDIDsQKHXWWWfFJvib1yj0TNP0mrN/rXEa7p9ZpNeD3WcliagnFoNuQEilbqRnl10y11gyXszu4aMKK1l64rEGWENKlgfLCWsG91sYEY9CCXNf0VdYGP7/h3weuu4SxdtPm2p9yZOszvCin1ibUgoL0zg7GwKGQPEiwOSW51MPlgHCDmqlyw8a74dxnfVrQjQSAoB0FBB5dCMB1wUh1pjSpSjFEOTDJotEGy0SxTOAEpWTivLR+iTio2n0nKhOpAnjFRam/OxsCBgCmYvAP1PNzG2D1dwQMAQMAUMgQxEwJZShHWfVNgQMAUMgGxAwJZQNvWhtMAQMAUMgQxEwJZShHWfVNgQMAUMgGxAwJZQNvWhtMAQMAUMgQxHYanbHZWj/WLWLEYH+Q1bJyAnr5NsfOda7klvsniMtdi8rvbuWlyNih5EhYAgULgKmhAoXT+OWgQgM+nSNXHbfMpnx+4Y8tUcZcaCgGtUrIw9cUUV6dzNllAcoCzAE8olAVrvj7Ouq+RwVW1G2S+9dJkdesdgpoB2336xkvnltO9k0oY47uEbxEIeSIu1lsTxGhoAhUDgIZKUS4mWcvKiTd6DxRutbb73VvcNNIeMrnLycUw9ea8PH43ivnBIfoOM7NUHitTy8k80o8xFAAT306ua3caNoZrxfUy49qVLM/faPg4BrwogjDfRgLA95jQwBQ6DgCGSdEuJT2v/617/k9Ni3dPgoGm+w5kWjvO1aidfccPBVVQ6+jsrnEC666CJ3Tzq+ScTLO4PEq2zIa5TZCOCCUwWEtYOigdTa2anHfOFQK4k40pAWIi88jAwBQ6BgCGSdEuLrn1gxfGuH1+5g7WAJ8ZXTMWPGxNHiNT58Q4eDN0fz0lJesKkfcosntIstgsBDDz3k3vUXLJz3+RFXUFJLButGLR8UUMsTFjjlwjUHioYwriHSqkXEOpKRIWAIFAyBrFJCWC4om+AH23gbMx+1w9pJRLxFGgvIaMsigJLhYCKB0lHimjCN1/B0z2wymPnHBrfOoxYQPFBMi5dtki6ty8qv79V0B9eEqdJy6WIWka4RmTWULvqW3hDIjUBWKSG+qMqboevWrZu7lUnu+GYQ60F84rpLly5JUlt0USPA12j33HNP90lxVUSqgPjMOHGkyS+NGL/WZb30xNxvHh8xbnN4/5uquZ1w7IbjGvpuWm4XrOYdNMImLQ4g+zEE8onAPyuw+WRQErPxqQBo7ty5uawivqHDx9sgds7p9324Z3MC3+A57bTTuDXaggjgRn3ttdfcZ9tROigiSBUQcQV5w7n+B6hrm3K5Wrl4VO1c9/7NoqUb/VvRvEHllCuR3RgChkBSBLJKCfHZZz6bwFdDWQvCDcdOOYiZs7+hgM8JjBw50sXxrZ2wzxZgVQUpLCyYxu4LjkBQEcERC6igCgg+qjh0LYiwMMINx8YESC0fTad5VaFpuJ0NAUMgPQSyyh3HZoPmzZvHlQvfy8E1xxH8MB1p+Zw0R5gCql+/fq6NDMDKV0sXLlwoxBkVPQKqiFA+haWAUq21blJAyZzWs4L0Oy/9b0KlWpalMwS2ZgSySgnRkWzFZnMCn8lmO/WGDRvkq6++kjlz5oR+XTSq83v27Cnjxo2TV155xX19dOrUqXLvvfc6BcTnp42KBwFVRIVhAWmNmzfe7ABIZMWwEQFFhALSdSHNz1nzKi8/zq4NAUMgdQSyTgmx3frJJ5+UESNGSNu2bd0Mmu3X55xzTlqL2Ycccoj069dPHnjgAbdedMIJJ7jt3AjDMMspdcgtZboIoIg4CovUlaYbEcL4Dh6x+T9AD14ZXq7mVV5hPCzMEDAEkiNQ6qyzztoUI5dSz9zoNWf/WuM03D+zXqLHwIEDHc/8/Nw1dL38NHdznfKTX/Osj1lB1K9sTsGWvlavWSs5OWUkp0wZZV3izjf0yJFGNUuVuHqVxAqxRbtvv6VuBxxbsfNDjQ6f77Z5v3NfdXuXXH4AtDwZjcBRRx0lLHfowfJG2EEjCdezf+0CYz8Fk87KpZDPH0zZJCNnFFwJiaihV1BeZf9uYUH5FDJQHrsLum0yJeThkejy9F4Vpd+TK5y77cFXYq/g+fttCX6eUq3+cre8Qy5I5NH/GdnLTIPo2L0hkB4CKqXTy2WpDYEMR+DBKze/B463Huj6TipNIq2+KUF5pJLP0hgChkA4AqaEwnGx0CxHAAvmkr//rMprefQ9ctpsfYu23nPGAiItRF6zghwU9mMIFAgBU0IFgs8yZzICWDKqiNgNxwtLUUa+ZcQ1YcSpBUQes4Iyueet7iUJgRK5JnRzjzKycEXi9Zf+L71eknDc4nXp/+h0eb3Uii1ejy1Zgbvvvjvt4lEmXVuXc++GY0u2/464IDPeF0d6s4CCyNi9IZB/BEqkEuq8e3IDrXerk/LfastpCHgIoFQ4eBkp74LD+tG3KvA/ILZh9+5awZSPh5ldGgKFhUCJVEKF1TjjYwikg4Aqo3TyWFpDwBAoGALJTY6C8bfchoAhYAgYAoZAJAKmhCKhsQhDwBAwBAyBokbAlFBRI2z8DQFDwBAwBCIRMCUUCY1FGAKGgCFgCBQ1AqaEihph428IGAKGgCEQiYApoUhoLMIQMAQMAUOgqBEwJVTUCBt/Q8AQMAQMgUgETAlFQmMRhoAhYAgYAkWNgCmhokbY+BsChoAhYAhEImBKKBIaizAEDAFDwBAoagRMCRU1wsY/JQT4Au7KlStTSmuJDAFDIHsQyNh3x40bN07mzp2bpycqVqwo3bp1yxO+JQL69esnF154odSqVWtLFJ8xZU6bNk3eeecdqVq1qpx//vl56v3HH3/IlClTZN26ddK8eXOpW7dunjTBAPhts802cuCBBwaj4vd//vmnPP3003LjjTfGw4rrYu3atfLRRx/JYYcd5j6R7JdbmPX6/vvvpVy5crL77rv7Rdi1IVBiEMhYSwiBVbNmTXeMGjVKypcv765r1KhRpOD+/PPP0r9//9AyPv30U+HIBEKg33HHHU6wF1Z9wQV80qXRo0c7ZRGmgH766Sd5/PHHZenSpVKtWjV5/fXXMwbjRDiUKlXKjdlEaQojLicnRziMDIGSikDGKqHGjRtLu3bt3MED3aJFC3fNGcK18+2337pj9erVkfgjNMeMGSMLFiyQH3/8UTQt7qFZs2a5uL/++svlnzdvnkvDPTNMn2bMmCEzZ850xy+//BKPYsZLPZjtb9y4MR6+fv16xwuLbvny5fFw/2LSpEkubsKECfLdd98JvJYtWybjx4+X3377zU8q8KOMsWPHyqJFi3LFIcDJwwwbWrVqlUycONGlox1hbrAofr/++qssXLgwzh8lAX/qCi5gGGah+njOnj07nv+HH35wbYEHFk+QXn31VTnmmGOkd+/e0qFDBzn++OMFpUX9oKh6BvnMnz9fvv76a9c/1MUn2sMYoC3JaMOGDc4qA88VKzZ/v4nz1KlT41lJQ39pOYwtygYbDWPM1q5dO24FkYc+mT59ejxNnOHfF4w/xqQSePmYBfuZdEzWsAghxihjg3HCmGQ8KWn5tIsxNnnyZI2ysyFQpAiUadWqVb/CKoEHTI/jjjuusNgm5fPxxx/LPvvsI5UqVXJpeVgffvhhVxcevE8++UTatGmTZ0aIMHv77bfdg4qQ4B53Dw/t+++/L19++aWbrQ4dOlQaNmwoPKgIKgTatttuKzvvvHO8bpSDQkMoYqFtv/32MmLECCf0ypQp45QAyqlp06YuzVNPPSXUEwX0wQcfOAUanLH+97//dTwJRzgg2BAe3GP9LVmyRHbbbTdnzTz55JNOyCBYhgwZIrvssouzHKjvSy+95K7JQ9132GEHJ4hQKHXq1JF69epJhQoV4m3BSoriN2jQIClbtqzUr1/fpX/llVccDxQQGNAHuMuqV68e58cFdaIfKleuLOAJDzDFzQZupMeK3W677eL5EN4jR46UPn36uPRE0De77rqrKwelHlVPlAJuKHBA0b322muOP/hx36xZM4f9559/LnPmzBGUAu4xxu9OO+0Ur4N/QdwTTzzhJiyEDxgwQJgMUSf6qm3btq5MMKet7du3d5OV559/3o0xxhNjgDHGROCRRx6JuwvpI/qXepCOyVCXLl384t0YAK+9997bhdOfTCwYA2H9TN14NlA84EAfMMbpX5QX/bDffvu5Ml988UU3tnBnY80z8enatWuu8u3GEFAE3nzzTTduGK+JDtITr2f/2gXGfrLSTufhYtZ80EEHuXYiKBE8MYWr7XZnrJDTTz/dKRMezJtvvtmFI1CxKG644QYn/JixIiCOOOIIZzUgyPfff/9cvLDAEGaQXw4+fwQAguCBBx5w1hAKD/fhqaee6tIjIBEiKlxc4N8/vXr1ckoDAXfPPffIxRdf7O5Jy0A49NBD3SwexXTeeee5XA0aNHAzb4Q8yov6sDbSsWNH1y5mx927d3cCijMKwSesgih+fjr/mnU4rKGWLVtKo0aN/Cgn8OB50003ubIQzv1jrrtOnTpJ586dnUKlbihun1DSKHQEo0+qAD/77LOU6klbTjnlFKc4UdLUQ60Y4vr27euUB32IYolaU0QxtG7dOm5980DRl4yLvfbay7WfcYd1CeYoLfjRz4wB7m+//XZZvHhxLsypCxbQf/7zH9celDlKIR0K6+ew/LRR18lwxzJmmVBRfr/YGiZ4UP4LL7wQlt3CDIFCR6B0oXMsAQxxWTALVNpjjz3yuM9wOSDkENQQgpgHEMLVhYB59tln3cz3q6++cq4UF5nmDwIf4owQQwjCn7KZVXNQX1w1YaQWiloWKEQIfrQBIj+zYSUWoVEIWAoIema1rKvg7sFiTEaJ+CXLGxZPe7EuVNnRBqzK33//PSx5PIz0CGiEdxilWk/6GGvrueeecxsRKBtLBKIMLCYICxHrC7dWGKEM2WSCNYjl880338RdmSgd8AVzrBWsHXhhGatSZkzRT0FXLhMQJg46/uhznTGG1SMsLNV+rlKlSjw7Y4i2Uj5t1/KDSj+ewS4MgSJAICstIQSFChkw40ELPtQ8aLjJsID04VN8ScsiOGsRSsH8Gp6fM7wQRr67QwVhfvhhLehaFvlViJYuXdoJt6uvvtopKlxPzNwvu+yyhMUk4kfdo5RCFNNgf6AEWIeifomIfCghLFPdEUd/YTkeffTRzkqKarfPFxcUCvuEE05wVhUWRxjBi7ap4g+mIZ6ysZ5xYYInihDCRfjWW285BYOlhosOa5cxxsRDBTt9o5ac8kcx+O3Q8LBzFPYosXT7Wfkz1lMtX/PY2RAoLAQSS4HCKqWY+TALxZ3Gw8+aCzPU4BZVFA9rOriJeLDxkeuDSDiWCgKDNQoEiS6moyzgG0YInag4Pz11YXEYvvDHVaeKw0+X6jXtxfLBzcPMm7arJYilhasGIYUbhnJQAigAyl+zZk2eYhLxg49uimBNirorRWGDFUS5uHkg6oOgZz0qETFTx+2IsKePsDJwwXHN2lOievp8qS9KDEWARUSbwQBCGdK38MQ9S11pB1ZMcIOF3lNv8tOHygc8qc/gwYOdSxLeWFn0NZa0jjHqgsLyqVHMfUl5iitrdWGERUddKZND05M2qp/D+ATD4Es/srEG8jfWBNPavSFQ2AhkpSWE3xv3Fj5vhAPrFKxDBIl1HXzfKCIEA0KZmT4+cjZW4JdHcBF21FFHuew77rijO995551yzTXX5GK55557OpcPQo5dXFFE/XBF3XvvvW5BHoF68sknRyVPGo57C5733XefE+4I3JNOOsnlO/zww93snYVysOjRo4drJ5G4kB588EG3ZqFuScIT8QNLdqzdddddzpUJPghYiDj+n4Pi991+4MfuNrBG+ZPnzDPPzGOdOiaBHyweLIzbbrvN5UVgs84GJaqnz4Z1L9ZmUGBYoFgpCH36mWs2hmBtIdhZO4JQ5Cg9LYswMCI/6zqUjYuUfEq0n7HUpEkTDXKK/+WXX5YvvvjCtffII490ylfXpEjIuGNtD0WChcUYU0zjjGIXhFMu45r1M/JpukT97PMIu2ZcUD6bPBg7HPSZkSFQHAiUOuuss2LjeLMQ0TMF6zVn/1rjNNw/89DqMXDgwOKof8IysEoQejxkYYTLjhk51gPuGvz8119/fa70pEFoBikqHEEGBrr+Eczn35MO9xIWVGEQ/Cg/rGysvDA3E+GUHyZ0EvEDs6AbkzYkwzyqHsnaT3nUEcEbpET19NNG1Zk0QRzYXckkxVcoyisRH00TPKfSbvoOCmujzy9R+amU4/PSa8azuoRZQ2R3oSpkTWNnQ0ARYFKOXNWDZzPsIL3KFo33w7jOSkuIhkH6UG2+y/vLllyUDz56tu6ysymosMIUEJyiwhEgyYSI1oSyCksBwVMHhPL3z2EKiPiocOIS8QtTQORJhnmi8sgfRVHlkT5RPX1+iXj49WJihWstTAHBLxEfvzz/2ufvh/vXqY6bROWnUo5fJtcocTbhYGkxgWHDBRaokSFQHAhktSWUDECEDTuD2HLNDjrcM0aGwNaIABYsu/o4sw4XNcnaGrGxNudFwCyhvJjkKwTzkAV8XcTPFxPLZAhkAQJYsFh/RoZAcSMQvlhS3LWw8gwBQ8AQMAS2SgRMCW2V3W6NNgQMAUOgZCBgSqhk9IPVwhAwBAyBrRIBU0JbZbdbow0BQ8AQKBkImBIqGf1gtTAEDAFDYKtEwJTQQt+sSAAAMJZJREFUVtnt1mhDwBAwBEoGAqaESkY/WC0MAUPAENgqEdgqlBCvxuElmHzAjpdU+l8S5R1ifH+Ig3eI8Zp9/rCnNHz48PgnEzSMj375XxfV8Pyced+bvTAyL3L9+vVzL5HNG1P0IT/P3iB3v7D5q6lFX5qVYAhs3QhkvRJCAfEFS5QP30zhhZN33313/KNmvD2Yl1Xy+QLemMAbFHg5qb41m5deBj+/zZcveWO1UXYiMPOPDfLEgM3fG8rOFlqrDIGSg0BGvzuOFz7yOn0sG167w6ejg8Rr9KFLLrkkHsULIPnGzCGHHOLCeH9bu3bt4vF8XwXlk+hN2PHEf1/wAsgZsU8V8CZtiE8XoPB46zLh8OTzENSVr3CGvWON1wih/HjDdqPY26L9Tx3ADwXJe+54y7ESVhsvm6TtfIaA96gpgQ+feKA8fakp93yqgjd3Uxfwg8BP3ztGGt4iQR15rxjWIZ8l93nzqiNelsn7zqgznyzg0wtK8OZN5rznjPL1vWhgz+cUeGcfZfIWayXCUfhR72wjnY8RWDCxgJLVB4sX/nw6g6+cFoSwlD4du1Z2bVBGurbZ/EE8+C1YslE++nKtVKpQSg7qWE4qlt/8JupBn66R5o1zZPiYtXL8IRXk49i5c6uy8r/YuXqV0nJA+3JS5p9uc1X76bcNsnQFL6QV+ebH9dKhaVnHg3Jnz90oh+9bTrat9k8m6jRi3FqpV6u0HNyxfKyvNrcwWHaVSqUkqv6bc9ivIVC8CPwziou33AKXhjDi1fNYOAh33Fp8EyhIfCMl+P0WPsesCiiYnnsENEolHULI8RkDJT6b/OGHH7rbUaNGyTPPPOOE+eTJk91nuql/kN5//33Hg/Y8/fTTTnmRBuXDl1Epg88akA5C0GPV8WE1PhXAW8B9QvDzCQc+bQ6R/4033nAKiTL4lAQKDAz5pANKBSKNWn8oDT6Prm94dgliPygYPnUxbNgw94loeOn3dijnoYcecvVnEqCfiobXU0895T53wDdzeFO1fs+ISQH86K+XXnopHq7l6XnIkCGuPpTFSzdxs0KJ6gPmjBXaTB+NGDHC5cnPD0K9+zmLZFpMSVxwx7K4227G7xuk9YkLZezkdfLB52ukce/5snbd5j4+8+alcthFi2XkhLWyes0m4b7HJYvl60nrpN8Ty+XUG5fkqcrQz9a4PI++sVImTFkn+525UHpdulieGbTKKcBGPebL4mWb+Q8YvlranrxQJv60Xq64f7kce/U/Vnqw7Kj656mABRgCxYRAxlpCCMzWrVs7C0ZfEc5XQ1EwPvHhNWbiEEL7zz//dNdYP/qFS4Tj9OnTXThWCFYQ330pTOJ7P3xUDuJ7MCgpncUThtWEW/CGG25wSoLvxnz33XfOIuIjcHz7h/wdO3Z06ciDcOXro3xLBvr444+dm9G3CPWz07wXjPRYGVhFrIHx1vCDDjrI5UXRoKxInyphVZwe+8oohDLhBZjUW3l369bNWS64N/l+Du0B91NPPdXl4SulKFhemIki7Nu3r2svLtSbb745/gkRlzj2wySD7/XcdNNNrg18I6p///7uE+akiaoP3xKCN98Dos0oxa5du5IlbTr7lqXy7kPVnWVyTp+K0ueKxXLVaZVlxapN8sjVVaRn582f5dj3jIXy3ui10qf75vvHrq0i3dr+YzXd/q9tnBWF8mpxfOwz4DGLJyfwlYq2TcrKi7dUc3VcumKTLF+5SV65bfP9rL82yPsxRXVizLI659ZlMvCeao5/zHCVhofNE+Ib1NnM0C87qv5pA2EZDIFCQiBjlRBv+UUADxo0yLmvcO/oB+d8bLBqUEQQmwmwGLjHzXTRRRe5cBQawg3io2J8cM13hbmIAv7wCWcl3Fa413ziK5koU2b3EG42tUw6derkPiSHomzWrFn8g3EoV779ghVCeJs2bfK4JFF+bK6AH0oIxQBhPXXp0sVd84NrDLdbOkrIbxPuRm0TvMEa6wSibNx+tBFrhI+3QaTH5YdywJ3GV1shlCRWHHj4RH5cjupaROFhoTFxgMLqQz2YfKAYlbCiGAPUOR36Zc4GWbh0o1zz8PJ4tim/rpc5MfdYk11yZPyU9XLS9Uvkl5hrDEtpweKYRvib6tXO7XTYPuY2g3CfLVm+SVau3iRVK+dub7Vt/rlvWLeMbNj4j/VMvj/nb5TpszbImrWbpFOLso4fbrgDO5SXgR+vkUtPrLS5jL/LTlT/+oH6uYz2YwgUAwIZq4QQ0MykmYmjOHDLIPyChGBDGCJ8sTz4ginC1nfJsC6hXyIN5kdIIiz5kiWE1YSrzl//IByBGeZiIy4VIj9C8ZhjjoknVyFMG66++mrXPtqJxXfZZZc5hXPuuec6gc83YHCBXXrppVKjRo04D3iSX92WrFFBKHDf5UgbtTziC9oWvqzK2pMS1hmKiPJ9KwR8WYtivQkLSNeONJ9/DtYZBYSC8deq/PRc0ybie/XqlevbTf5aVDBP1H3pmE5g7ebBK6tIFU9h1KpRSkaOXysPvbpCBj9QXXaIWSBHxiyk4iCUR9nYU7wy5kktt1kPye/zNkirPfI+2onqXxx1tTIMgTAENk/HwmJKeJiuP2CxIIwQcMF1C5qAJUBadbcRxqzbF7iERRGL2KxroPSwnrhmYwC76XyiHqTRXXOseaRDCGysBJQBbiWEse7Qw3LAJYcywSVHGtrKegyuJnb1oWRxdSGUg4R1w/oUbi8V8rjncP9hpbD+M3HiRLe5gLxYJqzNQOm2gzxsasC1h2VCW+ABdmxeoJ+oA+HsTKQtWDZYOFijKD/cbrpWBD8l0pB+RmyjBwQmKLBEViuf4AYfJiKcUcrUAcUEhmolO4ZJfnbcvozsvEOOW/PZqV4ZQQGwEaFsTin56vt1skuDnFhYGWcZfTN1vaxb/4/lkoR1vqPZBHHIPuVju/lWxjAWty701cR10t1z/SnzRPXXNHY2BIobgbzTpeKuQT7LQ1Ayq7799tvdOgTChnWVIKEsTjvtNHn33XedgEbwYMUcd9xxwaSh9z179nRrLVgZzNQRhH369MmTll1gKIJHH33UCTsEXjpEeurE4jyuRpQkH46CWPPB6mOTAcKzR48eTpCrm441JspnB5uuc/llE86CPApZiWsEM3nh2bJlS2GNBdp3331l8ODBbgch7U2XDjvsMHn99dfltttuc9YablL4UyauM9yH9BeuUixT6IADDnBrNSgilBUYBK0xMOndu7dLR3tJg+s00YSCOMp49dVXnSuWtu63334uD8qI/4ZdfvnleZrINu1a3efFw2tWLy1T3t5O3ryrmpx43RJ57K2VsTWcUs7lFStCzjiiorw3arHscMg8t17UKKakcJUVB/3n3Mpy3NVLhE0MpWOVeey6qs49GCybekbVP5jW7g2B4kIg47+sinsMgZQKMesnLYIoXUIgMjvXbcxR+akPM/1EgjEqr4bjJkPABglLK6z8ZO1itv/YY4/JNddck6deUXlpLwo7VWyDdeUe3mCh1pemwSpCoWO5+USZ4KdrPn5c8DoKi2A6/x5cwc/vG8r07/30ia7ZmcaaDYLdp1Wx3W+6NdsPL45r1pb8daREZUbVP1EeizMEFAH7sqoiETunIyRZf8gvIajCFECQXzr1CebV+zAFRFxU+YnaxfrXyJEjpXv37qHCNiov7S1oW6J4MwkIKiDaR5mpKKBEWBAXRWG4BhUQ1stuR8yPYpGV4decXlnuuPif/2tlZSOtUSUWgdRMiBJbfatYMgRYI2IXHOtBRskR4A+omybUSZ7QUhgChkChIGBKqFBgLLlMdJ2n5NbQamYIGAJbMwLpL45szWhZ2w0BQ8AQMAQKFQFTQoUKpzEzBAwBQ8AQSAcBU0LpoGVpDQFDwBAwBAoVAVNChQqnMTMEDAFDwBBIBwFTQumgZWkNAUPAEDAEChUBU0KFCqcxMwQMAUPAEEgHAVNC6aBlaQ0BQ8AQMAQKFQFTQoUKpzEzBAwBQ8AQSAcBU0LpoGVpDQFDwBAwBAoVAVNChQqnMTMEDAFDwBBIB4ESq4R4u7GRIWAIGAKGQHYjUCKVkH5GILuht9YZAoaAIWAIlDglpAqooJ8RsK41BAwBQ8AQKPkIlDglVBjfsSn5sFsNDQFDwBAwBECgxCkh6xZDwBAwBAyBrQcBU0JbT19bSw0BQ8AQKHEImBIqcV1iFTIEDAFDYOtBwJTQ1tPX1lJDwBAwBEocAqaESlyXWIUMAUPAENh6EDAltPX0tbXUEDAEDIESh0BOiatRihUaMGCA3HnnnbJw4cIUc+ROtu2228o111wjRx99dO4IuzMEDAFDwBAoNgQy1hIqiAICXZQXPIwMAUPAEDAEthwCGWsJqQX0yy+/5Au9nXfeOd9WVL4KtEyGgCFgCBgCeRDIWEsoT0uKKWDdunWFVtL69esLjVe6jJ5//nmZNGlSutkKlP6JJ56Qn376yfH49ttv5eWXXy4Qv0zLPGPGDHn00Uczrdq56ltcYzYZVhs2bJBMeMnx66+/LuPGjcuFYWHdgMFDDz0kf/zxR2Gx3CJ8TAmlCPuXX34pp512mjRr1kw6duwoV111lSxevDjF3HmTTZ06VZo0aSJ//vmni1y6dKlMmzYtb8IiCkEJ/fDDD0XEPZztk08+KdOnT3eRKKGXXnopPGEBQ8F09uzZBeTyT/bC6ptkgvWfEkvmFf11yCGHFEnlgn2WDKuLL75YbrzxxiKpSyKm6Y6FolRCTIhNCSXqrSyK+/HHH+X88893yufTTz+V5557Tv766y+58MILJb8zw1133dXxqVOnjkNq1KhRcsIJJ2QRaluuKf/973/l9ttvL7QKWN9shrJHjx5y7733FhquPqN0++yyyy6Tc845x2dRLNc2Fgof5oxdEyp8KKI53nTTTdKmTRs577zzXKK6desKrqV9991XBg0a5HbYMbNftWqVsOtu5MiRUq1aNTn44IOlYsWK8vHHHzuL58ADD5QGDRo4HsuXL5dZs2bJ2rVrZezYsfLFF1/ImjVrhJlT586dpV69enkqtGDBAvnss89kxYoVcuihh0qNGjXiaZgVff311zJx4kRp1KiRHHTQQVKmTJl4/KJFi2To0KGujtQjSChTrD1cdHvuuad07do1mCR+TzvHjBkjP//8s+y///6uvHhk7AIen3/+udSqVUsOP/xwKV++vB+d0nWi9nz44Yey0047ye677+54MSFgcnD88cfLwIEDnbUFRmDJ7sd58+Y5l0i7du3ko48+Enj7fTFhwgSH6X777ef44eZ54403pHv37s46TdQ3YIBVSzsh+vCdd96Ro446SsqWLevC3n33XWf1upvYD7PpDz74wLmTDjvsMKlatapGuUlNWD/gennrrbecJUL8nDlz3PjS8RRn4F3g+kRo7rXXXkLb/fEwc+ZMGT16tAsDi5o1a7qc7Dpt3759fJxqexjL4Ijrp0WLFpJKfUjDmGOct23bVipUqCCMezwJPoX1mcZHYYXlVKlSJWnYsKFLSlm4vRh7PJc6NpSPnnlOV65cKfXr13fPJfh169ZN/Lf2L1myxI3f3377TVq2bOnwID/PXtRYSDbmwZpnc5dddnH9xoualbDa6SdkAc8+69U+JYvXtGCAPOLZaNWqlQaX+LO545J0EQLp+++/d4PDT4pyQVAz+CAeNmZnbPvG5XT//fc7993pp58uPNgMYAT2J5984tLzEF133XXugeAhRagwiKZMmSLLli1zafwfNmAgLJ566imnbCj7/fffd0lQIH379pV//etfTjFcffXVctxxx8nq1atdPJs4evfuLffdd59g1TGDnD9/fpw95Z555ply/fXXy6+//iqXXHKJ/N///V883r9AAWGxUQZCjnJuueWWeJJHHnlETjrpJFcPXAUoAYR+OpSsPQ8//LATEsoTbMASwqVJexFeYLlx40bXZuoLRvQlbsGePXsKLh/ovffey+UapM/hB99kfQMel156qVNi8EL5khdFAdGXl19+uRMw3IP1ySef7JT4a6+95gQyglnjovoBAQXfU045xSnar776yo0nxlUY0ddnnHGGoGxuvfVWQdmBBTR8+HA3HlC+8OnSpYs7Ezds2DDp378/l44QjnfffbdUqVLFCeAHH3zQhadSHzwFV1xxhVPS1IFJHBODIIX1GWkSYfXKK6/I4MGD46yYgNxxxx2uT3nmolx1TGCuvfZaVxcmDzfffHMuDwRKFpcjFh/PNn1F3aGosZBszL/44otCGvjxjPp1A1+UIM8yMoR+0ueaMpPFkwZizLJEgHxACWUSmSWUpLeYDTGrDs7eyLb99ts7haAsmNG++eabbgbMjKtPnz5y1llnxQUkDyQCjxm2Twh1HnIGKVZXGPHgkE/dISg2XBjMwJ9++mmn+JhtbbPNNk4Ao/BY98GN+Mwzz7gHmvjKlSs7BUQ8AxfCvYhC0ZkxSoS6I8SwqnzCAkTAk7ZcuXJOyGGVIWBQrAgpBBnuRgQVM3Asg2OPPdZnk/A6WXsSZQYnZrpYjT6WKEKUDzNfZvcoR+p57rnnJmLnBFSivmFdb7vttnNKhf7B0mJc/O9//3MTF6xcLMI99tjD4QPmt912mzRt2tQpBfDBcqYfE/WDum2PPPJI1y9Umr6lDcz8faKt9D3KmjoxGUG5MRPHikHoM1liAgEhFF944QXp0KGDU07U74YbbhBm6/Cnbr6l4JcVVR+sJjBAUey9995u/KEowiiqzxJh5fNBmfK8caavaBdtYBxgLQUJZYwyxFvBpAzBT33pJ3Chbx5//HFnJcKTsUKasOeUSU2yMQ/mjz32mKsGfY1y/s9//uPuuUZ5nH322e6ecpkAMsnk+UoU71u28GOsIX98D0mw7SXxvnRJrFRJqlOiNZ/SpUvHZ5fUeYcddoi7YJo3b+6awSxTCbcIs690iRkhAgTFocTDz8DmgcINhyBCAUEoQ2ZXzMqhb775xgkYFBCE64UHUF0C5MdNgLJAuaGQsPSwJII0fvx4wW3FAwLtuOOOTvDCGz4ISwQCfIYMGeLcJZMnTw6ySXifrD0JM0dE8sCq6wr3IMKZWWZBCQzpY7CmL7B0mV1jbSBEsYjoCyWEOUIOYvzgNlKcU+kH3ENKjCfNq2GccQPiUn3ggQecUEIJYTkgDKELLrhAjjjiCFdnJhW///67s1yJO+CAA5zLjDHD2FeribgwiqoPwrZ27dpOAZEP/INupjB+flgirPx09Ctj/t///rdzsTVu3FiwMsMUEPkY64x/CPzpQ5QRzxnj23dl49biucYNF0apjHk2Myl16tTJjQtchzwXTHD9zR5Y6LjO6ddk8coTxYVSZSLBUkGmkSmhJD2GJYBAxm0RJEx3HvYwUgHvx4WF+fFR1wxKZu8IfCUeauqGIMOVh+XhEw8Ovm2IcyITHZcNlsOIESPiBzMxZpVBYv3FrwfxlMUDPyPm3uJB9vngsw+mD/IM3idrTzB9fu5ZE8jvf8yC5anCR3CjhJkssP7BLJm1M18JBfNyrxZpOv0QxscPwwWE9ckaAWs8V155pVsPJA0KiYkEVgqTCfpO64CCZtaPawgFirDOz/oC1la6Ssevf9S11tOPx4LBw8CziOuQ9Vus6XQIvux2xXoKPksouaidsOmOeRQrljNub8Y5soWxqMT4oU8oL1m85lELEKs1E8nccUl6DWGPOwHfO/54JVxNzKTx9xc1YbkgKJg9MfuFWEfAJcasDSGPsNONE8SjNFVBoiSY4UURDxkKMpX/sJCWeuCqU2K2zGwPhYMriBm4LsprmnTOydqD1aXrKOnw9dPiulAXK/yYkeaXsEJZR3v11VedJQEfZrdYg6wP7rPPPimxTtQPrD2lSqyJMZNmvHKwsI1LrXXr1s6lxFodrjztQ2bQWAJKrB/iOkYg9+rVK24xa3wqZzbWgAeTEp4hKEyBpMIrWRomE9SVPuDAJcqzgFWXaPIV5ItyYCzw7KjVyOQPIc9GkzBKZcz77Z47d67rD8YeY45+VTcp/CkL2cJzTj8mitf63HXXXc5dylovG0Do50wis4RS6C1daObPlQg/3BcoH2YwPLCFQcyA4I3VE0Y8BOzYYnbNA8ciLO44HnAWT3lwEHoMWtLhEtO6cUZJ4W7joSIdsyx9OJgx4z5hlxJKhHUwhBQPQZCOOeYYp5CZdeGuYccWfmtmeGzh5QG65557XDtYO2JtAZdFOpSsPbi/UHxYb2ywYM0L0vbgBmJ9CgGoRL3wl6ulxm46rD0IflgxuCHBlkVkSPkl6xvcoMy+sTqYFEDsJsMlhFCIcgu5hN5POv3gZctzSVtPPfVUNw4UA8aJCmTOuHoYb4wn1qJotxKWE5OSt99+Oz6GNC7VM0qY8cEaJuPgu+++c30WlT+sz6LSBsNZSwU7zvQZbcWKR6mkS4w9nh+sQKwRLCtcfbpzMjgWUhnzyA3GFuOVDUsoLvqA9UTcmUwKsKjYaclEkLU5lHiyeG0bO3IZy6w/X3TRRZEyRNOXtLMpoRR6hPUdFnkRMgwa3BU83Cx052f7cViRuDxYK2Ch2t8do2lZvNxtt93chgFmOsxc8edDCFGEPbt4qCs+Ynas6QycjQPMiNkhhlXHDiHfRYbARNGylkF+1psog8EdJHihoJgpwwuBzW4q0rIgjxuEmSgPEuWjFHVWGeQVdZ+sPShVrEP4s6VV/fvKjzoy42QzAA8+hJLEr4/FxsPKTJR2Q2CPL552U1fcYr4ll6xv4IEQwOJU6xMcqSPhqVI6/ZCIJ+sCCDMWzGkvEwcW1+kTiLGEhUYdmT2DIa5l+gpCAbFmxNoK6yf5IerADj2sIcYS7sBE7rmwPku1XBQBOx9PPPFENyaZBLFQj/JIl9jpiGV7emyHHXhh9T/77LNu0wK8gmMhlTEPP6xO+LFZQ3eTqveBSQOTFzDHFafPdbL4YNt4JhmDYJ1JVCr2QMYmD5t3SemZBug1Z/9a4zTcP7Mwqwez6qIkHdD59evnNz8mNP5+dTEUdhuxhBCqrPWEEQMWayZsvYa+YPYWtTuGfFg6uoEhyJ/8WD+pzCDpZ9aaosqiHQiBguCUrD3MsHGfhJXh1481KtwzbApB0BJHviARx4NP/4ZRsr4Jy5OfsHT6IRl/6hzVR/RfUIEn45dOPBM18NRxgpJlfYwdaGHk91lYfLIwcKOs6tWrJ0uaNB4rjvEQ9pyROWwsJBvzPFv0BZgECUuUcRw1qU0WH+RX1Pd4ZpBRetCmsIN6aHs13g/jOoeO44D07F+HxWtY1Nkxy9KfMOFVmE2NEhhaBjMljjCikxPlZ4BHDXL4kT8VBURaBl+ishLFkT8VStaeRDPdqPqxEBxFieLIUxhtiirbD0+nH/x8YdeJ6lyUCgihycweqxmLCguZCSPWURRF9VlU+mA4uBWGAoIvlnOUAiI+DNewMNIqhXkWNC6ZyzZZvPIpzrMv/wtSbsZuTKBDmVmoRZMfEBINivzwszwlEwGUS0HGSclsVcmuFUKTT6Xw50lc2ayf8t8lXLhGhoCPQMYqIUz6gnxTCAUU5RbwAbLrzEeAhXa2HBsVLwKsBbFuamQIJEIgLXccjHwTLNF1okILI46FVg4jQ8AQMAQMgeJFANkPqQ6IKh0XqaaNSlMgJeRXwq9MskKjKmPhhoAhYAgYAiUfAWS8Khhf3mtYOi3IpYTIqAz9s15rPPcaptfB+3QqYWkNAUPAEDAEMgcBlftBpaN6INWWkD+HbZR+Rr0OnmFKmB7Be8LZYsmheVOtiKUzBAwBQ8AQyBwEVM4j69nViDJRhcQZ0jC9jjrnsGVXlYaeSazXnP1rjdNw/6xKiLORIWAIGAKGQHYiwJ+5UT56qMIJnml9IqVEfPg/IokxMgQMAUPAEDAEihgBU0JFDLCxNwQMAUPAEIhGwJRQNDYWYwgYAoaAIVDECJgSKmKAjb0hYAgYAoZANAKmhKKxsRhDwBAwBAyBIkbAlFARA2zsDQFDwBAwBKIRMCUUjY3FGAKGgCFgCBQxAqaEihhgY28IGAKGgCEQjYApoWhsLMYQMAQMAUOgiBEwJVTEABt7Q8AQMAQMgWgETAlFY2MxhoAhYAgYAkWMgCmhIgbY2BsChoAhYAhEI2BKKBobizEEDAFDwBAoYgRMCRUxwMbeEDAEDAFDIBoBU0LR2FiMIWAIGAKGQBEjYEqoiAE29oaAIWAIGALRCJgSisbGYgwBQ8AQMASKGAFTQkUMsLE3BAwBQ8AQiEYgZ8mSJTJ79mwpU6aMNG7cODplkpj58+fLwoULpUKFClK3bt0kqS3aEDAEDAFDwBAQyVm8eLFMmjTJYVEQJTRv3jyZPn261KhRw5SQjSxDwBAwBAyBlBAwd1xKMFkiQ8AQMAQMgaJAwJRQUaBqPA0BQ8AQMARSQsCUUEowWSJDwBAwBAyBokAgJxnTpUuXug0HbGAoXbq0VK5cWerVqyc5OdFZN27cmIytxRsChoAhYAgYAhKpSTZt2iQTJ06UadOm5YGJ8A4dOsh2222XJ27FihXy9ddf5wm3AEPAEDAEDAFDIIhApDvu22+/jSugHXbYQVq3bi0777yzlC1bVtavXy9jx4515yDDtWvXClaTkSFgCBgChoAhkAyBUEsIJTNz5kyXd7fddpNmzZq56x133NFtv/7iiy9kzZo1smjRIqlZs2aeMvbaa688YRZgCBgChoAhYAgEEQhVQvxxtWvXri4ta0A+1alTx60HoaiWL1+eRwlVq1ZNGjRo4Gexa0PAEDAEDAFDIBSBUCVUqlQpqV69usuwYMECZ/GsXLlScLVBKKAoYvOCkSFgCBgChoAhkAoCoUqIjLjbcLvxOh4jQ8AQMAQMAUOgKBCIVELffPONU0C8C441nm233dZtSsBK+vjjj52SKooKGU9DwBAwBAyBrQeBUCXEe+BmzZrlUOjcubNUqVLFXbNtGzKXm4PBfgwBQ8AQMAQKiEDoAg7rP0psyfaJ/wGtWrXKD8p1Tfy6detyhdmNIWAIGAKGgCEQhkCoElLLhww//PCDc73xFgTWh0aNGhXns3r16vi1XrB5YcKECXprZ0PAEChBCCSaQBZFNZEHW9sbVNau3+wxKgo8s5FnqDuOzzHUrl1b5s6dK7/++qs7whq/bNmysGDh8xBGhoAhUDIQ4K8Ut99+u4wePVrmzJkj/M3i7LPPlr59+wprvD7de++90r9/f7njjjukZ8+efpT7v2ClSpXkvffey/XXjGOOOUZw4Y8YMSKeftiwYfLiiy/K+PHjXRhvWPm///s/94d3As4880wZM2ZMPL1edOrUSZ588klXVtu2beXZZ5/VqBJ9nrdsowz5dq18MX2d/LZgg9SvUVqOaFlejmxVPk+9L3t9ufw8d4M827eK1Kqy2Q54e8IaeW70ajm/W0U5vFm5XHnOeWGZzF++UV4+u6rc9t5K+W5W3t3JrXbMkZt75/47TS4mJfgmJzgIqSthDJrvv/8+lwIqX768NG/eXP744w+3ZsR75ZSUD29XqFq1qgbb2RAwBLYgAhs2bJALLrjAveHkvPPOk1q1asnQoUPl1ltvdbU644wz4rUj7YABAwR3/BtvvJFHCWFFodBuueUWeeihh+L58Ij4Lnx21V500UXSqlUrVw7fGXvrrbfk1FNPdWUjH9h9C7/rr78+zoeL+vXru3viSJMpdN3AFTJr0QY5rm0Fqde2vIyatk7++8kq2Rgzio5q/Y8imhlTUN/P3qxEPpq8Vk7qUME1cb/dysrjsfQjf1ybSwnNmL9Bfpm3QfZrXFYqlSslazdskjXrNsl5MWXlU52qoU4tP0mJvc5p2LBh/M+luvGA2qJw2rRp45QO6zzlypVzYcQxUHiND+k1zx577OG+zIrpvbWZ32BiZAiURAQGDx4sn332mVx11VWCEoKOPvpo6dixozzzzDPiKyFc7Xg/2rdvL19++aX8/vvv7mXFwXa9++670qdPH+nSpUswyt1fe+217gvLL7/8cvxFx7xnEuvqgw8+kOOOO86lY+Lqlx/KLAMC/1q6UX6NKQsUSd99NyuVbnuUlVOeWSaf/7QulxIaNmmtlC0jsmvtMvJR7FqVEBZRswY5zspZtnqTVKmw2UJFmUEH7PWPdYTx6iu2DIAoYRWTqk/els1bENiqbWQIGAKZhQAvG4b23XffeMWZUD799NNyww035PrjOVYQrniUBZPLgQMHxvPoRcuWLd2kFdda2PoSr/JiZ227du3iCoi8xx9/vDz66KPStGlTZZU155rbxL4uUL6UfBtzk02es9nKKZdTSt44r6rcf/w28XZuiH1cYPgPa6XdTmWlR/PyMmfxxrhVRCIUDWlw6SmNjikhFFL7WJ5MJvWUhbUhqRIKy2RhhoAhkBkIsLFI/+vn1xhX2WGHHRZXFCiP4cOHu7BGjRo5VxpKSD0dmrdixYrOHYeiefjhhzU4fp4yZYq7xoviE5udKM9/ryQekx49euQ6fBe/n78kX5eJSdEbe1aWdRtELnltuZz/0jL5MGblBDcojP11nSxcsUm671nOudewiLCMlDrHXG6EfRaznqDZizZbWF12Lyc5sXAlXHznvrgs17F8TeZuhjAlpD1rZ0MgCxFI9Iotv7lDhgxxf63o1auXC2ZTwm+//Rb6WRb+O0g6Ng1MnTrVZ5PW3zN07Zn1Zz0SfacsV0El7KZNoxx57dyqck6XioI77d4PV0rf55bJH0v++bYaCqdi2dh6+y45bn2nw85lY2tA62R1bI0HwprqsEtZGT9zvayKhY2etllBHbBXbisIR12LmOvOP3IyWJKH7o5ziNiPIWAIZDwCrNXyWZYff/xR9txzz3h72CyA9YNFxAuLccVBjz32mNuYpDtfCWeNKEg33nijjBw5Uq677jphQ4MS5UGU6ROuu0mTJrmdeaxDQyghXILZQPyPH7fZsbFNCce0Ke/cbnd9sFIeGb5Kbj+qsixZtUm+/GWdU0I3Dd78P8w/YwoKZYMiOnjvzWs+uORwwY35eb07161WWprUzy2mWRNiF122UAbrz2zpAmuHIVB0CLRo0cIx5/tfSvyZ/MQTT5QLL7zQKSCsmcmTJwsKBNcdm5L4RAsbkNhI4O98Ux5sNLjmmmviCk7D2f5dt25dGTduXK4NSuy2Y0MC28SzjVAiB963WN4at3k3H0riwCblZNvKpd2GBdr7yZS1sj6mq3etU0bKxXQKR8PtSkuFmGXku+RY+0GZDRy/Wqb9tUH2j7nusHyymXKr2GxuqbXNENgKEcCt9tprr8l9993n1nd4O/7777/v/nh++eWXO0TUCrrnnnukSZMmcZQIZ1cd6fkvUJCOPfZYefvtt932bz8O64Yt2mwN7927t/s4Jjvl+O/hoYceGk/KepOWrYEot27durlbduoF43EFwqckUdudcqR6pdhGhK9Xu+3Tu8R2vo2fsT62/rPRrf9QV9aIqlYsJXcctY34rjOspeGxrdq/xzYp1Kte2q39sAb03nebFVrQFQcvrC74+VQjVn77mHsv0whr2JRQpvWa1dcQSAMBNhKwFRv32QMPPCAs/LPb9YorrpDzzz/f7Y4bNGiQ+xOpr4Ao4uCDD3buMv7jE6aEECC33XabHH744blqxAYE/k/0wgsvOGuLdGxU6Nevn3sRsiZGCaHkfOKvH6qEcBkG41955ZUSp4T4/84Tp1aRBz5aJW+OXSMr126SnWqWca65E2P/A+KPqRzsiPMVEO3G0vlfTAlhDen27v33LOuUUOO6ZaTBtt6OhL+BYgWJNSef9o657DJRCdGGUmeddVZsLGxeGNMzEXrtn4PX3PuH/keIc9j2TvgaGQKGwJZBgLWbJUuW5FIERV0TykMRsi18ayAk6XLvfz7Z2uajjjrKvcial1lzMNEIO2i/hut18GyWEIgYGQJbAQJsQOCTLMVJWF1bE7F+o3803ZraXZC22saEgqBneQ0BQ8AQMAQKhIApoQLBZ5kNAUPAENj6EMDFVlhUJEqoMCtYWA01PoaAIWAIGAIlDwGnhExplLyOsRoZAoaAIbA1IJDLEkpXGaWbfmsA1NpoCBgChoAhkDoCuZRQsmymdJIhZPGGgCFgCGy9CAR1RPA+DJm0lFAYg2BYKoUG89i9IWAIGAKGQGYhUFiyPmUlVFgFZhbMVltDwBAwBAyBokQgZSWUqBKmoBKhY3GGgCFgCGQ3Aol0QKI4UMmXEopiGhWe3fBb6wwBQ8AQ2DoRiJL5UeFhKOVLCfmM0inMz2fXhoAhYAgYAtmDQH51QR4llF9G2QOltcQQMAQMAUOgqBFQXZNHCWnBmkDvUz3nN1+q/C2dIWAIGAKGwJZHIL+yPpgvUgkla2KQkX/vXyfjY/GGgCFgCBgCmYWAL+P9a1oRvE/WsqRKKB2G6aRNVjGLNwQMAUPAECjZCKQj86PSJlVCJRsCq50hYAgYAoZAJiOQM23aNFd//Wqq3xg/LOxawzjrQX6+rLpy5UqpVKmSz86uDQFDwBAwBDIcAWT7jBkz3BdVaQoWjh7atLB7jdM8ep9ToUKF+Ke8NVCVC/fJrlX5aDoUENcffvih9OnTR1na2RAwBAwBQyALEEC2ly9f3ikePu0N+UqHaw3zz1HXOTALkioUwvU66qxpUD7+9aOPPuo05cEHH+y+Me8i7ccQMAQMAUMgIxFYtWqVDBs2TJDt6A0UkCoc/5rGaXjUOVeao48+epOPiCobwsKuNYxz8FrDOKOU/OP/2zuX3UiOGAgeNND//7AAb4wQQopT1d0jyQa8ygJaTCYfVc4DidmLd1zWeCfc0TmLH9U2VgWqQBX4DQq4AHb/rcTNEWtZKvnBp+/SMV/LXRPL+Q7iHvDt9fVV/2OpSDjspyUO55e+/xxHTPz29rZcSNantRd2dcjtqQJVoApUgXMFcuDPbGPY+blkcvG8vLzc84xRk5j+2cf74IylNX6jsWcOeP0jSyw/HuXy4XJiWDkWEpy+tbwhsb5vq60CVaAKVIHvK+BSoBNYX4x1uWDzm7HskfXyR5YY56klREEuCjE2Yy4irQ9n8YDJB2eNve7knz/21F/ZKzmrunJVoApUgb9RAebrlZN54N3nAiI+cdZw5873PcTNk8PeaOzJoQ62aPL62InlqAX7MDH3gf0lxN3WiNOCe6pAFagCVeDnFHC2p03MnHZ2i7FiY2l5nf7E+lgOeZ5bOpI76yKhBswRY/2lk9ZHy7mArKOHvaYldnTMP8pprApUgSrwWxRgrl495q6sc5sYX/pgzrSrPuRNPjnwpyVEsoN9hylaHep41MrC2Y9lRB6WQ4zPs8PGa6tAFagCVeDrCrgU6DCxfi4YuKPPPtaa6wuTNzdjN50rlma5JNIXp131zEVFfC4hubTgnipQBapAFfi+AsxojtaO+HLinc16a5LLniveOPZhCdHQRZPYIrm0xKwBz5hc/pOc+XMJ4VPvMU+/tgpUgSpQBb6mQM5WOqQP1k/sr6LkzPMVRzFzVvfB3f857sqg55KZl5yPyiUysb+CfIzx7JuYPM6Ke4/0bxWoAlWgClxVwDltfvritM9gepqfODnvTfvwS8hiBz8NJk4um3kZ+RPj+0to1s9cenqn78l7iqtAFagCVeDrCjhz6ZBYPzl/Cc0YOZlH3COvhd/h5RKy0RVrY5dG+mA+Ynz+EgIb446sTZz3yydXXAWqQBWoAtcUcDZndnIrLIcVU3/m5x0TZx9i9yUEOYd8ciucHI2u+uRlLvfinx1z5jvP6hqvAlWgCvxmBZydKw1mDH/FZe1Z3NyZJz/t4S8hmlwZ+ual9SKXjFZeaw3+LsdcbOYnX1wFqkAVqALvCjAnrx5ztdQd4VVsxeX9xrUZO1xCmUixC0msJU+slcse4OyhTw1HK38n+6cKVIEqUAWeUiBn6a5wlTM5/WnpeZXb3S9/uoS4yMVhEVZee5Xz4eTnL595R+aR68kaudoqUAWqQBV4VGA3R2dm5iUmT197xu16Z33mfCwhEuYiyEQvXuVkrVhrXfayBznPnC6gZ9RqbhWoAlXgXYGzWbuKy2nVUl8Lv8PWHNmPJXSUxAUujsxLfmLzss4crMd4csawxsG7HGI9VaAKVIEqcK7A0RydsZW/4rx1F5u8+dhPS4jEHPqZaExrLP3ExPE99pWb/szTN1//O9Y7v9OjtVWgClSB/0qBn5x/uzfPO6ZPnZzWXuknzhpzV5aaT0tolbTiKMyB7uVwq5g8vayzJjlw8vh5rE3uGXzU+5k+za0CVaAK/F8UuDr3Vnly2vxvTi4xOeknznrxwxKiYDfsM5bYZnJYjn3SF6/i96L4Y71U1srVVoEqUAWqwHUFrszRzEnMLekn9gXJJTauNfawhEzYWQpdDjbRpya5zJ2x9MGc7INvL3BPFagCVaAK/LwCqzm74rhZXpuvWXEZ3+HlEqLZXAi7BvCrfDkflv3k7Gls8jOuX1sFqkAVqALXFdjN1uxwlJOxxNZf5Vb5yyVEIk1dDhZqVzEfkTXJJbaP1pg+dtUn48VVoApUgSrwNQVWM3fVKfMSm7viiD3DH/6vHGyUC2FePmPUrDjq4O1pn5krP/Pka6tAFagCVeDfU2DO3ul780/x/wCRG8jgm/VUwAAAAABJRU5ErkJggg==)"
      ]
    },
    {
      "cell_type": "markdown",
      "metadata": {
        "id": "I2B1vF0-tzUY"
      },
      "source": [
        "## 1.3 Check if the GPU is available in the Colab environment"
      ]
    },
    {
      "cell_type": "code",
      "metadata": {
        "colab": {
          "base_uri": "https://localhost:8080/"
        },
        "id": "jdmBAzA1pwyu",
        "outputId": "23b41053-48c9-4452-9f83-f19944e2fb33"
      },
      "source": [
        "# The code in this cell is inspired by https://mccormickml.com/2019/07/22/BERT-fine-tuning/\n",
        "import tensorflow as tf\n",
        "\n",
        "# Get the GPU device name\n",
        "device_name = tf.test.gpu_device_name()\n",
        "print('Device name: {}'.format(device_name))"
      ],
      "execution_count": 1,
      "outputs": [
        {
          "output_type": "stream",
          "text": [
            "Device name: /device:GPU:0\n"
          ],
          "name": "stdout"
        }
      ]
    },
    {
      "cell_type": "markdown",
      "metadata": {
        "id": "1INFHBRQt_zx"
      },
      "source": [
        "## 1.4 GPU setting for PyTourch"
      ]
    },
    {
      "cell_type": "code",
      "metadata": {
        "colab": {
          "base_uri": "https://localhost:8080/"
        },
        "id": "BWBppjeesBkQ",
        "outputId": "0f124d42-bc31-469f-dfb2-683335eaa305"
      },
      "source": [
        "# The code in this cell is inspired by https://mccormickml.com/2019/07/22/BERT-fine-tuning/\n",
        "import torch\n",
        "\n",
        "# Tell PyTorch to use the GPU\n",
        "device = torch.device(\"cuda\")\n",
        "print('GPU:', torch.cuda.get_device_name(0))"
      ],
      "execution_count": 2,
      "outputs": [
        {
          "output_type": "stream",
          "text": [
            "GPU: Tesla T4\n"
          ],
          "name": "stdout"
        }
      ]
    },
    {
      "cell_type": "markdown",
      "metadata": {
        "id": "ELPv2Pj2uEHC"
      },
      "source": [
        "## 1.5 Install the Hugging Face Library"
      ]
    },
    {
      "cell_type": "code",
      "metadata": {
        "colab": {
          "base_uri": "https://localhost:8080/"
        },
        "id": "m9v0gtdFsMo2",
        "outputId": "005761a3-66d6-4f7a-b469-1863d83fa8d6"
      },
      "source": [
        "# In order to use a BERT framework, install the Hugging Face library\n",
        "!pip install transformers"
      ],
      "execution_count": 3,
      "outputs": [
        {
          "output_type": "stream",
          "text": [
            "Collecting transformers\n",
            "\u001b[?25l  Downloading https://files.pythonhosted.org/packages/ed/db/98c3ea1a78190dac41c0127a063abf92bd01b4b0b6970a6db1c2f5b66fa0/transformers-4.0.1-py3-none-any.whl (1.4MB)\n",
            "\r\u001b[K     |▎                               | 10kB 20.9MB/s eta 0:00:01\r\u001b[K     |▌                               | 20kB 27.1MB/s eta 0:00:01\r\u001b[K     |▊                               | 30kB 31.9MB/s eta 0:00:01\r\u001b[K     |█                               | 40kB 31.6MB/s eta 0:00:01\r\u001b[K     |█▏                              | 51kB 33.5MB/s eta 0:00:01\r\u001b[K     |█▌                              | 61kB 24.5MB/s eta 0:00:01\r\u001b[K     |█▊                              | 71kB 22.8MB/s eta 0:00:01\r\u001b[K     |██                              | 81kB 20.9MB/s eta 0:00:01\r\u001b[K     |██▏                             | 92kB 19.3MB/s eta 0:00:01\r\u001b[K     |██▍                             | 102kB 19.9MB/s eta 0:00:01\r\u001b[K     |██▋                             | 112kB 19.9MB/s eta 0:00:01\r\u001b[K     |███                             | 122kB 19.9MB/s eta 0:00:01\r\u001b[K     |███▏                            | 133kB 19.9MB/s eta 0:00:01\r\u001b[K     |███▍                            | 143kB 19.9MB/s eta 0:00:01\r\u001b[K     |███▋                            | 153kB 19.9MB/s eta 0:00:01\r\u001b[K     |███▉                            | 163kB 19.9MB/s eta 0:00:01\r\u001b[K     |████▏                           | 174kB 19.9MB/s eta 0:00:01\r\u001b[K     |████▍                           | 184kB 19.9MB/s eta 0:00:01\r\u001b[K     |████▋                           | 194kB 19.9MB/s eta 0:00:01\r\u001b[K     |████▉                           | 204kB 19.9MB/s eta 0:00:01\r\u001b[K     |█████                           | 215kB 19.9MB/s eta 0:00:01\r\u001b[K     |█████▎                          | 225kB 19.9MB/s eta 0:00:01\r\u001b[K     |█████▋                          | 235kB 19.9MB/s eta 0:00:01\r\u001b[K     |█████▉                          | 245kB 19.9MB/s eta 0:00:01\r\u001b[K     |██████                          | 256kB 19.9MB/s eta 0:00:01\r\u001b[K     |██████▎                         | 266kB 19.9MB/s eta 0:00:01\r\u001b[K     |██████▌                         | 276kB 19.9MB/s eta 0:00:01\r\u001b[K     |██████▉                         | 286kB 19.9MB/s eta 0:00:01\r\u001b[K     |███████                         | 296kB 19.9MB/s eta 0:00:01\r\u001b[K     |███████▎                        | 307kB 19.9MB/s eta 0:00:01\r\u001b[K     |███████▌                        | 317kB 19.9MB/s eta 0:00:01\r\u001b[K     |███████▊                        | 327kB 19.9MB/s eta 0:00:01\r\u001b[K     |████████                        | 337kB 19.9MB/s eta 0:00:01\r\u001b[K     |████████▎                       | 348kB 19.9MB/s eta 0:00:01\r\u001b[K     |████████▌                       | 358kB 19.9MB/s eta 0:00:01\r\u001b[K     |████████▊                       | 368kB 19.9MB/s eta 0:00:01\r\u001b[K     |█████████                       | 378kB 19.9MB/s eta 0:00:01\r\u001b[K     |█████████▏                      | 389kB 19.9MB/s eta 0:00:01\r\u001b[K     |█████████▌                      | 399kB 19.9MB/s eta 0:00:01\r\u001b[K     |█████████▊                      | 409kB 19.9MB/s eta 0:00:01\r\u001b[K     |██████████                      | 419kB 19.9MB/s eta 0:00:01\r\u001b[K     |██████████▏                     | 430kB 19.9MB/s eta 0:00:01\r\u001b[K     |██████████▍                     | 440kB 19.9MB/s eta 0:00:01\r\u001b[K     |██████████▋                     | 450kB 19.9MB/s eta 0:00:01\r\u001b[K     |███████████                     | 460kB 19.9MB/s eta 0:00:01\r\u001b[K     |███████████▏                    | 471kB 19.9MB/s eta 0:00:01\r\u001b[K     |███████████▍                    | 481kB 19.9MB/s eta 0:00:01\r\u001b[K     |███████████▋                    | 491kB 19.9MB/s eta 0:00:01\r\u001b[K     |███████████▉                    | 501kB 19.9MB/s eta 0:00:01\r\u001b[K     |████████████▏                   | 512kB 19.9MB/s eta 0:00:01\r\u001b[K     |████████████▍                   | 522kB 19.9MB/s eta 0:00:01\r\u001b[K     |████████████▋                   | 532kB 19.9MB/s eta 0:00:01\r\u001b[K     |████████████▉                   | 542kB 19.9MB/s eta 0:00:01\r\u001b[K     |█████████████                   | 552kB 19.9MB/s eta 0:00:01\r\u001b[K     |█████████████▎                  | 563kB 19.9MB/s eta 0:00:01\r\u001b[K     |█████████████▋                  | 573kB 19.9MB/s eta 0:00:01\r\u001b[K     |█████████████▉                  | 583kB 19.9MB/s eta 0:00:01\r\u001b[K     |██████████████                  | 593kB 19.9MB/s eta 0:00:01\r\u001b[K     |██████████████▎                 | 604kB 19.9MB/s eta 0:00:01\r\u001b[K     |██████████████▌                 | 614kB 19.9MB/s eta 0:00:01\r\u001b[K     |██████████████▉                 | 624kB 19.9MB/s eta 0:00:01\r\u001b[K     |███████████████                 | 634kB 19.9MB/s eta 0:00:01\r\u001b[K     |███████████████▎                | 645kB 19.9MB/s eta 0:00:01\r\u001b[K     |███████████████▌                | 655kB 19.9MB/s eta 0:00:01\r\u001b[K     |███████████████▊                | 665kB 19.9MB/s eta 0:00:01\r\u001b[K     |████████████████                | 675kB 19.9MB/s eta 0:00:01\r\u001b[K     |████████████████▎               | 686kB 19.9MB/s eta 0:00:01\r\u001b[K     |████████████████▌               | 696kB 19.9MB/s eta 0:00:01\r\u001b[K     |████████████████▊               | 706kB 19.9MB/s eta 0:00:01\r\u001b[K     |█████████████████               | 716kB 19.9MB/s eta 0:00:01\r\u001b[K     |█████████████████▏              | 727kB 19.9MB/s eta 0:00:01\r\u001b[K     |█████████████████▌              | 737kB 19.9MB/s eta 0:00:01\r\u001b[K     |█████████████████▊              | 747kB 19.9MB/s eta 0:00:01\r\u001b[K     |██████████████████              | 757kB 19.9MB/s eta 0:00:01\r\u001b[K     |██████████████████▏             | 768kB 19.9MB/s eta 0:00:01\r\u001b[K     |██████████████████▍             | 778kB 19.9MB/s eta 0:00:01\r\u001b[K     |██████████████████▋             | 788kB 19.9MB/s eta 0:00:01\r\u001b[K     |███████████████████             | 798kB 19.9MB/s eta 0:00:01\r\u001b[K     |███████████████████▏            | 808kB 19.9MB/s eta 0:00:01\r\u001b[K     |███████████████████▍            | 819kB 19.9MB/s eta 0:00:01\r\u001b[K     |███████████████████▋            | 829kB 19.9MB/s eta 0:00:01\r\u001b[K     |███████████████████▉            | 839kB 19.9MB/s eta 0:00:01\r\u001b[K     |████████████████████▏           | 849kB 19.9MB/s eta 0:00:01\r\u001b[K     |████████████████████▍           | 860kB 19.9MB/s eta 0:00:01\r\u001b[K     |████████████████████▋           | 870kB 19.9MB/s eta 0:00:01\r\u001b[K     |████████████████████▉           | 880kB 19.9MB/s eta 0:00:01\r\u001b[K     |█████████████████████           | 890kB 19.9MB/s eta 0:00:01\r\u001b[K     |█████████████████████▎          | 901kB 19.9MB/s eta 0:00:01\r\u001b[K     |█████████████████████▋          | 911kB 19.9MB/s eta 0:00:01\r\u001b[K     |█████████████████████▉          | 921kB 19.9MB/s eta 0:00:01\r\u001b[K     |██████████████████████          | 931kB 19.9MB/s eta 0:00:01\r\u001b[K     |██████████████████████▎         | 942kB 19.9MB/s eta 0:00:01\r\u001b[K     |██████████████████████▌         | 952kB 19.9MB/s eta 0:00:01\r\u001b[K     |██████████████████████▊         | 962kB 19.9MB/s eta 0:00:01\r\u001b[K     |███████████████████████         | 972kB 19.9MB/s eta 0:00:01\r\u001b[K     |███████████████████████▎        | 983kB 19.9MB/s eta 0:00:01\r\u001b[K     |███████████████████████▌        | 993kB 19.9MB/s eta 0:00:01\r\u001b[K     |███████████████████████▊        | 1.0MB 19.9MB/s eta 0:00:01\r\u001b[K     |████████████████████████        | 1.0MB 19.9MB/s eta 0:00:01\r\u001b[K     |████████████████████████▎       | 1.0MB 19.9MB/s eta 0:00:01\r\u001b[K     |████████████████████████▌       | 1.0MB 19.9MB/s eta 0:00:01\r\u001b[K     |████████████████████████▊       | 1.0MB 19.9MB/s eta 0:00:01\r\u001b[K     |█████████████████████████       | 1.1MB 19.9MB/s eta 0:00:01\r\u001b[K     |█████████████████████████▏      | 1.1MB 19.9MB/s eta 0:00:01\r\u001b[K     |█████████████████████████▍      | 1.1MB 19.9MB/s eta 0:00:01\r\u001b[K     |█████████████████████████▊      | 1.1MB 19.9MB/s eta 0:00:01\r\u001b[K     |██████████████████████████      | 1.1MB 19.9MB/s eta 0:00:01\r\u001b[K     |██████████████████████████▏     | 1.1MB 19.9MB/s eta 0:00:01\r\u001b[K     |██████████████████████████▍     | 1.1MB 19.9MB/s eta 0:00:01\r\u001b[K     |██████████████████████████▋     | 1.1MB 19.9MB/s eta 0:00:01\r\u001b[K     |███████████████████████████     | 1.1MB 19.9MB/s eta 0:00:01\r\u001b[K     |███████████████████████████▏    | 1.1MB 19.9MB/s eta 0:00:01\r\u001b[K     |███████████████████████████▍    | 1.2MB 19.9MB/s eta 0:00:01\r\u001b[K     |███████████████████████████▋    | 1.2MB 19.9MB/s eta 0:00:01\r\u001b[K     |███████████████████████████▉    | 1.2MB 19.9MB/s eta 0:00:01\r\u001b[K     |████████████████████████████    | 1.2MB 19.9MB/s eta 0:00:01\r\u001b[K     |████████████████████████████▍   | 1.2MB 19.9MB/s eta 0:00:01\r\u001b[K     |████████████████████████████▋   | 1.2MB 19.9MB/s eta 0:00:01\r\u001b[K     |████████████████████████████▉   | 1.2MB 19.9MB/s eta 0:00:01\r\u001b[K     |█████████████████████████████   | 1.2MB 19.9MB/s eta 0:00:01\r\u001b[K     |█████████████████████████████▎  | 1.2MB 19.9MB/s eta 0:00:01\r\u001b[K     |█████████████████████████████▋  | 1.2MB 19.9MB/s eta 0:00:01\r\u001b[K     |█████████████████████████████▉  | 1.3MB 19.9MB/s eta 0:00:01\r\u001b[K     |██████████████████████████████  | 1.3MB 19.9MB/s eta 0:00:01\r\u001b[K     |██████████████████████████████▎ | 1.3MB 19.9MB/s eta 0:00:01\r\u001b[K     |██████████████████████████████▌ | 1.3MB 19.9MB/s eta 0:00:01\r\u001b[K     |██████████████████████████████▊ | 1.3MB 19.9MB/s eta 0:00:01\r\u001b[K     |███████████████████████████████ | 1.3MB 19.9MB/s eta 0:00:01\r\u001b[K     |███████████████████████████████▎| 1.3MB 19.9MB/s eta 0:00:01\r\u001b[K     |███████████████████████████████▌| 1.3MB 19.9MB/s eta 0:00:01\r\u001b[K     |███████████████████████████████▊| 1.3MB 19.9MB/s eta 0:00:01\r\u001b[K     |████████████████████████████████| 1.4MB 19.9MB/s eta 0:00:01\r\u001b[K     |████████████████████████████████| 1.4MB 19.9MB/s \n",
            "\u001b[?25hRequirement already satisfied: filelock in /usr/local/lib/python3.6/dist-packages (from transformers) (3.0.12)\n",
            "Requirement already satisfied: tqdm>=4.27 in /usr/local/lib/python3.6/dist-packages (from transformers) (4.41.1)\n",
            "Requirement already satisfied: regex!=2019.12.17 in /usr/local/lib/python3.6/dist-packages (from transformers) (2019.12.20)\n",
            "Requirement already satisfied: numpy in /usr/local/lib/python3.6/dist-packages (from transformers) (1.18.5)\n",
            "Collecting tokenizers==0.9.4\n",
            "\u001b[?25l  Downloading https://files.pythonhosted.org/packages/0f/1c/e789a8b12e28be5bc1ce2156cf87cb522b379be9cadc7ad8091a4cc107c4/tokenizers-0.9.4-cp36-cp36m-manylinux2010_x86_64.whl (2.9MB)\n",
            "\u001b[K     |████████████████████████████████| 2.9MB 56.0MB/s \n",
            "\u001b[?25hCollecting sacremoses\n",
            "\u001b[?25l  Downloading https://files.pythonhosted.org/packages/7d/34/09d19aff26edcc8eb2a01bed8e98f13a1537005d31e95233fd48216eed10/sacremoses-0.0.43.tar.gz (883kB)\n",
            "\u001b[K     |████████████████████████████████| 890kB 60.3MB/s \n",
            "\u001b[?25hRequirement already satisfied: dataclasses; python_version < \"3.7\" in /usr/local/lib/python3.6/dist-packages (from transformers) (0.8)\n",
            "Requirement already satisfied: packaging in /usr/local/lib/python3.6/dist-packages (from transformers) (20.7)\n",
            "Requirement already satisfied: requests in /usr/local/lib/python3.6/dist-packages (from transformers) (2.23.0)\n",
            "Requirement already satisfied: six in /usr/local/lib/python3.6/dist-packages (from sacremoses->transformers) (1.15.0)\n",
            "Requirement already satisfied: click in /usr/local/lib/python3.6/dist-packages (from sacremoses->transformers) (7.1.2)\n",
            "Requirement already satisfied: joblib in /usr/local/lib/python3.6/dist-packages (from sacremoses->transformers) (0.17.0)\n",
            "Requirement already satisfied: pyparsing>=2.0.2 in /usr/local/lib/python3.6/dist-packages (from packaging->transformers) (2.4.7)\n",
            "Requirement already satisfied: chardet<4,>=3.0.2 in /usr/local/lib/python3.6/dist-packages (from requests->transformers) (3.0.4)\n",
            "Requirement already satisfied: urllib3!=1.25.0,!=1.25.1,<1.26,>=1.21.1 in /usr/local/lib/python3.6/dist-packages (from requests->transformers) (1.24.3)\n",
            "Requirement already satisfied: certifi>=2017.4.17 in /usr/local/lib/python3.6/dist-packages (from requests->transformers) (2020.12.5)\n",
            "Requirement already satisfied: idna<3,>=2.5 in /usr/local/lib/python3.6/dist-packages (from requests->transformers) (2.10)\n",
            "Building wheels for collected packages: sacremoses\n",
            "  Building wheel for sacremoses (setup.py) ... \u001b[?25l\u001b[?25hdone\n",
            "  Created wheel for sacremoses: filename=sacremoses-0.0.43-cp36-none-any.whl size=893261 sha256=30faccff078d2908abab74fb4ac5b687545df524f8b79ec31f312417652ba253\n",
            "  Stored in directory: /root/.cache/pip/wheels/29/3c/fd/7ce5c3f0666dab31a50123635e6fb5e19ceb42ce38d4e58f45\n",
            "Successfully built sacremoses\n",
            "Installing collected packages: tokenizers, sacremoses, transformers\n",
            "Successfully installed sacremoses-0.0.43 tokenizers-0.9.4 transformers-4.0.1\n"
          ],
          "name": "stdout"
        }
      ]
    },
    {
      "cell_type": "markdown",
      "metadata": {
        "id": "ohNM5m0kubir"
      },
      "source": [
        "# **2. Loading Dataset**"
      ]
    },
    {
      "cell_type": "markdown",
      "metadata": {
        "id": "xozsBo8k1PT2"
      },
      "source": [
        "## 2.1 Download the twitter dataset from github repo"
      ]
    },
    {
      "cell_type": "code",
      "metadata": {
        "colab": {
          "base_uri": "https://localhost:8080/"
        },
        "id": "ZqRt1BDEzIDo",
        "outputId": "8574973e-405a-4154-970a-754b39cf6c26"
      },
      "source": [
        "!pip install wget"
      ],
      "execution_count": 4,
      "outputs": [
        {
          "output_type": "stream",
          "text": [
            "Collecting wget\n",
            "  Downloading https://files.pythonhosted.org/packages/47/6a/62e288da7bcda82b935ff0c6cfe542970f04e29c756b0e147251b2fb251f/wget-3.2.zip\n",
            "Building wheels for collected packages: wget\n",
            "  Building wheel for wget (setup.py) ... \u001b[?25l\u001b[?25hdone\n",
            "  Created wheel for wget: filename=wget-3.2-cp36-none-any.whl size=9681 sha256=981a3167b00ac79cf0b826e326dd1224bcc684af3eddaf6c3e7903fdbf3017e1\n",
            "  Stored in directory: /root/.cache/pip/wheels/40/15/30/7d8f7cea2902b4db79e3fea550d7d7b85ecb27ef992b618f3f\n",
            "Successfully built wget\n",
            "Installing collected packages: wget\n",
            "Successfully installed wget-3.2\n"
          ],
          "name": "stdout"
        }
      ]
    },
    {
      "cell_type": "code",
      "metadata": {
        "colab": {
          "base_uri": "https://localhost:8080/"
        },
        "id": "MaWjQjOruhy_",
        "outputId": "417afb59-9af0-4586-8c67-6c990409849a"
      },
      "source": [
        "import wget\n",
        "import os\n",
        "\n",
        "# Download the training file from the project github repo\n",
        "if not os.path.exists('./train.jsonl'):\n",
        "    wget.download('https://github.com/CS410Fall2020/ClassificationCompetition/raw/main/data/train.jsonl')\n",
        "    print('Downloading train.jsonl')\n",
        "else:\n",
        "    print('train.jsonl is already exist')"
      ],
      "execution_count": 5,
      "outputs": [
        {
          "output_type": "stream",
          "text": [
            "Downloading train.jsonl\n"
          ],
          "name": "stdout"
        }
      ]
    },
    {
      "cell_type": "markdown",
      "metadata": {
        "id": "-BJWOh82mTIE"
      },
      "source": [
        "## 2.2 Analyze the dataset"
      ]
    },
    {
      "cell_type": "markdown",
      "metadata": {
        "id": "Ff7JfolOPvXT"
      },
      "source": [
        "To check if the training data is same as what we expect, display the total number of data and its contents."
      ]
    },
    {
      "cell_type": "code",
      "metadata": {
        "colab": {
          "base_uri": "https://localhost:8080/",
          "height": 238
        },
        "id": "4nPumBfXmZKZ",
        "outputId": "ae63c473-1f93-4e50-b9b6-77408d67d4ce"
      },
      "source": [
        "import pandas as pd\n",
        "# Load the train data as pandas dataframe\n",
        "df = pd.read_json('./train.jsonl', orient='records', lines=True)\n",
        "\n",
        "print('Number of training data: {:,}\\n'.format(df.shape[0]))\n",
        "\n",
        "# check the train data\n",
        "df.sample(n=5, random_state=0)"
      ],
      "execution_count": 6,
      "outputs": [
        {
          "output_type": "stream",
          "text": [
            "Number of training data: 5,000\n",
            "\n"
          ],
          "name": "stdout"
        },
        {
          "output_type": "execute_result",
          "data": {
            "text/html": [
              "<div>\n",
              "<style scoped>\n",
              "    .dataframe tbody tr th:only-of-type {\n",
              "        vertical-align: middle;\n",
              "    }\n",
              "\n",
              "    .dataframe tbody tr th {\n",
              "        vertical-align: top;\n",
              "    }\n",
              "\n",
              "    .dataframe thead th {\n",
              "        text-align: right;\n",
              "    }\n",
              "</style>\n",
              "<table border=\"1\" class=\"dataframe\">\n",
              "  <thead>\n",
              "    <tr style=\"text-align: right;\">\n",
              "      <th></th>\n",
              "      <th>label</th>\n",
              "      <th>response</th>\n",
              "      <th>context</th>\n",
              "    </tr>\n",
              "  </thead>\n",
              "  <tbody>\n",
              "    <tr>\n",
              "      <th>398</th>\n",
              "      <td>SARCASM</td>\n",
              "      <td>Countered with #climatechange activists stuck ...</td>\n",
              "      <td>[One good #climatechange meme deserves a story...</td>\n",
              "    </tr>\n",
              "    <tr>\n",
              "      <th>3833</th>\n",
              "      <td>NOT_SARCASM</td>\n",
              "      <td>@USER @USER @USER When we share love , we get ...</td>\n",
              "      <td>[\" Heaven on Earth is a choice you must make ,...</td>\n",
              "    </tr>\n",
              "    <tr>\n",
              "      <th>4836</th>\n",
              "      <td>NOT_SARCASM</td>\n",
              "      <td>@USER @USER @USER Give me nothing . Just sayin...</td>\n",
              "      <td>[@USER @USER @USER A question noone is asking ...</td>\n",
              "    </tr>\n",
              "    <tr>\n",
              "      <th>4572</th>\n",
              "      <td>NOT_SARCASM</td>\n",
              "      <td>🍗 Sinning happens nearly everywhere . As a res...</td>\n",
              "      <td>[🍗 The Spiritual explanation for cancer appear...</td>\n",
              "    </tr>\n",
              "    <tr>\n",
              "      <th>636</th>\n",
              "      <td>SARCASM</td>\n",
              "      <td>@USER I was going for the . PV method gives MM...</td>\n",
              "      <td>[In PEI Electoral Reform Plebiscite , FPTP get...</td>\n",
              "    </tr>\n",
              "  </tbody>\n",
              "</table>\n",
              "</div>"
            ],
            "text/plain": [
              "            label  ...                                            context\n",
              "398       SARCASM  ...  [One good #climatechange meme deserves a story...\n",
              "3833  NOT_SARCASM  ...  [\" Heaven on Earth is a choice you must make ,...\n",
              "4836  NOT_SARCASM  ...  [@USER @USER @USER A question noone is asking ...\n",
              "4572  NOT_SARCASM  ...  [🍗 The Spiritual explanation for cancer appear...\n",
              "636       SARCASM  ...  [In PEI Electoral Reform Plebiscite , FPTP get...\n",
              "\n",
              "[5 rows x 3 columns]"
            ]
          },
          "metadata": {
            "tags": []
          },
          "execution_count": 6
        }
      ]
    },
    {
      "cell_type": "markdown",
      "metadata": {
        "id": "n0gfJISpPR1-"
      },
      "source": [
        "We can see that the data size is 5000 and the data has label, response and context information as expected.\n",
        "Next, let's check the balance of a label distribution(how many data is SARCASM and NOT_SARCASM)"
      ]
    },
    {
      "cell_type": "code",
      "metadata": {
        "colab": {
          "base_uri": "https://localhost:8080/"
        },
        "id": "kfGIwpRy6utW",
        "outputId": "e042fbd2-af41-49a2-d20c-31b56a56fb1d"
      },
      "source": [
        "# Check the label distribution\n",
        "print(df['label'].value_counts())"
      ],
      "execution_count": 7,
      "outputs": [
        {
          "output_type": "stream",
          "text": [
            "SARCASM        2500\n",
            "NOT_SARCASM    2500\n",
            "Name: label, dtype: int64\n"
          ],
          "name": "stdout"
        }
      ]
    },
    {
      "cell_type": "markdown",
      "metadata": {
        "id": "rsIbyQn5QaK8"
      },
      "source": [
        "\n",
        "The train data is equally balanced in terms of the label. So, we can use these data as the training data set."
      ]
    },
    {
      "cell_type": "markdown",
      "metadata": {
        "id": "_dI8D6piSwsF"
      },
      "source": [
        "## 2.3 Make an initial strategy"
      ]
    },
    {
      "cell_type": "markdown",
      "metadata": {
        "id": "CrbP74IgS1Ud"
      },
      "source": [
        "Intuitively, we should use context information to judge if the response tweet is sarcasm or not. However, how many context tweets should we use? Before deciding the initial strategy, let's check how many tweets are stored as the context information."
      ]
    },
    {
      "cell_type": "markdown",
      "metadata": {
        "id": "Tv7cosVYQA5k"
      },
      "source": [
        "As the all context information is stored in the \"context\" column regardless of the number of the context tweets, let's devide the context column's information into several tweets, count the number of divided context tweets as \"comment_num\", and save them as a nuw column(in this case, I only save the latest tweet as \"pre_comment\")."
      ]
    },
    {
      "cell_type": "code",
      "metadata": {
        "id": "4nf0J5gG635o",
        "colab": {
          "base_uri": "https://localhost:8080/",
          "height": 296
        },
        "outputId": "2d7cedd2-0deb-44a8-89a6-9e1ff9f56dbf"
      },
      "source": [
        "# Check a number of comments for each tweets\n",
        "import re\n",
        "\n",
        "# This function it to devide the several context tweets by using specific patterns\n",
        "def split_context(a_string):\n",
        "    stripped_string = str(a_string).strip('[]').strip('\\'\\\"')\n",
        "    pattern = '\\\", \\\"|\\', \\'|\\', \\\"|\\\", \\''\n",
        "    splitted_string = re.split(pattern, stripped_string)\n",
        "    splitted_string = [x for x in splitted_string if x is not None]\n",
        "    return pd.Series([splitted_string[0], len(splitted_string)])\n",
        "\n",
        "# Create \"comment_num\" column from context information\n",
        "df[['pre_comment', 'comment_num']] = df['context'].apply(split_context)\n",
        "#df.sample(n=5, random_state=0)\n",
        "\n",
        "# Number of training data(SARCASM) corresponding to the number of comments\n",
        "num_sarcasm_data_by_comments = df[df['label']=='SARCASM']['comment_num'].value_counts().sort_index()\n",
        "\n",
        "# Number of training data(NON_SARCASM) corresponding to the number of comments\n",
        "num_non_sarcasm_data_by_comments = df[df['label']=='NOT_SARCASM']['comment_num'].value_counts().sort_index()\n",
        "\n",
        "# Graph\n",
        "val1 = num_non_sarcasm_data_by_comments\n",
        "val2 = num_sarcasm_data_by_comments\n",
        "index = num_non_sarcasm_data_by_comments.index\n",
        "df_plot = pd.DataFrame({'SARCSM': val1, 'NOT_SARCASM': val2}, index=index)\n",
        "ax = df_plot.plot.bar(rot=0)\n",
        "ax.set_xlabel('The number of context tweets')\n",
        "ax.set_ylabel(\"The number of data\")"
      ],
      "execution_count": 8,
      "outputs": [
        {
          "output_type": "execute_result",
          "data": {
            "text/plain": [
              "Text(0, 0.5, 'The number of data')"
            ]
          },
          "metadata": {
            "tags": []
          },
          "execution_count": 8
        },
        {
          "output_type": "display_data",
          "data": {
            "image/png": "[encoded data removed]",
            "text/plain": [
              "<Figure size 432x288 with 1 Axes>"
            ]
          },
          "metadata": {
            "tags": [],
            "needs_background": "light"
          }
        }
      ]
    },
    {
      "cell_type": "markdown",
      "metadata": {
        "id": "ItPTgfmlsiIp"
      },
      "source": [
        "We can see that at least two context tweets are included in each data. Based on this graph, I decided to use either 1 or 2 context tweets for input data. First, I will try to use only one context information as an initial strategy, but if it does not work well, I will try to use 2 context tweets for the input data."
      ]
    },
    {
      "cell_type": "markdown",
      "metadata": {
        "id": "jW42l6XsltEi"
      },
      "source": [
        "## 2.4 Remove unnecessary text"
      ]
    },
    {
      "cell_type": "markdown",
      "metadata": {
        "id": "wS42yiAkmhuL"
      },
      "source": [
        "As the contest has unnecessary text like \"@USER\", let's remove the unnecessary text."
      ]
    },
    {
      "cell_type": "code",
      "metadata": {
        "colab": {
          "base_uri": "https://localhost:8080/",
          "height": 204
        },
        "id": "dz8TS__4kw7N",
        "outputId": "08713e97-777c-4ad4-9dad-359534930e9f"
      },
      "source": [
        "# Remove unnecessary string(@USER)\n",
        "def remove_strings(a_string):\n",
        "    stripped_string = str(a_string).lstrip('(@USER )')\n",
        "    return stripped_string\n",
        "\n",
        "df['response'] = df['response'].apply(remove_strings)\n",
        "df['pre_comment'] = df['pre_comment'].apply(remove_strings)\n",
        "df.loc[:,['response', 'pre_comment']].sample(n=5, random_state=0)"
      ],
      "execution_count": 9,
      "outputs": [
        {
          "output_type": "execute_result",
          "data": {
            "text/html": [
              "<div>\n",
              "<style scoped>\n",
              "    .dataframe tbody tr th:only-of-type {\n",
              "        vertical-align: middle;\n",
              "    }\n",
              "\n",
              "    .dataframe tbody tr th {\n",
              "        vertical-align: top;\n",
              "    }\n",
              "\n",
              "    .dataframe thead th {\n",
              "        text-align: right;\n",
              "    }\n",
              "</style>\n",
              "<table border=\"1\" class=\"dataframe\">\n",
              "  <thead>\n",
              "    <tr style=\"text-align: right;\">\n",
              "      <th></th>\n",
              "      <th>response</th>\n",
              "      <th>pre_comment</th>\n",
              "    </tr>\n",
              "  </thead>\n",
              "  <tbody>\n",
              "    <tr>\n",
              "      <th>398</th>\n",
              "      <td>Countered with #climatechange activists stuck ...</td>\n",
              "      <td>One good #climatechange meme deserves a story ...</td>\n",
              "    </tr>\n",
              "    <tr>\n",
              "      <th>3833</th>\n",
              "      <td>When we share love , we get love too . Our vib...</td>\n",
              "      <td>Heaven on Earth is a choice you must make , no...</td>\n",
              "    </tr>\n",
              "    <tr>\n",
              "      <th>4836</th>\n",
              "      <td>Give me nothing . Just saying no one really kn...</td>\n",
              "      <td>A question noone is asking is ' Parnas the ins...</td>\n",
              "    </tr>\n",
              "    <tr>\n",
              "      <th>4572</th>\n",
              "      <td>🍗 Sinning happens nearly everywhere . As a res...</td>\n",
              "      <td>🍗 The Spiritual explanation for cancer appeari...</td>\n",
              "    </tr>\n",
              "    <tr>\n",
              "      <th>636</th>\n",
              "      <td>I was going for the . PV method gives MMP the ...</td>\n",
              "      <td>In PEI Electoral Reform Plebiscite , FPTP gets...</td>\n",
              "    </tr>\n",
              "  </tbody>\n",
              "</table>\n",
              "</div>"
            ],
            "text/plain": [
              "                                               response                                        pre_comment\n",
              "398   Countered with #climatechange activists stuck ...  One good #climatechange meme deserves a story ...\n",
              "3833  When we share love , we get love too . Our vib...  Heaven on Earth is a choice you must make , no...\n",
              "4836  Give me nothing . Just saying no one really kn...  A question noone is asking is ' Parnas the ins...\n",
              "4572  🍗 Sinning happens nearly everywhere . As a res...  🍗 The Spiritual explanation for cancer appeari...\n",
              "636   I was going for the . PV method gives MMP the ...  In PEI Electoral Reform Plebiscite , FPTP gets..."
            ]
          },
          "metadata": {
            "tags": []
          },
          "execution_count": 9
        }
      ]
    },
    {
      "cell_type": "markdown",
      "metadata": {
        "id": "KP0cXDu_muHX"
      },
      "source": [
        "Now we can see that there is no \"@USER\" in the column \"response\" and \"pre_comment\"."
      ]
    },
    {
      "cell_type": "markdown",
      "metadata": {
        "id": "tRX5Z_MRl3Cn"
      },
      "source": [
        "## 2.5 Create numerical labels"
      ]
    },
    {
      "cell_type": "markdown",
      "metadata": {
        "id": "lEk1CIORu7W6"
      },
      "source": [
        "To make the training easy, lets convert the current string lable to a numerical label(NOT_SARCASM -> 0, SARCASM -> 1)"
      ]
    },
    {
      "cell_type": "code",
      "metadata": {
        "colab": {
          "base_uri": "https://localhost:8080/",
          "height": 204
        },
        "id": "ZZExUUIADS6P",
        "outputId": "c1293755-925b-4157-b7bb-545019543ae5"
      },
      "source": [
        "# Convert the label into number\n",
        "df['label_num'] = df['label'].apply(lambda x: 1 if x == 'SARCASM' else 0)\n",
        "df.sample(n=5, random_state=0)\n",
        "df.loc[:,['label', 'label_num']].sample(n=5, random_state=0)"
      ],
      "execution_count": 10,
      "outputs": [
        {
          "output_type": "execute_result",
          "data": {
            "text/html": [
              "<div>\n",
              "<style scoped>\n",
              "    .dataframe tbody tr th:only-of-type {\n",
              "        vertical-align: middle;\n",
              "    }\n",
              "\n",
              "    .dataframe tbody tr th {\n",
              "        vertical-align: top;\n",
              "    }\n",
              "\n",
              "    .dataframe thead th {\n",
              "        text-align: right;\n",
              "    }\n",
              "</style>\n",
              "<table border=\"1\" class=\"dataframe\">\n",
              "  <thead>\n",
              "    <tr style=\"text-align: right;\">\n",
              "      <th></th>\n",
              "      <th>label</th>\n",
              "      <th>label_num</th>\n",
              "    </tr>\n",
              "  </thead>\n",
              "  <tbody>\n",
              "    <tr>\n",
              "      <th>398</th>\n",
              "      <td>SARCASM</td>\n",
              "      <td>1</td>\n",
              "    </tr>\n",
              "    <tr>\n",
              "      <th>3833</th>\n",
              "      <td>NOT_SARCASM</td>\n",
              "      <td>0</td>\n",
              "    </tr>\n",
              "    <tr>\n",
              "      <th>4836</th>\n",
              "      <td>NOT_SARCASM</td>\n",
              "      <td>0</td>\n",
              "    </tr>\n",
              "    <tr>\n",
              "      <th>4572</th>\n",
              "      <td>NOT_SARCASM</td>\n",
              "      <td>0</td>\n",
              "    </tr>\n",
              "    <tr>\n",
              "      <th>636</th>\n",
              "      <td>SARCASM</td>\n",
              "      <td>1</td>\n",
              "    </tr>\n",
              "  </tbody>\n",
              "</table>\n",
              "</div>"
            ],
            "text/plain": [
              "            label  label_num\n",
              "398       SARCASM          1\n",
              "3833  NOT_SARCASM          0\n",
              "4836  NOT_SARCASM          0\n",
              "4572  NOT_SARCASM          0\n",
              "636       SARCASM          1"
            ]
          },
          "metadata": {
            "tags": []
          },
          "execution_count": 10
        }
      ]
    },
    {
      "cell_type": "markdown",
      "metadata": {
        "id": "b4fQP47KmD3n"
      },
      "source": [
        "Now we can see the numerical labels(label_num: 0/1) were generated from the labels(SARCASM or NOT_SARCASM)."
      ]
    },
    {
      "cell_type": "markdown",
      "metadata": {
        "id": "XzRxa3Xw8yg5"
      },
      "source": [
        "# 3. Tokenization and Input formatting"
      ]
    },
    {
      "cell_type": "markdown",
      "metadata": {
        "id": "fNsfE0Nl-LvK"
      },
      "source": [
        "## 3.1 BERT Tokenizer"
      ]
    },
    {
      "cell_type": "markdown",
      "metadata": {
        "id": "wNxMU8DlC6AO"
      },
      "source": [
        "In order to input the tweets to the BERT, the tweets need to be tokenized. The library can handle this BERT tokenizer as following."
      ]
    },
    {
      "cell_type": "code",
      "metadata": {
        "id": "7WxTcG-bmjqe",
        "colab": {
          "base_uri": "https://localhost:8080/",
          "height": 66,
          "referenced_widgets": [
            "058dc643bf0e4ee4be9a0eb8ad2e2f0e",
            "dbbb67cfabce40bbbaae8b025de4df99",
            "d8164df6c7a94cd2950af593f2c58398",
            "9a448c131d814973a73c213205b379b1",
            "cc6b7371a2704998afd31d4213fe0fe5",
            "b0c27201b9b44842a0a2e9c22990d3fe",
            "470384f0882e4ace97cc3a1a5a07918f",
            "99726a17717144cda250e61b89e2c0e4"
          ]
        },
        "outputId": "57bc656a-274a-4fbf-ccf5-2944a21a74a0"
      },
      "source": [
        "# The code in this cell is inspired by https://mccormickml.com/2019/07/22/BERT-fine-tuning/\n",
        "\n",
        "from transformers import  BertTokenizer\n",
        "# Load the BERT tokenizer\n",
        "tokenizer = BertTokenizer.from_pretrained('bert-base-uncased', do_lower_case=True)"
      ],
      "execution_count": 11,
      "outputs": [
        {
          "output_type": "display_data",
          "data": {
            "application/vnd.jupyter.widget-view+json": {
              "model_id": "058dc643bf0e4ee4be9a0eb8ad2e2f0e",
              "version_minor": 0,
              "version_major": 2
            },
            "text/plain": [
              "HBox(children=(FloatProgress(value=0.0, description='Downloading', max=231508.0, style=ProgressStyle(descripti…"
            ]
          },
          "metadata": {
            "tags": []
          }
        },
        {
          "output_type": "stream",
          "text": [
            "\n"
          ],
          "name": "stdout"
        }
      ]
    },
    {
      "cell_type": "markdown",
      "metadata": {
        "id": "pfHXROI-Du9T"
      },
      "source": [
        "Let's check how the tweets are converted to the BERT token."
      ]
    },
    {
      "cell_type": "code",
      "metadata": {
        "colab": {
          "base_uri": "https://localhost:8080/"
        },
        "id": "hh_ZpUz2DqHU",
        "outputId": "15955fe2-193b-4654-b56e-584e187be7b3"
      },
      "source": [
        "# The code in this cell is inspired by https://mccormickml.com/2019/07/22/BERT-fine-tuning/\n",
        "\n",
        "print(' Original: ', df['response'][1])\n",
        "print('Tokenized: ', tokenizer.tokenize(df['response'][1]))\n",
        "print('Token IDs: ', tokenizer.convert_tokens_to_ids(tokenizer.tokenize(df['response'][1])))"
      ],
      "execution_count": 12,
      "outputs": [
        {
          "output_type": "stream",
          "text": [
            " Original:  trying to protest about . Talking about him and his labels and they label themselves WTF does that make em ?\n",
            "Tokenized:  ['trying', 'to', 'protest', 'about', '.', 'talking', 'about', 'him', 'and', 'his', 'labels', 'and', 'they', 'label', 'themselves', 'w', '##tf', 'does', 'that', 'make', 'em', '?']\n",
            "Token IDs:  [2667, 2000, 6186, 2055, 1012, 3331, 2055, 2032, 1998, 2010, 10873, 1998, 2027, 3830, 3209, 1059, 24475, 2515, 2008, 2191, 7861, 1029]\n"
          ],
          "name": "stdout"
        }
      ]
    },
    {
      "cell_type": "markdown",
      "metadata": {
        "id": "MYz5FhztERe3"
      },
      "source": [
        "As we can see, the original tweet was converted to the tokenized words and its token ID."
      ]
    },
    {
      "cell_type": "markdown",
      "metadata": {
        "id": "W2vYdKPdFwC-"
      },
      "source": [
        "## 3.2 Formatting for BERT"
      ]
    },
    {
      "cell_type": "markdown",
      "metadata": {
        "id": "h8r8FJWeF56l"
      },
      "source": [
        "### 3.2.1 Check maximum tweet length"
      ]
    },
    {
      "cell_type": "markdown",
      "metadata": {
        "id": "F6urd-JUyKyg"
      },
      "source": [
        "In order to use the libraty we need to define the maximum input length. As we decided to use the response and only the latest context tweet, let's concatenate those sentences and save then as a new column of the pandas dataframe."
      ]
    },
    {
      "cell_type": "code",
      "metadata": {
        "colab": {
          "base_uri": "https://localhost:8080/"
        },
        "id": "A6JyiQ8l153J",
        "outputId": "94e5ce93-2d9a-478e-fb4f-112401d78a12"
      },
      "source": [
        "\n",
        "def make_input_pair(df):\n",
        "    return [df['response'], df['pre_comment']]\n",
        "\n",
        "df['input_pair'] = df.apply(make_input_pair, axis=1)\n",
        "\n",
        "print('[response]: {}' .format(df['response'][0]))\n",
        "print('[pre_comment]: {}' .format(df['pre_comment'][0]))\n",
        "print('')\n",
        "print('----------------')\n",
        "print('These two sentences above are concanated')\n",
        "print('[input_pair]: {}' .format(df['input_pair'][0]))"
      ],
      "execution_count": 13,
      "outputs": [
        {
          "output_type": "stream",
          "text": [
            "[response]: I don't get this .. obviously you do care or you would've moved right along .. instead you decided to care and troll her ..\n",
            "[pre_comment]: A minor child deserves privacy and should be kept out of politics . Pamela Karlan , you should be ashamed of your very angry and obviously biased public pandering , and using a child to do it .\n",
            "\n",
            "----------------\n",
            "These two sentences above are concanated\n",
            "[input_pair]: [\"I don't get this .. obviously you do care or you would've moved right along .. instead you decided to care and troll her ..\", 'A minor child deserves privacy and should be kept out of politics . Pamela Karlan , you should be ashamed of your very angry and obviously biased public pandering , and using a child to do it .']\n"
          ],
          "name": "stdout"
        }
      ]
    },
    {
      "cell_type": "markdown",
      "metadata": {
        "id": "mIBG5MADzxbx"
      },
      "source": [
        "We were able to concatenate two two sentences, let's check the maximum tweet length of the concatenated sentences."
      ]
    },
    {
      "cell_type": "code",
      "metadata": {
        "colab": {
          "base_uri": "https://localhost:8080/"
        },
        "id": "-0ifYhxtwoEC",
        "outputId": "843981a1-ecc9-46ac-9133-209676d9101c"
      },
      "source": [
        "# The code in this cell is inspired by https://huggingface.co/transformers/v2.4.0/glossary.html\n",
        "# encoded_sequence = tokenizer.encode(sequence_a, sequence_b)\n",
        "\n",
        "def get_input_len(df):    \n",
        "    return len(tokenizer.encode(df['input_pair'][0], df['input_pair'][1]))\n",
        "df['len_input_pair'] = df.apply(get_input_len, axis=1)\n",
        "print('The maximum length of the input is {}' .format(df['len_input_pair'].max()))"
      ],
      "execution_count": 14,
      "outputs": [
        {
          "output_type": "stream",
          "text": [
            "The maximum length of the input is 180\n"
          ],
          "name": "stdout"
        }
      ]
    },
    {
      "cell_type": "markdown",
      "metadata": {
        "id": "pP0R840fw-VL"
      },
      "source": [
        "-> We will use \"185\" as the maximum length (actual max length(180) + margin(5))"
      ]
    },
    {
      "cell_type": "markdown",
      "metadata": {
        "id": "kq0bryzutqyJ"
      },
      "source": [
        "### 3.2.2 Data encoding"
      ]
    },
    {
      "cell_type": "code",
      "metadata": {
        "id": "6s3O3ikMyUBX"
      },
      "source": [
        "# The code in this cell is inspired by the tech report made by my UIUC's class mate(zen030).\n",
        "# https://github.com/zen030/tech_review/blob/master/techreview.pdf\n",
        "\n",
        "\n",
        "# Encoding\n",
        "encoded_data = tokenizer.batch_encode_plus(\n",
        "                    df['input_pair'],\n",
        "                    add_special_tokens=True,\n",
        "                    return_attention_mask=True,\n",
        "                    max_length=185,\n",
        "                    padding='max_length',\n",
        "                    return_tensors='pt'                    \n",
        "                )\n",
        "\n",
        "# Convert the lists into tensors\n",
        "input_ids_all = encoded_data['input_ids']\n",
        "attention_masks_all = encoded_data['attention_mask']\n",
        "labels_all = torch.tensor(df['label_num'].values)\n",
        "token_type_ids_all = encoded_data['token_type_ids']"
      ],
      "execution_count": 15,
      "outputs": []
    },
    {
      "cell_type": "code",
      "metadata": {
        "colab": {
          "base_uri": "https://localhost:8080/"
        },
        "id": "U7BIFAnA6r9B",
        "outputId": "43f2134e-bb81-43ac-9aac-e044434bf7ae"
      },
      "source": [
        "print(encoded_data['input_ids'][0])"
      ],
      "execution_count": 16,
      "outputs": [
        {
          "output_type": "stream",
          "text": [
            "tensor([  101,  1045,  2123,  1005,  1056,  2131,  2023,  1012,  1012,  5525,\n",
            "         2017,  2079,  2729,  2030,  2017,  2052,  1005,  2310,  2333,  2157,\n",
            "         2247,  1012,  1012,  2612,  2017,  2787,  2000,  2729,  1998, 18792,\n",
            "         2014,  1012,  1012,   102,  1037,  3576,  2775, 17210,  9394,  1998,\n",
            "         2323,  2022,  2921,  2041,  1997,  4331,  1012, 17217,  6382,  2319,\n",
            "         1010,  2017,  2323,  2022, 14984,  1997,  2115,  2200,  4854,  1998,\n",
            "         5525, 25352,  2270,  6090,  4063,  2075,  1010,  1998,  2478,  1037,\n",
            "         2775,  2000,  2079,  2009,  1012,   102,     0,     0,     0,     0,\n",
            "            0,     0,     0,     0,     0,     0,     0,     0,     0,     0,\n",
            "            0,     0,     0,     0,     0,     0,     0,     0,     0,     0,\n",
            "            0,     0,     0,     0,     0,     0,     0,     0,     0,     0,\n",
            "            0,     0,     0,     0,     0,     0,     0,     0,     0,     0,\n",
            "            0,     0,     0,     0,     0,     0,     0,     0,     0,     0,\n",
            "            0,     0,     0,     0,     0,     0,     0,     0,     0,     0,\n",
            "            0,     0,     0,     0,     0,     0,     0,     0,     0,     0,\n",
            "            0,     0,     0,     0,     0,     0,     0,     0,     0,     0,\n",
            "            0,     0,     0,     0,     0,     0,     0,     0,     0,     0,\n",
            "            0,     0,     0,     0,     0,     0,     0,     0,     0,     0,\n",
            "            0,     0,     0,     0,     0])\n"
          ],
          "name": "stdout"
        }
      ]
    },
    {
      "cell_type": "markdown",
      "metadata": {
        "id": "GJDQHqFA47NM"
      },
      "source": [
        "We can see that input ids were padding with zero until the maxmum length(185)"
      ]
    },
    {
      "cell_type": "code",
      "metadata": {
        "colab": {
          "base_uri": "https://localhost:8080/"
        },
        "id": "zF8_Zjen4v-r",
        "outputId": "ebd654e1-4740-48af-8f0f-e93e48520c6a"
      },
      "source": [
        "print(encoded_data['attention_mask'][0])"
      ],
      "execution_count": 17,
      "outputs": [
        {
          "output_type": "stream",
          "text": [
            "tensor([1, 1, 1, 1, 1, 1, 1, 1, 1, 1, 1, 1, 1, 1, 1, 1, 1, 1, 1, 1, 1, 1, 1, 1,\n",
            "        1, 1, 1, 1, 1, 1, 1, 1, 1, 1, 1, 1, 1, 1, 1, 1, 1, 1, 1, 1, 1, 1, 1, 1,\n",
            "        1, 1, 1, 1, 1, 1, 1, 1, 1, 1, 1, 1, 1, 1, 1, 1, 1, 1, 1, 1, 1, 1, 1, 1,\n",
            "        1, 1, 1, 1, 0, 0, 0, 0, 0, 0, 0, 0, 0, 0, 0, 0, 0, 0, 0, 0, 0, 0, 0, 0,\n",
            "        0, 0, 0, 0, 0, 0, 0, 0, 0, 0, 0, 0, 0, 0, 0, 0, 0, 0, 0, 0, 0, 0, 0, 0,\n",
            "        0, 0, 0, 0, 0, 0, 0, 0, 0, 0, 0, 0, 0, 0, 0, 0, 0, 0, 0, 0, 0, 0, 0, 0,\n",
            "        0, 0, 0, 0, 0, 0, 0, 0, 0, 0, 0, 0, 0, 0, 0, 0, 0, 0, 0, 0, 0, 0, 0, 0,\n",
            "        0, 0, 0, 0, 0, 0, 0, 0, 0, 0, 0, 0, 0, 0, 0, 0, 0])\n"
          ],
          "name": "stdout"
        }
      ]
    },
    {
      "cell_type": "markdown",
      "metadata": {
        "id": "bVDzxVcW5YCk"
      },
      "source": [
        "We can see that the attention mask shows that input ids generated from the actual tweets correspond to 1. (0 if for padding)"
      ]
    },
    {
      "cell_type": "code",
      "metadata": {
        "colab": {
          "base_uri": "https://localhost:8080/"
        },
        "id": "oi9k_7164yDF",
        "outputId": "de53cf18-c924-4aa9-8e08-a9ea5cee78f3"
      },
      "source": [
        "print(encoded_data['token_type_ids'][0])"
      ],
      "execution_count": 18,
      "outputs": [
        {
          "output_type": "stream",
          "text": [
            "tensor([0, 0, 0, 0, 0, 0, 0, 0, 0, 0, 0, 0, 0, 0, 0, 0, 0, 0, 0, 0, 0, 0, 0, 0,\n",
            "        0, 0, 0, 0, 0, 0, 0, 0, 0, 0, 1, 1, 1, 1, 1, 1, 1, 1, 1, 1, 1, 1, 1, 1,\n",
            "        1, 1, 1, 1, 1, 1, 1, 1, 1, 1, 1, 1, 1, 1, 1, 1, 1, 1, 1, 1, 1, 1, 1, 1,\n",
            "        1, 1, 1, 1, 0, 0, 0, 0, 0, 0, 0, 0, 0, 0, 0, 0, 0, 0, 0, 0, 0, 0, 0, 0,\n",
            "        0, 0, 0, 0, 0, 0, 0, 0, 0, 0, 0, 0, 0, 0, 0, 0, 0, 0, 0, 0, 0, 0, 0, 0,\n",
            "        0, 0, 0, 0, 0, 0, 0, 0, 0, 0, 0, 0, 0, 0, 0, 0, 0, 0, 0, 0, 0, 0, 0, 0,\n",
            "        0, 0, 0, 0, 0, 0, 0, 0, 0, 0, 0, 0, 0, 0, 0, 0, 0, 0, 0, 0, 0, 0, 0, 0,\n",
            "        0, 0, 0, 0, 0, 0, 0, 0, 0, 0, 0, 0, 0, 0, 0, 0, 0])\n"
          ],
          "name": "stdout"
        }
      ]
    },
    {
      "cell_type": "markdown",
      "metadata": {
        "id": "ikp2fpef5uNB"
      },
      "source": [
        "Also, we can see that the response and the context ids correspond to 0 and 1 respectively in the token_type_ids."
      ]
    },
    {
      "cell_type": "markdown",
      "metadata": {
        "id": "hEoBNfjw8r8p"
      },
      "source": [
        "# 4. Training and Valication Split"
      ]
    },
    {
      "cell_type": "markdown",
      "metadata": {
        "id": "qoIgNvKGHAyO"
      },
      "source": [
        "## 4.1 Devide the data set into the trining data set and the validation data set"
      ]
    },
    {
      "cell_type": "code",
      "metadata": {
        "colab": {
          "base_uri": "https://localhost:8080/"
        },
        "id": "J9dX0yi46uaV",
        "outputId": "82eeb96d-f4a7-491d-8144-99e5eb99e77a"
      },
      "source": [
        "# The code in this cell is inspired by https://mccormickml.com/2019/07/22/BERT-fine-tuning/\n",
        "from torch.utils.data import TensorDataset, random_split\n",
        "\n",
        "# For reproducing the same result\n",
        "seed_val = 34 \n",
        "torch.manual_seed(seed_val)\n",
        "\n",
        "# Combine the training inputs into a TensorDataset.\n",
        "dataset = TensorDataset(input_ids_all, attention_masks_all, labels_all, token_type_ids_all)\n",
        "\n",
        "# Training: 90%, Validation: 10%\n",
        "train_size = int(0.9 * len(dataset))\n",
        "val_size = len(dataset) - train_size\n",
        "\n",
        "# Select the data randomly\n",
        "train_dataset, val_dataset = random_split(dataset, [train_size, val_size])\n",
        "\n",
        "# Chcek the number of data just in case\n",
        "print('Training data: {}'.format(train_size))\n",
        "print('Validation data: {}'.format(val_size))"
      ],
      "execution_count": 19,
      "outputs": [
        {
          "output_type": "stream",
          "text": [
            "Training data: 4500\n",
            "Validation data: 500\n"
          ],
          "name": "stdout"
        }
      ]
    },
    {
      "cell_type": "markdown",
      "metadata": {
        "id": "khS5q65k3gVc"
      },
      "source": [
        "Data set were divided into the training data and validation data as expcted ratio."
      ]
    },
    {
      "cell_type": "markdown",
      "metadata": {
        "id": "Wkmk7VXD-JRd"
      },
      "source": [
        "## 4.2 Creaiting the Data Loaders"
      ]
    },
    {
      "cell_type": "code",
      "metadata": {
        "id": "bLyUQZNK96yz"
      },
      "source": [
        "# The code in this cell is inspired by https://mccormickml.com/2019/07/22/BERT-fine-tuning/\n",
        "from torch.utils.data import DataLoader, RandomSampler, SequentialSampler\n",
        "\n",
        "# 16 or 32 are recommended by the BERT author\n",
        "batch_size = 32 \n",
        "\n",
        "# DataLoaders for the training data set\n",
        "train_dataloader = DataLoader(\n",
        "            train_dataset,\n",
        "            sampler=RandomSampler(train_dataset),\n",
        "            batch_size=batch_size\n",
        "        )\n",
        "\n",
        "# DataLoaders for the validation data set\n",
        "validation_dataloader = DataLoader(\n",
        "            val_dataset,\n",
        "            sampler=SequentialSampler(val_dataset),\n",
        "            batch_size=batch_size\n",
        "        )"
      ],
      "execution_count": 20,
      "outputs": []
    },
    {
      "cell_type": "markdown",
      "metadata": {
        "id": "5H0u62Tp_VYz"
      },
      "source": [
        "# 5. Train the model"
      ]
    },
    {
      "cell_type": "markdown",
      "metadata": {
        "id": "LSZkDN8ZAm5W"
      },
      "source": [
        "## 5.1 Model definition"
      ]
    },
    {
      "cell_type": "code",
      "metadata": {
        "colab": {
          "base_uri": "https://localhost:8080/",
          "height": 1000,
          "referenced_widgets": [
            "2292ff0e2ed3444aa746668ec438a992",
            "2dc5ce9c8fd74ccc83b5262d5fd42c68",
            "fb8199d09aeb489d8f4ffbbf4c052eaa",
            "54132f4cca3840f98e2ca2fc48dd10f1",
            "ac2541d5067e4758824841056b9e2373",
            "fe516dadfd29489680f12147710597d3",
            "9df2088b7a3540ac856b3d4f006bfc19",
            "364f59d007d04e1a915f855d2d62f717",
            "96db53f15b9248d38ff5d91992dead71",
            "f1e2a5a5ec524ca9a8ea5596ddec2585",
            "2ed8c90c104f4096bd31b30cda21b73f",
            "a2d4d03e0acd48a395027b0fe421aba4",
            "42cf514e53e14cdf9a4a95c9b6c51c03",
            "559013f3b7df4bcb8177b37dbe8cc05e",
            "94568eceaac34104acebacd5c4046e6d",
            "6fa84686b82245d1a312b706fbf58b7a"
          ]
        },
        "id": "AEDNukOQ-Pne",
        "outputId": "72634cde-fa53-4ea7-dae5-a730d3bf8ee6"
      },
      "source": [
        "# The code in this cell is inspired by https://huggingface.co/transformers/model_doc/bert.html\n",
        "# and https://mccormickml.com/2019/07/22/BERT-fine-tuning/\n",
        "\n",
        "\n",
        "from transformers import BertForSequenceClassification, AdamW, BertConfig\n",
        "# \"BertForSequenceClassification\" consitsts of the pre-trained BERT model\n",
        "# and single linear classification layer.\n",
        "\n",
        "model = BertForSequenceClassification.from_pretrained(\n",
        "    \"bert-base-uncased\",\n",
        "    num_labels = 2, # SARCASM or NOT_SARCASM\n",
        "    output_attentions = False,\n",
        "    output_hidden_states = False,\n",
        ")\n",
        "\n",
        "# The model will be on the GPU\n",
        "model.cuda()"
      ],
      "execution_count": 21,
      "outputs": [
        {
          "output_type": "display_data",
          "data": {
            "application/vnd.jupyter.widget-view+json": {
              "model_id": "2292ff0e2ed3444aa746668ec438a992",
              "version_minor": 0,
              "version_major": 2
            },
            "text/plain": [
              "HBox(children=(FloatProgress(value=0.0, description='Downloading', max=433.0, style=ProgressStyle(description_…"
            ]
          },
          "metadata": {
            "tags": []
          }
        },
        {
          "output_type": "stream",
          "text": [
            "\n"
          ],
          "name": "stdout"
        },
        {
          "output_type": "display_data",
          "data": {
            "application/vnd.jupyter.widget-view+json": {
              "model_id": "96db53f15b9248d38ff5d91992dead71",
              "version_minor": 0,
              "version_major": 2
            },
            "text/plain": [
              "HBox(children=(FloatProgress(value=0.0, description='Downloading', max=440473133.0, style=ProgressStyle(descri…"
            ]
          },
          "metadata": {
            "tags": []
          }
        },
        {
          "output_type": "stream",
          "text": [
            "\n"
          ],
          "name": "stdout"
        },
        {
          "output_type": "stream",
          "text": [
            "Some weights of the model checkpoint at bert-base-uncased were not used when initializing BertForSequenceClassification: ['cls.predictions.bias', 'cls.predictions.transform.dense.weight', 'cls.predictions.transform.dense.bias', 'cls.predictions.decoder.weight', 'cls.seq_relationship.weight', 'cls.seq_relationship.bias', 'cls.predictions.transform.LayerNorm.weight', 'cls.predictions.transform.LayerNorm.bias']\n",
            "- This IS expected if you are initializing BertForSequenceClassification from the checkpoint of a model trained on another task or with another architecture (e.g. initializing a BertForSequenceClassification model from a BertForPreTraining model).\n",
            "- This IS NOT expected if you are initializing BertForSequenceClassification from the checkpoint of a model that you expect to be exactly identical (initializing a BertForSequenceClassification model from a BertForSequenceClassification model).\n",
            "Some weights of BertForSequenceClassification were not initialized from the model checkpoint at bert-base-uncased and are newly initialized: ['classifier.weight', 'classifier.bias']\n",
            "You should probably TRAIN this model on a down-stream task to be able to use it for predictions and inference.\n"
          ],
          "name": "stderr"
        },
        {
          "output_type": "execute_result",
          "data": {
            "text/plain": [
              "BertForSequenceClassification(\n",
              "  (bert): BertModel(\n",
              "    (embeddings): BertEmbeddings(\n",
              "      (word_embeddings): Embedding(30522, 768, padding_idx=0)\n",
              "      (position_embeddings): Embedding(512, 768)\n",
              "      (token_type_embeddings): Embedding(2, 768)\n",
              "      (LayerNorm): LayerNorm((768,), eps=1e-12, elementwise_affine=True)\n",
              "      (dropout): Dropout(p=0.1, inplace=False)\n",
              "    )\n",
              "    (encoder): BertEncoder(\n",
              "      (layer): ModuleList(\n",
              "        (0): BertLayer(\n",
              "          (attention): BertAttention(\n",
              "            (self): BertSelfAttention(\n",
              "              (query): Linear(in_features=768, out_features=768, bias=True)\n",
              "              (key): Linear(in_features=768, out_features=768, bias=True)\n",
              "              (value): Linear(in_features=768, out_features=768, bias=True)\n",
              "              (dropout): Dropout(p=0.1, inplace=False)\n",
              "            )\n",
              "            (output): BertSelfOutput(\n",
              "              (dense): Linear(in_features=768, out_features=768, bias=True)\n",
              "              (LayerNorm): LayerNorm((768,), eps=1e-12, elementwise_affine=True)\n",
              "              (dropout): Dropout(p=0.1, inplace=False)\n",
              "            )\n",
              "          )\n",
              "          (intermediate): BertIntermediate(\n",
              "            (dense): Linear(in_features=768, out_features=3072, bias=True)\n",
              "          )\n",
              "          (output): BertOutput(\n",
              "            (dense): Linear(in_features=3072, out_features=768, bias=True)\n",
              "            (LayerNorm): LayerNorm((768,), eps=1e-12, elementwise_affine=True)\n",
              "            (dropout): Dropout(p=0.1, inplace=False)\n",
              "          )\n",
              "        )\n",
              "        (1): BertLayer(\n",
              "          (attention): BertAttention(\n",
              "            (self): BertSelfAttention(\n",
              "              (query): Linear(in_features=768, out_features=768, bias=True)\n",
              "              (key): Linear(in_features=768, out_features=768, bias=True)\n",
              "              (value): Linear(in_features=768, out_features=768, bias=True)\n",
              "              (dropout): Dropout(p=0.1, inplace=False)\n",
              "            )\n",
              "            (output): BertSelfOutput(\n",
              "              (dense): Linear(in_features=768, out_features=768, bias=True)\n",
              "              (LayerNorm): LayerNorm((768,), eps=1e-12, elementwise_affine=True)\n",
              "              (dropout): Dropout(p=0.1, inplace=False)\n",
              "            )\n",
              "          )\n",
              "          (intermediate): BertIntermediate(\n",
              "            (dense): Linear(in_features=768, out_features=3072, bias=True)\n",
              "          )\n",
              "          (output): BertOutput(\n",
              "            (dense): Linear(in_features=3072, out_features=768, bias=True)\n",
              "            (LayerNorm): LayerNorm((768,), eps=1e-12, elementwise_affine=True)\n",
              "            (dropout): Dropout(p=0.1, inplace=False)\n",
              "          )\n",
              "        )\n",
              "        (2): BertLayer(\n",
              "          (attention): BertAttention(\n",
              "            (self): BertSelfAttention(\n",
              "              (query): Linear(in_features=768, out_features=768, bias=True)\n",
              "              (key): Linear(in_features=768, out_features=768, bias=True)\n",
              "              (value): Linear(in_features=768, out_features=768, bias=True)\n",
              "              (dropout): Dropout(p=0.1, inplace=False)\n",
              "            )\n",
              "            (output): BertSelfOutput(\n",
              "              (dense): Linear(in_features=768, out_features=768, bias=True)\n",
              "              (LayerNorm): LayerNorm((768,), eps=1e-12, elementwise_affine=True)\n",
              "              (dropout): Dropout(p=0.1, inplace=False)\n",
              "            )\n",
              "          )\n",
              "          (intermediate): BertIntermediate(\n",
              "            (dense): Linear(in_features=768, out_features=3072, bias=True)\n",
              "          )\n",
              "          (output): BertOutput(\n",
              "            (dense): Linear(in_features=3072, out_features=768, bias=True)\n",
              "            (LayerNorm): LayerNorm((768,), eps=1e-12, elementwise_affine=True)\n",
              "            (dropout): Dropout(p=0.1, inplace=False)\n",
              "          )\n",
              "        )\n",
              "        (3): BertLayer(\n",
              "          (attention): BertAttention(\n",
              "            (self): BertSelfAttention(\n",
              "              (query): Linear(in_features=768, out_features=768, bias=True)\n",
              "              (key): Linear(in_features=768, out_features=768, bias=True)\n",
              "              (value): Linear(in_features=768, out_features=768, bias=True)\n",
              "              (dropout): Dropout(p=0.1, inplace=False)\n",
              "            )\n",
              "            (output): BertSelfOutput(\n",
              "              (dense): Linear(in_features=768, out_features=768, bias=True)\n",
              "              (LayerNorm): LayerNorm((768,), eps=1e-12, elementwise_affine=True)\n",
              "              (dropout): Dropout(p=0.1, inplace=False)\n",
              "            )\n",
              "          )\n",
              "          (intermediate): BertIntermediate(\n",
              "            (dense): Linear(in_features=768, out_features=3072, bias=True)\n",
              "          )\n",
              "          (output): BertOutput(\n",
              "            (dense): Linear(in_features=3072, out_features=768, bias=True)\n",
              "            (LayerNorm): LayerNorm((768,), eps=1e-12, elementwise_affine=True)\n",
              "            (dropout): Dropout(p=0.1, inplace=False)\n",
              "          )\n",
              "        )\n",
              "        (4): BertLayer(\n",
              "          (attention): BertAttention(\n",
              "            (self): BertSelfAttention(\n",
              "              (query): Linear(in_features=768, out_features=768, bias=True)\n",
              "              (key): Linear(in_features=768, out_features=768, bias=True)\n",
              "              (value): Linear(in_features=768, out_features=768, bias=True)\n",
              "              (dropout): Dropout(p=0.1, inplace=False)\n",
              "            )\n",
              "            (output): BertSelfOutput(\n",
              "              (dense): Linear(in_features=768, out_features=768, bias=True)\n",
              "              (LayerNorm): LayerNorm((768,), eps=1e-12, elementwise_affine=True)\n",
              "              (dropout): Dropout(p=0.1, inplace=False)\n",
              "            )\n",
              "          )\n",
              "          (intermediate): BertIntermediate(\n",
              "            (dense): Linear(in_features=768, out_features=3072, bias=True)\n",
              "          )\n",
              "          (output): BertOutput(\n",
              "            (dense): Linear(in_features=3072, out_features=768, bias=True)\n",
              "            (LayerNorm): LayerNorm((768,), eps=1e-12, elementwise_affine=True)\n",
              "            (dropout): Dropout(p=0.1, inplace=False)\n",
              "          )\n",
              "        )\n",
              "        (5): BertLayer(\n",
              "          (attention): BertAttention(\n",
              "            (self): BertSelfAttention(\n",
              "              (query): Linear(in_features=768, out_features=768, bias=True)\n",
              "              (key): Linear(in_features=768, out_features=768, bias=True)\n",
              "              (value): Linear(in_features=768, out_features=768, bias=True)\n",
              "              (dropout): Dropout(p=0.1, inplace=False)\n",
              "            )\n",
              "            (output): BertSelfOutput(\n",
              "              (dense): Linear(in_features=768, out_features=768, bias=True)\n",
              "              (LayerNorm): LayerNorm((768,), eps=1e-12, elementwise_affine=True)\n",
              "              (dropout): Dropout(p=0.1, inplace=False)\n",
              "            )\n",
              "          )\n",
              "          (intermediate): BertIntermediate(\n",
              "            (dense): Linear(in_features=768, out_features=3072, bias=True)\n",
              "          )\n",
              "          (output): BertOutput(\n",
              "            (dense): Linear(in_features=3072, out_features=768, bias=True)\n",
              "            (LayerNorm): LayerNorm((768,), eps=1e-12, elementwise_affine=True)\n",
              "            (dropout): Dropout(p=0.1, inplace=False)\n",
              "          )\n",
              "        )\n",
              "        (6): BertLayer(\n",
              "          (attention): BertAttention(\n",
              "            (self): BertSelfAttention(\n",
              "              (query): Linear(in_features=768, out_features=768, bias=True)\n",
              "              (key): Linear(in_features=768, out_features=768, bias=True)\n",
              "              (value): Linear(in_features=768, out_features=768, bias=True)\n",
              "              (dropout): Dropout(p=0.1, inplace=False)\n",
              "            )\n",
              "            (output): BertSelfOutput(\n",
              "              (dense): Linear(in_features=768, out_features=768, bias=True)\n",
              "              (LayerNorm): LayerNorm((768,), eps=1e-12, elementwise_affine=True)\n",
              "              (dropout): Dropout(p=0.1, inplace=False)\n",
              "            )\n",
              "          )\n",
              "          (intermediate): BertIntermediate(\n",
              "            (dense): Linear(in_features=768, out_features=3072, bias=True)\n",
              "          )\n",
              "          (output): BertOutput(\n",
              "            (dense): Linear(in_features=3072, out_features=768, bias=True)\n",
              "            (LayerNorm): LayerNorm((768,), eps=1e-12, elementwise_affine=True)\n",
              "            (dropout): Dropout(p=0.1, inplace=False)\n",
              "          )\n",
              "        )\n",
              "        (7): BertLayer(\n",
              "          (attention): BertAttention(\n",
              "            (self): BertSelfAttention(\n",
              "              (query): Linear(in_features=768, out_features=768, bias=True)\n",
              "              (key): Linear(in_features=768, out_features=768, bias=True)\n",
              "              (value): Linear(in_features=768, out_features=768, bias=True)\n",
              "              (dropout): Dropout(p=0.1, inplace=False)\n",
              "            )\n",
              "            (output): BertSelfOutput(\n",
              "              (dense): Linear(in_features=768, out_features=768, bias=True)\n",
              "              (LayerNorm): LayerNorm((768,), eps=1e-12, elementwise_affine=True)\n",
              "              (dropout): Dropout(p=0.1, inplace=False)\n",
              "            )\n",
              "          )\n",
              "          (intermediate): BertIntermediate(\n",
              "            (dense): Linear(in_features=768, out_features=3072, bias=True)\n",
              "          )\n",
              "          (output): BertOutput(\n",
              "            (dense): Linear(in_features=3072, out_features=768, bias=True)\n",
              "            (LayerNorm): LayerNorm((768,), eps=1e-12, elementwise_affine=True)\n",
              "            (dropout): Dropout(p=0.1, inplace=False)\n",
              "          )\n",
              "        )\n",
              "        (8): BertLayer(\n",
              "          (attention): BertAttention(\n",
              "            (self): BertSelfAttention(\n",
              "              (query): Linear(in_features=768, out_features=768, bias=True)\n",
              "              (key): Linear(in_features=768, out_features=768, bias=True)\n",
              "              (value): Linear(in_features=768, out_features=768, bias=True)\n",
              "              (dropout): Dropout(p=0.1, inplace=False)\n",
              "            )\n",
              "            (output): BertSelfOutput(\n",
              "              (dense): Linear(in_features=768, out_features=768, bias=True)\n",
              "              (LayerNorm): LayerNorm((768,), eps=1e-12, elementwise_affine=True)\n",
              "              (dropout): Dropout(p=0.1, inplace=False)\n",
              "            )\n",
              "          )\n",
              "          (intermediate): BertIntermediate(\n",
              "            (dense): Linear(in_features=768, out_features=3072, bias=True)\n",
              "          )\n",
              "          (output): BertOutput(\n",
              "            (dense): Linear(in_features=3072, out_features=768, bias=True)\n",
              "            (LayerNorm): LayerNorm((768,), eps=1e-12, elementwise_affine=True)\n",
              "            (dropout): Dropout(p=0.1, inplace=False)\n",
              "          )\n",
              "        )\n",
              "        (9): BertLayer(\n",
              "          (attention): BertAttention(\n",
              "            (self): BertSelfAttention(\n",
              "              (query): Linear(in_features=768, out_features=768, bias=True)\n",
              "              (key): Linear(in_features=768, out_features=768, bias=True)\n",
              "              (value): Linear(in_features=768, out_features=768, bias=True)\n",
              "              (dropout): Dropout(p=0.1, inplace=False)\n",
              "            )\n",
              "            (output): BertSelfOutput(\n",
              "              (dense): Linear(in_features=768, out_features=768, bias=True)\n",
              "              (LayerNorm): LayerNorm((768,), eps=1e-12, elementwise_affine=True)\n",
              "              (dropout): Dropout(p=0.1, inplace=False)\n",
              "            )\n",
              "          )\n",
              "          (intermediate): BertIntermediate(\n",
              "            (dense): Linear(in_features=768, out_features=3072, bias=True)\n",
              "          )\n",
              "          (output): BertOutput(\n",
              "            (dense): Linear(in_features=3072, out_features=768, bias=True)\n",
              "            (LayerNorm): LayerNorm((768,), eps=1e-12, elementwise_affine=True)\n",
              "            (dropout): Dropout(p=0.1, inplace=False)\n",
              "          )\n",
              "        )\n",
              "        (10): BertLayer(\n",
              "          (attention): BertAttention(\n",
              "            (self): BertSelfAttention(\n",
              "              (query): Linear(in_features=768, out_features=768, bias=True)\n",
              "              (key): Linear(in_features=768, out_features=768, bias=True)\n",
              "              (value): Linear(in_features=768, out_features=768, bias=True)\n",
              "              (dropout): Dropout(p=0.1, inplace=False)\n",
              "            )\n",
              "            (output): BertSelfOutput(\n",
              "              (dense): Linear(in_features=768, out_features=768, bias=True)\n",
              "              (LayerNorm): LayerNorm((768,), eps=1e-12, elementwise_affine=True)\n",
              "              (dropout): Dropout(p=0.1, inplace=False)\n",
              "            )\n",
              "          )\n",
              "          (intermediate): BertIntermediate(\n",
              "            (dense): Linear(in_features=768, out_features=3072, bias=True)\n",
              "          )\n",
              "          (output): BertOutput(\n",
              "            (dense): Linear(in_features=3072, out_features=768, bias=True)\n",
              "            (LayerNorm): LayerNorm((768,), eps=1e-12, elementwise_affine=True)\n",
              "            (dropout): Dropout(p=0.1, inplace=False)\n",
              "          )\n",
              "        )\n",
              "        (11): BertLayer(\n",
              "          (attention): BertAttention(\n",
              "            (self): BertSelfAttention(\n",
              "              (query): Linear(in_features=768, out_features=768, bias=True)\n",
              "              (key): Linear(in_features=768, out_features=768, bias=True)\n",
              "              (value): Linear(in_features=768, out_features=768, bias=True)\n",
              "              (dropout): Dropout(p=0.1, inplace=False)\n",
              "            )\n",
              "            (output): BertSelfOutput(\n",
              "              (dense): Linear(in_features=768, out_features=768, bias=True)\n",
              "              (LayerNorm): LayerNorm((768,), eps=1e-12, elementwise_affine=True)\n",
              "              (dropout): Dropout(p=0.1, inplace=False)\n",
              "            )\n",
              "          )\n",
              "          (intermediate): BertIntermediate(\n",
              "            (dense): Linear(in_features=768, out_features=3072, bias=True)\n",
              "          )\n",
              "          (output): BertOutput(\n",
              "            (dense): Linear(in_features=3072, out_features=768, bias=True)\n",
              "            (LayerNorm): LayerNorm((768,), eps=1e-12, elementwise_affine=True)\n",
              "            (dropout): Dropout(p=0.1, inplace=False)\n",
              "          )\n",
              "        )\n",
              "      )\n",
              "    )\n",
              "    (pooler): BertPooler(\n",
              "      (dense): Linear(in_features=768, out_features=768, bias=True)\n",
              "      (activation): Tanh()\n",
              "    )\n",
              "  )\n",
              "  (dropout): Dropout(p=0.1, inplace=False)\n",
              "  (classifier): Linear(in_features=768, out_features=2, bias=True)\n",
              ")"
            ]
          },
          "metadata": {
            "tags": []
          },
          "execution_count": 21
        }
      ]
    },
    {
      "cell_type": "markdown",
      "metadata": {
        "id": "TVaHadmWH3aC"
      },
      "source": [
        "## 5.2 Change trainable parameters"
      ]
    },
    {
      "cell_type": "markdown",
      "metadata": {
        "id": "_xh5RMCaLmbd"
      },
      "source": [
        "Finally, I decided not to change the trainable parameters of the BERT model.However, those parameters can be changed by eanbling the cell below if needed for your project.\n",
        "In this tutorial, I will skip explaining the detail of this cell."
      ]
    },
    {
      "cell_type": "code",
      "metadata": {
        "colab": {
          "base_uri": "https://localhost:8080/",
          "height": 35
        },
        "id": "XY8FbthbwdgU",
        "outputId": "489f9bd7-2d0f-413b-89d7-cbbe06636067"
      },
      "source": [
        "# Change trainable parameters\n",
        "# https://github.com/huggingface/transformers/issues/400\n",
        "\n",
        "# When I fixed the BERT pretrained paramters for the model training, final performance for our project was not better than that of the unfixed version.\n",
        "# So, the code below are now commented out.\n",
        "'''\n",
        "for name, param in model.named_parameters():\n",
        "    if 'classifier' not in name: # classifier layer\n",
        "        #print(param.requires_grad)\n",
        "        param.requires_grad = False\n",
        "\n",
        "for name, param in model.named_parameters():\n",
        "    print(param.requires_grad)\n",
        "'''"
      ],
      "execution_count": 22,
      "outputs": [
        {
          "output_type": "execute_result",
          "data": {
            "application/vnd.google.colaboratory.intrinsic+json": {
              "type": "string"
            },
            "text/plain": [
              "\"\\nfor name, param in model.named_parameters():\\n    if 'classifier' not in name: # classifier layer\\n        #print(param.requires_grad)\\n        param.requires_grad = False\\n\\nfor name, param in model.named_parameters():\\n    print(param.requires_grad)\\n\""
            ]
          },
          "metadata": {
            "tags": []
          },
          "execution_count": 22
        }
      ]
    },
    {
      "cell_type": "markdown",
      "metadata": {
        "id": "vhKNLJJVA_bN"
      },
      "source": [
        "## 5.3 Optimizer and Learning Rate Scheduler"
      ]
    },
    {
      "cell_type": "code",
      "metadata": {
        "id": "MNknq4xbBDlg"
      },
      "source": [
        "# The code in this cell is inspired by the tech report made by my UIUC's class mate(zen030).\n",
        "# https://github.com/zen030/tech_review/blob/master/techreview.pdf\n",
        "\n",
        "# The learning rate and epsiron values are included in the values recommended by the BERT author.\n",
        "\n",
        "optimizer = AdamW(model.parameters(),\n",
        "                  lr = 2e-5,\n",
        "                  eps = 1e-8\n",
        "                )"
      ],
      "execution_count": 23,
      "outputs": []
    },
    {
      "cell_type": "code",
      "metadata": {
        "id": "isqMMO1lBQAw"
      },
      "source": [
        "from transformers import get_linear_schedule_with_warmup\n",
        "\n",
        "# Number of training epochs\n",
        "# From 2 to 4 is recommended by the BERT author.\n",
        "epochs = 2\n",
        "\n",
        "# Total number of training steps\n",
        "total_steps = len(train_dataloader) * epochs\n",
        "\n",
        "# Create the learning rate scheduler.\n",
        "scheduler = get_linear_schedule_with_warmup(optimizer, \n",
        "                                            num_warmup_steps = 0,\n",
        "                                            num_training_steps = total_steps)"
      ],
      "execution_count": 24,
      "outputs": []
    },
    {
      "cell_type": "markdown",
      "metadata": {
        "id": "NSfnYVFVF3z4"
      },
      "source": [
        "## 5.4 Training loop"
      ]
    },
    {
      "cell_type": "markdown",
      "metadata": {
        "id": "S8n98R_yQuXm"
      },
      "source": [
        "As we should reuse existing codes as much as possible (with proper citation), I decided to borrow the code from the below tutorial for the model training\n",
        "https://mccormickml.com/2019/07/22/BERT-fine-tuning/"
      ]
    },
    {
      "cell_type": "code",
      "metadata": {
        "id": "YREZD3sXBSP3"
      },
      "source": [
        "import numpy as np\n",
        "\n",
        "# This function is to calcurate the accuracy of the model predicetion vs groundtruth(labels)\n",
        "def flat_accuracy(preds, labels):\n",
        "    pred_flat = np.argmax(preds, axis=1).flatten()\n",
        "    labels_flat = labels.flatten()\n",
        "    return np.sum(pred_flat == labels_flat) / len(labels_flat)"
      ],
      "execution_count": 25,
      "outputs": []
    },
    {
      "cell_type": "code",
      "metadata": {
        "id": "HiaJawTyF6zI"
      },
      "source": [
        "import time\n",
        "import datetime\n",
        "\n",
        "# This function is for formatting the time to display understandably\n",
        "def format_time(elapsed):    \n",
        "    elapsed_rounded = int(round((elapsed)))\n",
        "    return str(datetime.timedelta(seconds=elapsed_rounded))\n"
      ],
      "execution_count": 26,
      "outputs": []
    },
    {
      "cell_type": "code",
      "metadata": {
        "colab": {
          "base_uri": "https://localhost:8080/"
        },
        "id": "w4tZHHrHGRSc",
        "outputId": "0436fbdb-76b6-4dc7-8ebe-09e0e9ff9dce"
      },
      "source": [
        "import random\n",
        "import numpy as np\n",
        "\n",
        "# For reproducing the same result\n",
        "# seed_val = 34 # Already defined\n",
        "random.seed(seed_val)\n",
        "np.random.seed(seed_val)\n",
        "torch.manual_seed(seed_val)\n",
        "torch.cuda.manual_seed_all(seed_val)\n",
        "\n",
        "# Save the start time\n",
        "total_t0 = time.time()\n",
        "\n",
        "# Epoch loop\n",
        "print(' ========================================================= ')\n",
        "print(' === The model training will take about 5 minutes. Just a moment please. ===')\n",
        "print(' ========================================================= ')\n",
        "for epoch_i in range(0, epochs):\n",
        "    \n",
        "\n",
        "    # ----------------------------------------- #\n",
        "    # (1) Training phase\n",
        "    # ----------------------------------------- #\n",
        "    # Perform one full pass over the training set.    \n",
        "    print(\"\")\n",
        "    print('======== Epoch {:} / {:} ========'.format(epoch_i + 1, epochs))\n",
        "    print(' ----------------------------------------- ')\n",
        "    print(' (1) Training phase ')\n",
        "    print(' ----------------------------------------- ')\n",
        "\n",
        "    # Measure how long the training epoch takes.\n",
        "    t0 = time.time()\n",
        "\n",
        "    # Reset the total loss for this epoch.\n",
        "    total_train_loss = 0\n",
        "\n",
        "    # Put the model into training mode\n",
        "    model.train()\n",
        "\n",
        "    # Batch loop\n",
        "    for step, batch in enumerate(train_dataloader):\n",
        "\n",
        "        # Display the elapsed time\n",
        "        if step % 10 == 0 and not step == 0:\n",
        "            elapsed = format_time(time.time() - t0)\n",
        "            print('  Batch {:>5,}  of  {:>5,}.    Elapsed: {:}.'.format(step, len(train_dataloader), elapsed))\n",
        "\n",
        "        # Copy the batch data to the GPU        \n",
        "        b_input_ids = batch[0].to(device) # batch[0]: input ids \n",
        "        b_input_mask = batch[1].to(device) # batch[1]: attention masks\n",
        "        b_labels = batch[2].to(device) # batch[2]: labels \n",
        "        b_token_type_ids = batch[3].to(device) # batch[3]: token_type_ids \n",
        "\n",
        "        # Clear any previously calculated gradients before performing a backward pass.\n",
        "        model.zero_grad()        \n",
        "\n",
        "        # Perform a forward pass\n",
        "        outputs = model(b_input_ids, \n",
        "                             # token_type_ids=None, \n",
        "                             token_type_ids=b_token_type_ids, \n",
        "                             attention_mask=b_input_mask, \n",
        "                             labels=b_labels)\n",
        "        \n",
        "        # print(outputs)\n",
        "        loss = outputs[0]\n",
        "        logits = outputs[1]\n",
        "\n",
        "        # Accumulate the training loss over all of the batches\n",
        "        total_train_loss += loss.item()\n",
        "\n",
        "        # Perform a backward pass to calculate the gradients\n",
        "        loss.backward()\n",
        "\n",
        "        # Clip the norm of the gradients to 1.0.\n",
        "        # This is to help prevent the \"exploding gradients\" problem.\n",
        "        torch.nn.utils.clip_grad_norm_(model.parameters(), 1.0)\n",
        "\n",
        "        # Update parameters and take a step using the computed gradient.\n",
        "        optimizer.step()\n",
        "\n",
        "        # Update the learning rate.\n",
        "        scheduler.step()\n",
        "\n",
        "    # Calculate the average loss over all of the batches.\n",
        "    avg_train_loss = total_train_loss / len(train_dataloader)            \n",
        "    \n",
        "    # Measure how long this epoch took.\n",
        "    training_time = format_time(time.time() - t0)\n",
        "\n",
        "    print(\"\")\n",
        "    print(\"  Average training loss: {0:.2f}\".format(avg_train_loss))\n",
        "    print(\"  Training epcoh took: {:}\".format(training_time))\n",
        "        \n",
        "    # ----------------------------------------- #\n",
        "    # (2) Validation phase\n",
        "    # ----------------------------------------- #\n",
        "    print(\"\")\n",
        "    print(' ----------------------------------------- ')\n",
        "    print(' (2) Validation phase ')\n",
        "    print(' ----------------------------------------- ')\n",
        "\n",
        "    t0 = time.time()\n",
        "\n",
        "    # Put the model in evaluation mode\n",
        "    model.eval()\n",
        "\n",
        "    # Tracking variables \n",
        "    total_eval_accuracy = 0\n",
        "    total_eval_loss = 0\n",
        "    nb_eval_steps = 0\n",
        "\n",
        "    # Batch loop\n",
        "    for batch in validation_dataloader:\n",
        "        \n",
        "        # Copy the batch data to the GPU\n",
        "        b_input_ids = batch[0].to(device)  # batch[0]: input ids \n",
        "        b_input_mask = batch[1].to(device) # batch[1]: attention masks\n",
        "        b_labels = batch[2].to(device) # batch[2]: labels \n",
        "        b_token_type_ids = batch[3].to(device) # batch[3]: token_type_ids \n",
        "        \n",
        "        # Telling the model not to compute or store gradients, saving memory and \n",
        "        # speeding up prediction\n",
        "        with torch.no_grad():        \n",
        "            outputs = model(b_input_ids, \n",
        "                                   # token_type_ids=None,\n",
        "                                   token_type_ids=b_token_type_ids, \n",
        "                                   attention_mask=b_input_mask,\n",
        "                                   labels=b_labels)\n",
        "            loss = outputs[0]\n",
        "            logits = outputs[1]\n",
        "              \n",
        "        # Accumulate the validation loss\n",
        "        total_eval_loss += loss.item()\n",
        "\n",
        "        # Copy the logits and the labels to CPU\n",
        "        logits = logits.detach().cpu().numpy()\n",
        "        label_ids = b_labels.to('cpu').numpy()\n",
        "\n",
        "        # Calculate the accuracy\n",
        "        total_eval_accuracy += flat_accuracy(logits, label_ids)\n",
        "        \n",
        "\n",
        "    # Report the final accuracy for this validation run.\n",
        "    avg_val_accuracy = total_eval_accuracy / len(validation_dataloader)\n",
        "    print(\"  Accuracy: {0:.2f}\".format(avg_val_accuracy))\n",
        "\n",
        "    # Calculate the average loss over all of the batches.\n",
        "    avg_val_loss = total_eval_loss / len(validation_dataloader)\n",
        "    \n",
        "    # Measure how long the validation run took.\n",
        "    validation_time = format_time(time.time() - t0)\n",
        "    \n",
        "    print(\"  Validation Loss: {0:.2f}\".format(avg_val_loss))\n",
        "    print(\"  Validation took: {:}\".format(validation_time))\n",
        "\n",
        "print('')\n",
        "print(' --------------- Finish --------------- ')\n",
        "print(\"Total training time {:} (h:mm:ss)\".format(format_time(time.time()-total_t0)))"
      ],
      "execution_count": 27,
      "outputs": [
        {
          "output_type": "stream",
          "text": [
            " ========================================================= \n",
            " === The model training will take about 5 minutes. Just a moment please. ===\n",
            " ========================================================= \n",
            "\n",
            "======== Epoch 1 / 2 ========\n",
            " ----------------------------------------- \n",
            " (1) Training phase \n",
            " ----------------------------------------- \n",
            "  Batch    10  of    141.    Elapsed: 0:00:11.\n",
            "  Batch    20  of    141.    Elapsed: 0:00:22.\n",
            "  Batch    30  of    141.    Elapsed: 0:00:34.\n",
            "  Batch    40  of    141.    Elapsed: 0:00:45.\n",
            "  Batch    50  of    141.    Elapsed: 0:00:56.\n",
            "  Batch    60  of    141.    Elapsed: 0:01:07.\n",
            "  Batch    70  of    141.    Elapsed: 0:01:18.\n",
            "  Batch    80  of    141.    Elapsed: 0:01:29.\n",
            "  Batch    90  of    141.    Elapsed: 0:01:40.\n",
            "  Batch   100  of    141.    Elapsed: 0:01:51.\n",
            "  Batch   110  of    141.    Elapsed: 0:02:02.\n",
            "  Batch   120  of    141.    Elapsed: 0:02:13.\n",
            "  Batch   130  of    141.    Elapsed: 0:02:24.\n",
            "  Batch   140  of    141.    Elapsed: 0:02:35.\n",
            "\n",
            "  Average training loss: 0.55\n",
            "  Training epcoh took: 0:02:36\n",
            "\n",
            " ----------------------------------------- \n",
            " (2) Validation phase \n",
            " ----------------------------------------- \n",
            "  Accuracy: 0.79\n",
            "  Validation Loss: 0.48\n",
            "  Validation took: 0:00:06\n",
            "\n",
            "======== Epoch 2 / 2 ========\n",
            " ----------------------------------------- \n",
            " (1) Training phase \n",
            " ----------------------------------------- \n",
            "  Batch    10  of    141.    Elapsed: 0:00:11.\n",
            "  Batch    20  of    141.    Elapsed: 0:00:22.\n",
            "  Batch    30  of    141.    Elapsed: 0:00:33.\n",
            "  Batch    40  of    141.    Elapsed: 0:00:44.\n",
            "  Batch    50  of    141.    Elapsed: 0:00:55.\n",
            "  Batch    60  of    141.    Elapsed: 0:01:06.\n",
            "  Batch    70  of    141.    Elapsed: 0:01:17.\n",
            "  Batch    80  of    141.    Elapsed: 0:01:28.\n",
            "  Batch    90  of    141.    Elapsed: 0:01:39.\n",
            "  Batch   100  of    141.    Elapsed: 0:01:50.\n",
            "  Batch   110  of    141.    Elapsed: 0:02:01.\n",
            "  Batch   120  of    141.    Elapsed: 0:02:12.\n",
            "  Batch   130  of    141.    Elapsed: 0:02:23.\n",
            "  Batch   140  of    141.    Elapsed: 0:02:34.\n",
            "\n",
            "  Average training loss: 0.41\n",
            "  Training epcoh took: 0:02:35\n",
            "\n",
            " ----------------------------------------- \n",
            " (2) Validation phase \n",
            " ----------------------------------------- \n",
            "  Accuracy: 0.79\n",
            "  Validation Loss: 0.46\n",
            "  Validation took: 0:00:06\n",
            "\n",
            " --------------- Finish --------------- \n",
            "Total training time 0:05:24 (h:mm:ss)\n"
          ],
          "name": "stdout"
        }
      ]
    },
    {
      "cell_type": "markdown",
      "metadata": {
        "id": "FnVWToUuS6al"
      },
      "source": [
        "In order to check if the model training is good enough(not underfit and not overfit), we should check the accuracy and the losses by changing the number or epocs etc. However, in my case, the F1 score for the test data set using this model beat the baseline performance even though it was a first trial. As our goal is to beat the baseline performance (not to beat the all competitors), I decided to finish the model training with these parameters. "
      ]
    },
    {
      "cell_type": "markdown",
      "metadata": {
        "id": "0VAb6iEWJRIE"
      },
      "source": [
        "# 6. Evaluate on Test set"
      ]
    },
    {
      "cell_type": "markdown",
      "metadata": {
        "id": "EhqRZ4DJIPoC"
      },
      "source": [
        "## 6.1 Test data download"
      ]
    },
    {
      "cell_type": "code",
      "metadata": {
        "colab": {
          "base_uri": "https://localhost:8080/"
        },
        "id": "ny5pk8vUJBOG",
        "outputId": "e978ff02-4e35-4b68-8fe2-66b0d7f2faad"
      },
      "source": [
        "# Download the test file from project github repo\n",
        "if not os.path.exists('./test.jsonl'):\n",
        "    wget.download('https://github.com/CS410Fall2020/ClassificationCompetition/raw/main/data/test.jsonl')\n",
        "    print('Downloading test.jsonl')\n",
        "else:\n",
        "    print('test.jsonl is already exist')"
      ],
      "execution_count": 28,
      "outputs": [
        {
          "output_type": "stream",
          "text": [
            "Downloading test.jsonl\n"
          ],
          "name": "stdout"
        }
      ]
    },
    {
      "cell_type": "code",
      "metadata": {
        "colab": {
          "base_uri": "https://localhost:8080/",
          "height": 238
        },
        "id": "3Cv6lDIzMqgh",
        "outputId": "273b47d8-4f33-4d1f-9cf5-9fe536ae6071"
      },
      "source": [
        "import pandas as pd\n",
        "# Load the train data as pandas dataframwe\n",
        "df = pd.read_json('./test.jsonl', orient='records', lines=True)\n",
        "\n",
        "print('Number of training data: {:,}\\n'.format(df.shape[0]))\n",
        "\n",
        "# check the train data\n",
        "df.sample(n=5, random_state=0)"
      ],
      "execution_count": 29,
      "outputs": [
        {
          "output_type": "stream",
          "text": [
            "Number of training data: 1,800\n",
            "\n"
          ],
          "name": "stdout"
        },
        {
          "output_type": "execute_result",
          "data": {
            "text/html": [
              "<div>\n",
              "<style scoped>\n",
              "    .dataframe tbody tr th:only-of-type {\n",
              "        vertical-align: middle;\n",
              "    }\n",
              "\n",
              "    .dataframe tbody tr th {\n",
              "        vertical-align: top;\n",
              "    }\n",
              "\n",
              "    .dataframe thead th {\n",
              "        text-align: right;\n",
              "    }\n",
              "</style>\n",
              "<table border=\"1\" class=\"dataframe\">\n",
              "  <thead>\n",
              "    <tr style=\"text-align: right;\">\n",
              "      <th></th>\n",
              "      <th>id</th>\n",
              "      <th>response</th>\n",
              "      <th>context</th>\n",
              "    </tr>\n",
              "  </thead>\n",
              "  <tbody>\n",
              "    <tr>\n",
              "      <th>597</th>\n",
              "      <td>twitter_598</td>\n",
              "      <td>@USER @USER @USER I see what you did there ! N...</td>\n",
              "      <td>[Pelosi and her corrupt-hate filled Democrats ...</td>\n",
              "    </tr>\n",
              "    <tr>\n",
              "      <th>831</th>\n",
              "      <td>twitter_832</td>\n",
              "      <td>@USER Also , thanks for your kind words .</td>\n",
              "      <td>[After such a shitty day / week / month / LIFE...</td>\n",
              "    </tr>\n",
              "    <tr>\n",
              "      <th>1174</th>\n",
              "      <td>twitter_1175</td>\n",
              "      <td>@USER @USER Why should so-called ‘ universal l...</td>\n",
              "      <td>[Gotta say , ' Horrible Histories ' - which is...</td>\n",
              "    </tr>\n",
              "    <tr>\n",
              "      <th>467</th>\n",
              "      <td>twitter_468</td>\n",
              "      <td>@USER @USER Pierre Delecto always knows how to...</td>\n",
              "      <td>[Well well well . Maybe this backlash against ...</td>\n",
              "    </tr>\n",
              "    <tr>\n",
              "      <th>1722</th>\n",
              "      <td>twitter_1723</td>\n",
              "      <td>@USER @USER @USER they were murdered in a plac...</td>\n",
              "      <td>[Two years ago today , a gunman entered Marjor...</td>\n",
              "    </tr>\n",
              "  </tbody>\n",
              "</table>\n",
              "</div>"
            ],
            "text/plain": [
              "                id  ...                                            context\n",
              "597    twitter_598  ...  [Pelosi and her corrupt-hate filled Democrats ...\n",
              "831    twitter_832  ...  [After such a shitty day / week / month / LIFE...\n",
              "1174  twitter_1175  ...  [Gotta say , ' Horrible Histories ' - which is...\n",
              "467    twitter_468  ...  [Well well well . Maybe this backlash against ...\n",
              "1722  twitter_1723  ...  [Two years ago today , a gunman entered Marjor...\n",
              "\n",
              "[5 rows x 3 columns]"
            ]
          },
          "metadata": {
            "tags": []
          },
          "execution_count": 29
        }
      ]
    },
    {
      "cell_type": "markdown",
      "metadata": {
        "id": "pK_1cUQRxE4Z"
      },
      "source": [
        "As we can see, the correct labels are not included as it is test data, but the other data is same as training data set."
      ]
    },
    {
      "cell_type": "markdown",
      "metadata": {
        "id": "AgeFg25Mxa8e"
      },
      "source": [
        "## 6.2 Create the \"pre_comment\" column by dividing the context infomation"
      ]
    },
    {
      "cell_type": "code",
      "metadata": {
        "id": "Gr_-u9ytPPxa"
      },
      "source": [
        "import re\n",
        "\n",
        "def split_context(a_string):\n",
        "    stripped_string = str(a_string).strip('[]').strip('\\'\\\"')\n",
        "    pattern = '\\\", \\\"|\\', \\'|\\', \\\"|\\\", \\''\n",
        "    splitted_string = re.split(pattern, stripped_string)\n",
        "    splitted_string = [x for x in splitted_string if x is not None]\n",
        "    return pd.Series([splitted_string[0], len(splitted_string)])\n",
        "\n",
        "# Create \"comment_num\" column from context information\n",
        "df[['pre_comment', 'comment_num']] = df['context'].apply(split_context)\n",
        "# df.sample(n=5, random_state=0)"
      ],
      "execution_count": 30,
      "outputs": []
    },
    {
      "cell_type": "markdown",
      "metadata": {
        "id": "S7AH6agCxhZz"
      },
      "source": [
        "## 6.3 Remove the unnecessary string(@USER)"
      ]
    },
    {
      "cell_type": "code",
      "metadata": {
        "id": "vDmZqyuBPi_3"
      },
      "source": [
        "def remove_strings(a_string):\n",
        "    stripped_string = str(a_string).lstrip('(@USER )')\n",
        "    return stripped_string\n",
        "\n",
        "df['response'] = df['response'].apply(remove_strings)\n",
        "df['pre_comment'] = df['pre_comment'].apply(remove_strings)\n",
        "# df.sample(n=5, random_state=0)"
      ],
      "execution_count": 31,
      "outputs": []
    },
    {
      "cell_type": "markdown",
      "metadata": {
        "id": "b1tY2u7Fx8Ft"
      },
      "source": [
        "## 6.4 Concatenate the response and the pre comment"
      ]
    },
    {
      "cell_type": "code",
      "metadata": {
        "id": "-vXHD4DSPwtD"
      },
      "source": [
        "def make_input_pair(df):\n",
        "    return [df['response'], df['pre_comment']]\n",
        "\n",
        "df['input_pair'] = df.apply(make_input_pair, axis=1)\n",
        "# df.sample(n=5, random_state=0)"
      ],
      "execution_count": 32,
      "outputs": []
    },
    {
      "cell_type": "markdown",
      "metadata": {
        "id": "fA6P701jyO0p"
      },
      "source": [
        "## 6.5 Check the maxmum input length"
      ]
    },
    {
      "cell_type": "code",
      "metadata": {
        "colab": {
          "base_uri": "https://localhost:8080/"
        },
        "id": "E3TQRVDXjTt1",
        "outputId": "50fd8073-fc7f-4b69-bd72-092fa1d47516"
      },
      "source": [
        "def test_func(df):    \n",
        "    return len(tokenizer.encode(df['input_pair'][0], df['input_pair'][1]))\n",
        "\n",
        "df['len_input_pair'] = df.apply(test_func, axis=1)\n",
        "print(df['len_input_pair'].max())\n",
        "print(' Confirmed that the maximum length(185) is good enough for the test set as well')"
      ],
      "execution_count": 33,
      "outputs": [
        {
          "output_type": "stream",
          "text": [
            "157\n",
            " Confirmed that the maximum length(185) is good enough for the test set as well\n"
          ],
          "name": "stdout"
        }
      ]
    },
    {
      "cell_type": "markdown",
      "metadata": {
        "id": "eIEApRThyrBk"
      },
      "source": [
        "## 6.6 Data Encoding and Data loader creating"
      ]
    },
    {
      "cell_type": "code",
      "metadata": {
        "id": "2qXuOolXQCco"
      },
      "source": [
        "encoded_data = tokenizer.batch_encode_plus(\n",
        "                    df['input_pair'],\n",
        "                    add_special_tokens=True,\n",
        "                    return_attention_mask=True,\n",
        "                    max_length=185,\n",
        "                    padding='max_length',\n",
        "                    return_tensors='pt'                    \n",
        "                )"
      ],
      "execution_count": 34,
      "outputs": []
    },
    {
      "cell_type": "code",
      "metadata": {
        "id": "Gqf7j9hSjKuN"
      },
      "source": [
        "# Convert the lists into tensors\n",
        "input_ids_test = encoded_data['input_ids']\n",
        "attention_masks_test = encoded_data['attention_mask']\n",
        "token_type_ids_test = encoded_data['token_type_ids']\n",
        "# labels_test = torch.tensor(df['label_num'].values)"
      ],
      "execution_count": 35,
      "outputs": []
    },
    {
      "cell_type": "code",
      "metadata": {
        "id": "KpB81x31jxzK"
      },
      "source": [
        "batch_size = 32\n",
        "\n",
        "# Combine the training inputs into a TensorDataset.0\n",
        "#dataset = TensorDataset(input_ids_test, attention_masks_test, labels_test)\n",
        "dataset = TensorDataset(input_ids_test, attention_masks_test, token_type_ids_test)\n",
        "\n",
        "prediction_dataloader = DataLoader(\n",
        "            dataset,\n",
        "            sampler=SequentialSampler(dataset),\n",
        "            batch_size=batch_size\n",
        "        )"
      ],
      "execution_count": 36,
      "outputs": []
    },
    {
      "cell_type": "markdown",
      "metadata": {
        "id": "hmunUD5mHpAM"
      },
      "source": [
        "## 6.7 Prediction on test data"
      ]
    },
    {
      "cell_type": "markdown",
      "metadata": {
        "id": "0ab7Xo5M0fth"
      },
      "source": [
        "Prediction on the test data is done by using the same procedure as the validation data set"
      ]
    },
    {
      "cell_type": "code",
      "metadata": {
        "colab": {
          "base_uri": "https://localhost:8080/"
        },
        "id": "Yt0zTQZDlZn3",
        "outputId": "064fcfc8-0da7-40e7-e658-4eb977b3ed34"
      },
      "source": [
        "# Prediction on test set\n",
        "print('Predicting labels for {:,} test sentences...'.format(len(input_ids_test)))\n",
        "\n",
        "# Put model in evaluation mode\n",
        "model.eval()\n",
        "\n",
        "# Predictions\n",
        "predictions = []\n",
        "\n",
        "# Predict \n",
        "for batch in prediction_dataloader:\n",
        "  # Add batch to GPU\n",
        "  batch = tuple(t.to(device) for t in batch)\n",
        "  \n",
        "  # Unpack the inputs from our dataloader\n",
        "  b_input_ids, b_input_mask, b_token_type_ids = batch\n",
        "  \n",
        "  # Telling the model not to compute or store gradients, saving memory and \n",
        "  # speeding up prediction\n",
        "  with torch.no_grad():\n",
        "      # Forward pass, calculate logit predictions\n",
        "      outputs = model(b_input_ids,\n",
        "                      # token_type_ids=None, \n",
        "                      token_type_ids=b_token_type_ids,\n",
        "                      attention_mask=b_input_mask)\n",
        "\n",
        "  logits = outputs[0]\n",
        "\n",
        "  # Move logits and labels to CPU\n",
        "  logits = logits.detach().cpu().numpy()\n",
        "  \n",
        "  # Store predictions and true labels\n",
        "  predictions.append(logits)\n",
        "\n",
        "print('')\n",
        "print(' --------------- Finish --------------- ')"
      ],
      "execution_count": 37,
      "outputs": [
        {
          "output_type": "stream",
          "text": [
            "Predicting labels for 1,800 test sentences...\n",
            "\n",
            " --------------- Finish --------------- \n"
          ],
          "name": "stdout"
        }
      ]
    },
    {
      "cell_type": "markdown",
      "metadata": {
        "id": "UdYT7guFy9M6"
      },
      "source": [
        "## 6.8 Softmax and convert the numerical label(0/1) to the string label(SARCASN/NOT_SARCASM)"
      ]
    },
    {
      "cell_type": "code",
      "metadata": {
        "colab": {
          "base_uri": "https://localhost:8080/",
          "height": 419
        },
        "id": "GIbZIijooyln",
        "outputId": "ab6cb2b1-24b7-4993-a20e-e51d28146804"
      },
      "source": [
        "df['predicted_value'] = [item for l in predictions for item in l]\n",
        "df['pred_flat'] = [np.argmax(item) for l in predictions for item in l]\n",
        "df['pred_flat_label'] = df['pred_flat'].apply(lambda x: 'SARCASM' if x==1 else 'NOT_SARCASM')\n",
        "df.loc[:,['id', 'response', 'pre_comment', 'pred_flat_label']]"
      ],
      "execution_count": 38,
      "outputs": [
        {
          "output_type": "execute_result",
          "data": {
            "text/html": [
              "<div>\n",
              "<style scoped>\n",
              "    .dataframe tbody tr th:only-of-type {\n",
              "        vertical-align: middle;\n",
              "    }\n",
              "\n",
              "    .dataframe tbody tr th {\n",
              "        vertical-align: top;\n",
              "    }\n",
              "\n",
              "    .dataframe thead th {\n",
              "        text-align: right;\n",
              "    }\n",
              "</style>\n",
              "<table border=\"1\" class=\"dataframe\">\n",
              "  <thead>\n",
              "    <tr style=\"text-align: right;\">\n",
              "      <th></th>\n",
              "      <th>id</th>\n",
              "      <th>response</th>\n",
              "      <th>pre_comment</th>\n",
              "      <th>pred_flat_label</th>\n",
              "    </tr>\n",
              "  </thead>\n",
              "  <tbody>\n",
              "    <tr>\n",
              "      <th>0</th>\n",
              "      <td>twitter_1</td>\n",
              "      <td>My 3 year old , that just finished reading Nie...</td>\n",
              "      <td>Well now that ’ s problematic AF &lt;URL&gt;</td>\n",
              "      <td>NOT_SARCASM</td>\n",
              "    </tr>\n",
              "    <tr>\n",
              "      <th>1</th>\n",
              "      <td>twitter_2</td>\n",
              "      <td>How many verifiable lies has he told now ? 15,...</td>\n",
              "      <td>Last week the Fake News said that a section of...</td>\n",
              "      <td>SARCASM</td>\n",
              "    </tr>\n",
              "    <tr>\n",
              "      <th>2</th>\n",
              "      <td>twitter_3</td>\n",
              "      <td>Maybe Docs just a scrub of a coach ... I mean ...</td>\n",
              "      <td>Let ’ s Aplaud Brett When he deserves it he co...</td>\n",
              "      <td>SARCASM</td>\n",
              "    </tr>\n",
              "    <tr>\n",
              "      <th>3</th>\n",
              "      <td>twitter_4</td>\n",
              "      <td>is just a cover up for the real hate inside @U...</td>\n",
              "      <td>Women generally hate this president . What's u...</td>\n",
              "      <td>SARCASM</td>\n",
              "    </tr>\n",
              "    <tr>\n",
              "      <th>4</th>\n",
              "      <td>twitter_5</td>\n",
              "      <td>The irony being that he even has to ask why .</td>\n",
              "      <td>Dear media Remoaners , you excitedly sharing c...</td>\n",
              "      <td>SARCASM</td>\n",
              "    </tr>\n",
              "    <tr>\n",
              "      <th>...</th>\n",
              "      <td>...</td>\n",
              "      <td>...</td>\n",
              "      <td>...</td>\n",
              "      <td>...</td>\n",
              "    </tr>\n",
              "    <tr>\n",
              "      <th>1795</th>\n",
              "      <td>twitter_1796</td>\n",
              "      <td>is definitely the best out there . No question...</td>\n",
              "      <td>I have been a business customer of MWeb @USER ...</td>\n",
              "      <td>NOT_SARCASM</td>\n",
              "    </tr>\n",
              "    <tr>\n",
              "      <th>1796</th>\n",
              "      <td>twitter_1797</td>\n",
              "      <td>Ye let her out run wild and infect 10000 more ...</td>\n",
              "      <td>A woman refuses to have her temperature taken ...</td>\n",
              "      <td>SARCASM</td>\n",
              "    </tr>\n",
              "    <tr>\n",
              "      <th>1797</th>\n",
              "      <td>twitter_1798</td>\n",
              "      <td>Thanks for that , I would have never known .</td>\n",
              "      <td>The reason big government wants @USER out is b...</td>\n",
              "      <td>SARCASM</td>\n",
              "    </tr>\n",
              "    <tr>\n",
              "      <th>1798</th>\n",
              "      <td>twitter_1799</td>\n",
              "      <td>Yes also #found this on #new with loads of &lt;UR...</td>\n",
              "      <td>Happy #musicmonday and #thanks for #all your 😎...</td>\n",
              "      <td>NOT_SARCASM</td>\n",
              "    </tr>\n",
              "    <tr>\n",
              "      <th>1799</th>\n",
              "      <td>twitter_1800</td>\n",
              "      <td>you still need to send the link to the fan you...</td>\n",
              "      <td>Not long wrapped on the amazing #January22nd W...</td>\n",
              "      <td>NOT_SARCASM</td>\n",
              "    </tr>\n",
              "  </tbody>\n",
              "</table>\n",
              "<p>1800 rows × 4 columns</p>\n",
              "</div>"
            ],
            "text/plain": [
              "                id  ... pred_flat_label\n",
              "0        twitter_1  ...     NOT_SARCASM\n",
              "1        twitter_2  ...         SARCASM\n",
              "2        twitter_3  ...         SARCASM\n",
              "3        twitter_4  ...         SARCASM\n",
              "4        twitter_5  ...         SARCASM\n",
              "...            ...  ...             ...\n",
              "1795  twitter_1796  ...     NOT_SARCASM\n",
              "1796  twitter_1797  ...         SARCASM\n",
              "1797  twitter_1798  ...         SARCASM\n",
              "1798  twitter_1799  ...     NOT_SARCASM\n",
              "1799  twitter_1800  ...     NOT_SARCASM\n",
              "\n",
              "[1800 rows x 4 columns]"
            ]
          },
          "metadata": {
            "tags": []
          },
          "execution_count": 38
        }
      ]
    },
    {
      "cell_type": "markdown",
      "metadata": {
        "id": "-x0qBwTc29Eb"
      },
      "source": [
        "We can see that the label(NOT_SARCASM or SARCASM) was pridicted based on the response and the latest context information."
      ]
    },
    {
      "cell_type": "markdown",
      "metadata": {
        "id": "g2RqTAv_t9Bg"
      },
      "source": [
        "## 6.9 Save the predicted results to csv"
      ]
    },
    {
      "cell_type": "code",
      "metadata": {
        "id": "n5FDuilbtdS9"
      },
      "source": [
        "# Save the pridicted string label as text file without index and header\n",
        "df.loc[:, ['id', 'pred_flat_label']].to_csv('reproduced_answer.txt', sep=',', index=False, header=False)"
      ],
      "execution_count": 39,
      "outputs": []
    },
    {
      "cell_type": "markdown",
      "metadata": {
        "id": "AAVoFhExzicT"
      },
      "source": [
        "You can see the reproduced_answer.txt is generated in the folder below.\n",
        "If you cannot see the file, please reload the page by clicking the folder icon."
      ]
    },
    {
      "cell_type": "markdown",
      "metadata": {
        "id": "WBLaKXz_-SHe"
      },
      "source": [
        "![Screen Shot 2020-12-13 at 02.20.02.png](data:image/png;base64,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)"
      ]
    },
    {
      "cell_type": "markdown",
      "metadata": {
        "id": "2VwlwmvB2PVk"
      },
      "source": [
        "# 7. Comapre to the submitted prediction result"
      ]
    },
    {
      "cell_type": "markdown",
      "metadata": {
        "id": "py9lqAfP6jEg"
      },
      "source": [
        "## 7.1 Download the submitted prediction file"
      ]
    },
    {
      "cell_type": "code",
      "metadata": {
        "id": "ENnHc2z02VGA",
        "colab": {
          "base_uri": "https://localhost:8080/"
        },
        "outputId": "4fd4f6b9-c381-41c1-bfe5-974bf9145a48"
      },
      "source": [
        "import wget\n",
        "import os\n",
        "\n",
        "# Download the submitted prediction file from my project github repo\n",
        "if not os.path.exists('./answer.txt'):\n",
        "    wget.download('https://raw.githubusercontent.com/RyoTakaki/CourseProject/main/answer.txt')\n",
        "    print('Downloading the answer.txt')\n",
        "else:\n",
        "    print('answer.txt is already exist')"
      ],
      "execution_count": 40,
      "outputs": [
        {
          "output_type": "stream",
          "text": [
            "Downloading the answer.txt\n"
          ],
          "name": "stdout"
        }
      ]
    },
    {
      "cell_type": "markdown",
      "metadata": {
        "id": "nbOZ_-WC8ObN"
      },
      "source": [
        "## 7.2 Compare the answer.txt and the reproduced_answer.txt"
      ]
    },
    {
      "cell_type": "code",
      "metadata": {
        "colab": {
          "base_uri": "https://localhost:8080/",
          "height": 419
        },
        "id": "lw9Owyek-iaZ",
        "outputId": "fc002cc2-2cb4-4e70-9f10-21f6df50fb84"
      },
      "source": [
        "import pandas as pd\n",
        "# Load the answer.txt and the reproduced_answer.txt as pandas dataframe\n",
        "df = pd.read_csv('./answer.txt', header=None, names=[\"id\",\"Pred_original\"])\n",
        "df_tmp = pd.read_csv('./reproduced_answer.txt', header=None, names=[\"id\",\"Pred_reproduce\"])\n",
        "df = df.merge(df_tmp)\n",
        "df['Same'] = (df['Pred_original'] == df['Pred_reproduce'])\n",
        "df"
      ],
      "execution_count": 41,
      "outputs": [
        {
          "output_type": "execute_result",
          "data": {
            "text/html": [
              "<div>\n",
              "<style scoped>\n",
              "    .dataframe tbody tr th:only-of-type {\n",
              "        vertical-align: middle;\n",
              "    }\n",
              "\n",
              "    .dataframe tbody tr th {\n",
              "        vertical-align: top;\n",
              "    }\n",
              "\n",
              "    .dataframe thead th {\n",
              "        text-align: right;\n",
              "    }\n",
              "</style>\n",
              "<table border=\"1\" class=\"dataframe\">\n",
              "  <thead>\n",
              "    <tr style=\"text-align: right;\">\n",
              "      <th></th>\n",
              "      <th>id</th>\n",
              "      <th>Pred_original</th>\n",
              "      <th>Pred_reproduce</th>\n",
              "      <th>Same</th>\n",
              "    </tr>\n",
              "  </thead>\n",
              "  <tbody>\n",
              "    <tr>\n",
              "      <th>0</th>\n",
              "      <td>twitter_1</td>\n",
              "      <td>NOT_SARCASM</td>\n",
              "      <td>NOT_SARCASM</td>\n",
              "      <td>True</td>\n",
              "    </tr>\n",
              "    <tr>\n",
              "      <th>1</th>\n",
              "      <td>twitter_2</td>\n",
              "      <td>SARCASM</td>\n",
              "      <td>SARCASM</td>\n",
              "      <td>True</td>\n",
              "    </tr>\n",
              "    <tr>\n",
              "      <th>2</th>\n",
              "      <td>twitter_3</td>\n",
              "      <td>SARCASM</td>\n",
              "      <td>SARCASM</td>\n",
              "      <td>True</td>\n",
              "    </tr>\n",
              "    <tr>\n",
              "      <th>3</th>\n",
              "      <td>twitter_4</td>\n",
              "      <td>SARCASM</td>\n",
              "      <td>SARCASM</td>\n",
              "      <td>True</td>\n",
              "    </tr>\n",
              "    <tr>\n",
              "      <th>4</th>\n",
              "      <td>twitter_5</td>\n",
              "      <td>SARCASM</td>\n",
              "      <td>SARCASM</td>\n",
              "      <td>True</td>\n",
              "    </tr>\n",
              "    <tr>\n",
              "      <th>...</th>\n",
              "      <td>...</td>\n",
              "      <td>...</td>\n",
              "      <td>...</td>\n",
              "      <td>...</td>\n",
              "    </tr>\n",
              "    <tr>\n",
              "      <th>1795</th>\n",
              "      <td>twitter_1796</td>\n",
              "      <td>NOT_SARCASM</td>\n",
              "      <td>NOT_SARCASM</td>\n",
              "      <td>True</td>\n",
              "    </tr>\n",
              "    <tr>\n",
              "      <th>1796</th>\n",
              "      <td>twitter_1797</td>\n",
              "      <td>SARCASM</td>\n",
              "      <td>SARCASM</td>\n",
              "      <td>True</td>\n",
              "    </tr>\n",
              "    <tr>\n",
              "      <th>1797</th>\n",
              "      <td>twitter_1798</td>\n",
              "      <td>SARCASM</td>\n",
              "      <td>SARCASM</td>\n",
              "      <td>True</td>\n",
              "    </tr>\n",
              "    <tr>\n",
              "      <th>1798</th>\n",
              "      <td>twitter_1799</td>\n",
              "      <td>NOT_SARCASM</td>\n",
              "      <td>NOT_SARCASM</td>\n",
              "      <td>True</td>\n",
              "    </tr>\n",
              "    <tr>\n",
              "      <th>1799</th>\n",
              "      <td>twitter_1800</td>\n",
              "      <td>NOT_SARCASM</td>\n",
              "      <td>NOT_SARCASM</td>\n",
              "      <td>True</td>\n",
              "    </tr>\n",
              "  </tbody>\n",
              "</table>\n",
              "<p>1800 rows × 4 columns</p>\n",
              "</div>"
            ],
            "text/plain": [
              "                id Pred_original Pred_reproduce  Same\n",
              "0        twitter_1   NOT_SARCASM    NOT_SARCASM  True\n",
              "1        twitter_2       SARCASM        SARCASM  True\n",
              "2        twitter_3       SARCASM        SARCASM  True\n",
              "3        twitter_4       SARCASM        SARCASM  True\n",
              "4        twitter_5       SARCASM        SARCASM  True\n",
              "...            ...           ...            ...   ...\n",
              "1795  twitter_1796   NOT_SARCASM    NOT_SARCASM  True\n",
              "1796  twitter_1797       SARCASM        SARCASM  True\n",
              "1797  twitter_1798       SARCASM        SARCASM  True\n",
              "1798  twitter_1799   NOT_SARCASM    NOT_SARCASM  True\n",
              "1799  twitter_1800   NOT_SARCASM    NOT_SARCASM  True\n",
              "\n",
              "[1800 rows x 4 columns]"
            ]
          },
          "metadata": {
            "tags": []
          },
          "execution_count": 41
        }
      ]
    },
    {
      "cell_type": "code",
      "metadata": {
        "colab": {
          "base_uri": "https://localhost:8080/"
        },
        "id": "6nMjZKqJBgj8",
        "outputId": "17b2891a-2f3d-4480-9e12-119cfa8a5ea9"
      },
      "source": [
        "same_data = (df['Same'] == True)\n",
        "print('{} / {} data is same'.format(same_data.sum(), len(same_data)))"
      ],
      "execution_count": 42,
      "outputs": [
        {
          "output_type": "stream",
          "text": [
            "1800 / 1800 data is same\n"
          ],
          "name": "stdout"
        }
      ]
    },
    {
      "cell_type": "markdown",
      "metadata": {
        "id": "sijc7iYP95ky"
      },
      "source": [
        "We can see that all the predition results are same as the submitted predictions."
      ]
    }
  ]
}